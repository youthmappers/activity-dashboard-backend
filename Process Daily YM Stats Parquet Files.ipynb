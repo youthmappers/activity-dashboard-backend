{
 "cells": [
  {
   "cell_type": "code",
   "execution_count": 1,
   "id": "present-victim",
   "metadata": {
    "ExecuteTime": {
     "end_time": "2023-12-21T02:23:17.658939Z",
     "start_time": "2023-12-21T02:23:13.612202Z"
    }
   },
   "outputs": [],
   "source": [
    "import os, sys, json, shapely\n",
    "os.environ['USE_PYGEOS'] = '0'\n",
    "from datetime import date, datetime\n",
    "import pandas as pd; import numpy as np; import geopandas as gpd"
   ]
  },
  {
   "cell_type": "markdown",
   "id": "f2116f41",
   "metadata": {
    "ExecuteTime": {
     "end_time": "2023-11-22T23:54:01.682350Z",
     "start_time": "2023-11-22T23:54:01.679879Z"
    }
   },
   "source": [
    "Sync the parquet files locally?\n",
    "```bash\n",
    "aws --profile=ym s3 sync s3://youthmappers-internal-us-east1/query_results/parquet/ .\n",
    "```"
   ]
  },
  {
   "cell_type": "code",
   "execution_count": 2,
   "id": "5054d8ba",
   "metadata": {
    "ExecuteTime": {
     "end_time": "2023-12-21T02:23:20.402329Z",
     "start_time": "2023-12-21T02:23:20.399743Z"
    }
   },
   "outputs": [],
   "source": [
    "DATE = '2023-12-11'"
   ]
  },
  {
   "cell_type": "code",
   "execution_count": 3,
   "id": "d14a5501",
   "metadata": {
    "ExecuteTime": {
     "end_time": "2023-12-21T02:23:24.738502Z",
     "start_time": "2023-12-21T02:23:21.907083Z"
    }
   },
   "outputs": [
    {
     "name": "stdout",
     "output_type": "stream",
     "text": [
      "Read 539,920 rows, latest ds:  2023-12-11\n",
      "Null Geometries: 0\n"
     ]
    },
    {
     "data": {
      "text/html": [
       "<div>\n",
       "<style scoped>\n",
       "    .dataframe tbody tr th:only-of-type {\n",
       "        vertical-align: middle;\n",
       "    }\n",
       "\n",
       "    .dataframe tbody tr th {\n",
       "        vertical-align: top;\n",
       "    }\n",
       "\n",
       "    .dataframe thead th {\n",
       "        text-align: right;\n",
       "    }\n",
       "</style>\n",
       "<table border=\"1\" class=\"dataframe\">\n",
       "  <thead>\n",
       "    <tr style=\"text-align: right;\">\n",
       "      <th></th>\n",
       "      <th>day</th>\n",
       "      <th>quadkey</th>\n",
       "      <th>centroid</th>\n",
       "      <th>convex_hull</th>\n",
       "      <th>new_highways</th>\n",
       "      <th>new_buildings</th>\n",
       "      <th>new_amenities</th>\n",
       "      <th>edited_highways</th>\n",
       "      <th>edited_buildings</th>\n",
       "      <th>edited_amenities</th>\n",
       "      <th>...</th>\n",
       "      <th>university</th>\n",
       "      <th>city</th>\n",
       "      <th>country</th>\n",
       "      <th>chapter_lon</th>\n",
       "      <th>chapter_lat</th>\n",
       "      <th>km_to_university</th>\n",
       "      <th>highways</th>\n",
       "      <th>buildings</th>\n",
       "      <th>amenities</th>\n",
       "      <th>all_feats</th>\n",
       "    </tr>\n",
       "  </thead>\n",
       "  <tbody>\n",
       "    <tr>\n",
       "      <th>0</th>\n",
       "      <td>2023-08-03</td>\n",
       "      <td>122221010113301</td>\n",
       "      <td>b'\\x01\\x01\\x00\\x00\\x00\\tG\\xda\\xd7\\xcb\\xd0\\x1e@...</td>\n",
       "      <td>b'\\x01\\x01\\x00\\x00\\x00\\tG\\xda\\xd7\\xcb\\xd0\\x1e@...</td>\n",
       "      <td>0</td>\n",
       "      <td>0</td>\n",
       "      <td>0</td>\n",
       "      <td>0</td>\n",
       "      <td>0</td>\n",
       "      <td>0</td>\n",
       "      <td>...</td>\n",
       "      <td>University of Nigeria - Enugu</td>\n",
       "      <td>Enugu</td>\n",
       "      <td>Nigeria</td>\n",
       "      <td>7.505784</td>\n",
       "      <td>6.425452</td>\n",
       "      <td>514.197799</td>\n",
       "      <td>0</td>\n",
       "      <td>0</td>\n",
       "      <td>0</td>\n",
       "      <td>0</td>\n",
       "    </tr>\n",
       "    <tr>\n",
       "      <th>1</th>\n",
       "      <td>2023-08-03</td>\n",
       "      <td>122221021332131</td>\n",
       "      <td>b'\\x01\\x01\\x00\\x00\\x00@\\x1f\\x1b7\\xeb\\xba\\x1b@\\...</td>\n",
       "      <td>b'\\x01\\x01\\x00\\x00\\x00@\\x1f\\x1b7\\xeb\\xba\\x1b@\\...</td>\n",
       "      <td>0</td>\n",
       "      <td>0</td>\n",
       "      <td>0</td>\n",
       "      <td>2</td>\n",
       "      <td>0</td>\n",
       "      <td>0</td>\n",
       "      <td>...</td>\n",
       "      <td>University of Nigeria - Enugu</td>\n",
       "      <td>Enugu</td>\n",
       "      <td>Nigeria</td>\n",
       "      <td>7.505784</td>\n",
       "      <td>6.425452</td>\n",
       "      <td>310.179604</td>\n",
       "      <td>2</td>\n",
       "      <td>0</td>\n",
       "      <td>0</td>\n",
       "      <td>2</td>\n",
       "    </tr>\n",
       "  </tbody>\n",
       "</table>\n",
       "<p>2 rows × 46 columns</p>\n",
       "</div>"
      ],
      "text/plain": [
       "          day          quadkey  \\\n",
       "0  2023-08-03  122221010113301   \n",
       "1  2023-08-03  122221021332131   \n",
       "\n",
       "                                            centroid  \\\n",
       "0  b'\\x01\\x01\\x00\\x00\\x00\\tG\\xda\\xd7\\xcb\\xd0\\x1e@...   \n",
       "1  b'\\x01\\x01\\x00\\x00\\x00@\\x1f\\x1b7\\xeb\\xba\\x1b@\\...   \n",
       "\n",
       "                                         convex_hull  new_highways  \\\n",
       "0  b'\\x01\\x01\\x00\\x00\\x00\\tG\\xda\\xd7\\xcb\\xd0\\x1e@...             0   \n",
       "1  b'\\x01\\x01\\x00\\x00\\x00@\\x1f\\x1b7\\xeb\\xba\\x1b@\\...             0   \n",
       "\n",
       "   new_buildings  new_amenities  edited_highways  edited_buildings  \\\n",
       "0              0              0                0                 0   \n",
       "1              0              0                2                 0   \n",
       "\n",
       "   edited_amenities  ...                     university   city  country  \\\n",
       "0                 0  ...  University of Nigeria - Enugu  Enugu  Nigeria   \n",
       "1                 0  ...  University of Nigeria - Enugu  Enugu  Nigeria   \n",
       "\n",
       "   chapter_lon  chapter_lat  km_to_university  highways  buildings amenities  \\\n",
       "0     7.505784     6.425452        514.197799         0          0         0   \n",
       "1     7.505784     6.425452        310.179604         2          0         0   \n",
       "\n",
       "   all_feats  \n",
       "0          0  \n",
       "1          2  \n",
       "\n",
       "[2 rows x 46 columns]"
      ]
     },
     "execution_count": 3,
     "metadata": {},
     "output_type": "execute_result"
    }
   ],
   "source": [
    "df = pd.read_parquet(f\"parquet/ds={DATE}\")\n",
    "df = df.rename(columns={'_day':'day'})\n",
    "df['highways']      = df['new_highways']  + df['edited_highways']\n",
    "df['buildings']     = df['new_buildings'] + df['edited_buildings']\n",
    "df['amenities']     = df['new_amenities'] + df['edited_amenities']\n",
    "df['all_feats']     = df['new_features']  + df['edited_features']\n",
    "print(f\"Read {len(df):,} rows, latest ds: \", df.day.max())\n",
    "print(f\"Null Geometries: {len(df[pd.isnull(df.centroid)])}\")\n",
    "df.head(2)"
   ]
  },
  {
   "cell_type": "code",
   "execution_count": 4,
   "id": "0d5bac66",
   "metadata": {
    "ExecuteTime": {
     "end_time": "2023-12-21T02:23:35.072609Z",
     "start_time": "2023-12-21T02:23:30.862780Z"
    }
   },
   "outputs": [],
   "source": [
    "# Drop NULL centroid geometries\n",
    "df = pd.DataFrame(df[pd.notnull(df.centroid)])\n",
    "\n",
    "# Create geometry objects\n",
    "df['geometry'] = df.centroid.apply(shapely.wkb.loads)\n",
    "df['convex_hull_geom'] = df.convex_hull.apply(shapely.wkb.loads)"
   ]
  },
  {
   "cell_type": "code",
   "execution_count": 5,
   "id": "b6821620",
   "metadata": {
    "ExecuteTime": {
     "end_time": "2023-12-21T02:23:35.445371Z",
     "start_time": "2023-12-21T02:23:35.442343Z"
    }
   },
   "outputs": [],
   "source": [
    "def array_to_hist(arr):\n",
    "    m = dict()\n",
    "    for x in arr:\n",
    "        if x in m:\n",
    "            m[x] += 1\n",
    "        else:\n",
    "            m[x] = 1\n",
    "    return m"
   ]
  },
  {
   "cell_type": "code",
   "execution_count": 10,
   "id": "exceptional-campaign",
   "metadata": {
    "ExecuteTime": {
     "end_time": "2023-12-21T02:25:44.533086Z",
     "start_time": "2023-12-21T02:25:43.649742Z"
    }
   },
   "outputs": [
    {
     "name": "stderr",
     "output_type": "stream",
     "text": [
      "Processing Lists of HashtagsDone\n"
     ]
    },
    {
     "data": {
      "text/html": [
       "<div>\n",
       "<style scoped>\n",
       "    .dataframe tbody tr th:only-of-type {\n",
       "        vertical-align: middle;\n",
       "    }\n",
       "\n",
       "    .dataframe tbody tr th {\n",
       "        vertical-align: top;\n",
       "    }\n",
       "\n",
       "    .dataframe thead th {\n",
       "        text-align: right;\n",
       "    }\n",
       "</style>\n",
       "<table border=\"1\" class=\"dataframe\">\n",
       "  <thead>\n",
       "    <tr style=\"text-align: right;\">\n",
       "      <th></th>\n",
       "      <th>username</th>\n",
       "      <th>uid</th>\n",
       "      <th>day</th>\n",
       "      <th>centroid</th>\n",
       "      <th>quadkey</th>\n",
       "    </tr>\n",
       "  </thead>\n",
       "  <tbody>\n",
       "    <tr>\n",
       "      <th>0</th>\n",
       "      <td>KingVik</td>\n",
       "      <td>7159298</td>\n",
       "      <td>2023-08-03</td>\n",
       "      <td>b'\\x01\\x01\\x00\\x00\\x00\\tG\\xda\\xd7\\xcb\\xd0\\x1e@...</td>\n",
       "      <td>122221010113301</td>\n",
       "    </tr>\n",
       "    <tr>\n",
       "      <th>1</th>\n",
       "      <td>KingVik</td>\n",
       "      <td>7159298</td>\n",
       "      <td>2023-08-03</td>\n",
       "      <td>b'\\x01\\x01\\x00\\x00\\x00@\\x1f\\x1b7\\xeb\\xba\\x1b@\\...</td>\n",
       "      <td>122221021332131</td>\n",
       "    </tr>\n",
       "    <tr>\n",
       "      <th>2</th>\n",
       "      <td>KingVik</td>\n",
       "      <td>7159298</td>\n",
       "      <td>2023-08-03</td>\n",
       "      <td>b\"\\x01\\x01\\x00\\x00\\x00\\x06\\x86\\x07(h\\xfe\\x1c@\\...</td>\n",
       "      <td>122203230230013</td>\n",
       "    </tr>\n",
       "    <tr>\n",
       "      <th>3</th>\n",
       "      <td>KingVik</td>\n",
       "      <td>7159298</td>\n",
       "      <td>2023-08-03</td>\n",
       "      <td>b'\\x01\\x01\\x00\\x00\\x00]\\xa3\\x8a\\x87\\x9cs\\x1d@\\...</td>\n",
       "      <td>122221032013312</td>\n",
       "    </tr>\n",
       "    <tr>\n",
       "      <th>4</th>\n",
       "      <td>KingVik</td>\n",
       "      <td>7159298</td>\n",
       "      <td>2023-08-03</td>\n",
       "      <td>b'\\x01\\x01\\x00\\x00\\x00W\\xac\\x86i\\x84\\xcb\\x1e@\\...</td>\n",
       "      <td>122221010113122</td>\n",
       "    </tr>\n",
       "  </tbody>\n",
       "</table>\n",
       "</div>"
      ],
      "text/plain": [
       "  username      uid         day  \\\n",
       "0  KingVik  7159298  2023-08-03   \n",
       "1  KingVik  7159298  2023-08-03   \n",
       "2  KingVik  7159298  2023-08-03   \n",
       "3  KingVik  7159298  2023-08-03   \n",
       "4  KingVik  7159298  2023-08-03   \n",
       "\n",
       "                                            centroid          quadkey  \n",
       "0  b'\\x01\\x01\\x00\\x00\\x00\\tG\\xda\\xd7\\xcb\\xd0\\x1e@...  122221010113301  \n",
       "1  b'\\x01\\x01\\x00\\x00\\x00@\\x1f\\x1b7\\xeb\\xba\\x1b@\\...  122221021332131  \n",
       "2  b\"\\x01\\x01\\x00\\x00\\x00\\x06\\x86\\x07(h\\xfe\\x1c@\\...  122203230230013  \n",
       "3  b'\\x01\\x01\\x00\\x00\\x00]\\xa3\\x8a\\x87\\x9cs\\x1d@\\...  122221032013312  \n",
       "4  b'\\x01\\x01\\x00\\x00\\x00W\\xac\\x86i\\x84\\xcb\\x1e@\\...  122221010113122  "
      ]
     },
     "execution_count": 10,
     "metadata": {},
     "output_type": "execute_result"
    }
   ],
   "source": [
    "#Create hashtag sets and make it a GeoDataFrame:\n",
    "sys.stderr.write(\"Processing Lists of Hashtags\")\n",
    "df['hashtags_hist'] = df.hashtags.apply(array_to_hist)\n",
    "\n",
    "df = gpd.GeoDataFrame(df)\n",
    "\n",
    "sys.stderr.write(\"Done\\n\")\n",
    "df[df.hashtags_hist.apply(len)>0][['username','uid','day','centroid','quadkey']].head()"
   ]
  },
  {
   "cell_type": "code",
   "execution_count": 11,
   "id": "respected-african",
   "metadata": {
    "ExecuteTime": {
     "end_time": "2023-12-21T02:25:53.557313Z",
     "start_time": "2023-12-21T02:25:53.507015Z"
    }
   },
   "outputs": [
    {
     "name": "stdout",
     "output_type": "stream",
     "text": [
      "Mappers Count: 2846, Chapter count: 230\n"
     ]
    }
   ],
   "source": [
    "print(f\"Mappers Count: {df.uid.nunique()}, Chapter count: {df.chapter.nunique()}\")"
   ]
  },
  {
   "cell_type": "code",
   "execution_count": 12,
   "id": "subsequent-preliminary",
   "metadata": {
    "ExecuteTime": {
     "end_time": "2023-12-21T02:26:02.457178Z",
     "start_time": "2023-12-21T02:26:02.454468Z"
    }
   },
   "outputs": [],
   "source": [
    "### This is done by DuckDB Now\n",
    "# Write Daily Editing CSV for Timeline: `data/daily_editing.csv`\n",
    "# df.groupby('day').aggregate(\n",
    "#     {'all_feats':sum,\n",
    "#      'buildings':sum,\n",
    "#      'highways':sum,\n",
    "#      'amenities':sum,\n",
    "#      'new_features':sum,\n",
    "#      'uid':'nunique',\n",
    "#      'chapter':'nunique'}).rolling(7).mean().to_csv(\n",
    "#      '../activity-dashboard/data/daily_editing.csv'\n",
    "# )"
   ]
  },
  {
   "cell_type": "markdown",
   "id": "collected-victim",
   "metadata": {},
   "source": [
    "### Write JSONP Files for Chapter Index: `data/chapters_and_uids.jsonp`"
   ]
  },
  {
   "cell_type": "code",
   "execution_count": 13,
   "id": "fundamental-popularity",
   "metadata": {
    "ExecuteTime": {
     "end_time": "2023-12-21T02:26:11.543292Z",
     "start_time": "2023-12-21T02:26:11.520771Z"
    }
   },
   "outputs": [
    {
     "data": {
      "text/html": [
       "<div>\n",
       "<style scoped>\n",
       "    .dataframe tbody tr th:only-of-type {\n",
       "        vertical-align: middle;\n",
       "    }\n",
       "\n",
       "    .dataframe tbody tr th {\n",
       "        vertical-align: top;\n",
       "    }\n",
       "\n",
       "    .dataframe thead th {\n",
       "        text-align: right;\n",
       "    }\n",
       "</style>\n",
       "<table border=\"1\" class=\"dataframe\">\n",
       "  <thead>\n",
       "    <tr style=\"text-align: right;\">\n",
       "      <th></th>\n",
       "      <th>chapter</th>\n",
       "      <th>chapter_id</th>\n",
       "      <th>city</th>\n",
       "      <th>country</th>\n",
       "      <th>university</th>\n",
       "      <th>Chapter Name</th>\n",
       "    </tr>\n",
       "  </thead>\n",
       "  <tbody>\n",
       "    <tr>\n",
       "      <th>0</th>\n",
       "      <td>LionMappersTeam - Enugu Campus</td>\n",
       "      <td>93</td>\n",
       "      <td>Enugu</td>\n",
       "      <td>Nigeria</td>\n",
       "      <td>University of Nigeria - Enugu</td>\n",
       "      <td>LionMappersTeam - Enugu Campus</td>\n",
       "    </tr>\n",
       "  </tbody>\n",
       "</table>\n",
       "</div>"
      ],
      "text/plain": [
       "                          chapter  chapter_id   city  country  \\\n",
       "0  LionMappersTeam - Enugu Campus          93  Enugu  Nigeria   \n",
       "\n",
       "                      university                    Chapter Name  \n",
       "0  University of Nigeria - Enugu  LionMappersTeam - Enugu Campus  "
      ]
     },
     "execution_count": 13,
     "metadata": {},
     "output_type": "execute_result"
    }
   ],
   "source": [
    "chapters = df.drop_duplicates(subset=['chapter_id'])[['chapter','chapter_id','city','country','university']]\n",
    "chapters['Chapter Name'] = chapters.chapter\n",
    "\n",
    "with open('chapters_and_uids.jsonp','w') as outFile:\n",
    "    outFile.write( 'var chapters = ' + json.dumps(\n",
    "        chapters.sort_values(by='chapter').to_dict(orient='records'))+\"\\n\")\n",
    "    \n",
    "chapters.head(1)"
   ]
  },
  {
   "cell_type": "code",
   "execution_count": 14,
   "id": "competent-press",
   "metadata": {
    "ExecuteTime": {
     "end_time": "2023-12-21T02:26:20.561010Z",
     "start_time": "2023-12-21T02:26:20.544249Z"
    }
   },
   "outputs": [
    {
     "name": "stderr",
     "output_type": "stream",
     "text": [
      "Quantifying All Hashtags..."
     ]
    },
    {
     "ename": "AttributeError",
     "evalue": "'GeoDataFrame' object has no attribute 'hashtags_list'",
     "output_type": "error",
     "traceback": [
      "\u001b[0;31m---------------------------------------------------------------------------\u001b[0m",
      "\u001b[0;31mAttributeError\u001b[0m                            Traceback (most recent call last)",
      "\u001b[0;32m/var/folders/y8/9xl_kqm501q5_sm8rqdbxyl80000gn/T/ipykernel_37003/250505571.py\u001b[0m in \u001b[0;36m?\u001b[0;34m()\u001b[0m\n\u001b[1;32m      1\u001b[0m \u001b[0msys\u001b[0m\u001b[0;34m.\u001b[0m\u001b[0mstderr\u001b[0m\u001b[0;34m.\u001b[0m\u001b[0mwrite\u001b[0m\u001b[0;34m(\u001b[0m\u001b[0;34m\"Quantifying All Hashtags...\"\u001b[0m\u001b[0;34m)\u001b[0m\u001b[0;34m\u001b[0m\u001b[0;34m\u001b[0m\u001b[0m\n\u001b[1;32m      2\u001b[0m \u001b[0mTAG_COUNTS\u001b[0m \u001b[0;34m=\u001b[0m \u001b[0;34m{\u001b[0m\u001b[0;34m}\u001b[0m\u001b[0;34m\u001b[0m\u001b[0;34m\u001b[0m\u001b[0m\n\u001b[0;32m----> 3\u001b[0;31m \u001b[0;32mfor\u001b[0m \u001b[0mx\u001b[0m \u001b[0;32min\u001b[0m \u001b[0mdf\u001b[0m\u001b[0;34m.\u001b[0m\u001b[0mhashtags_list\u001b[0m\u001b[0;34m:\u001b[0m\u001b[0;34m\u001b[0m\u001b[0;34m\u001b[0m\u001b[0m\n\u001b[0m\u001b[1;32m      4\u001b[0m     \u001b[0;32mfor\u001b[0m \u001b[0my\u001b[0m \u001b[0;32min\u001b[0m \u001b[0mx\u001b[0m\u001b[0;34m:\u001b[0m\u001b[0;34m\u001b[0m\u001b[0;34m\u001b[0m\u001b[0m\n\u001b[1;32m      5\u001b[0m         \u001b[0;32mif\u001b[0m \u001b[0my\u001b[0m \u001b[0;32min\u001b[0m \u001b[0mTAG_COUNTS\u001b[0m\u001b[0;34m:\u001b[0m\u001b[0;34m\u001b[0m\u001b[0;34m\u001b[0m\u001b[0m\n\u001b[1;32m      6\u001b[0m             \u001b[0mTAG_COUNTS\u001b[0m\u001b[0;34m[\u001b[0m\u001b[0my\u001b[0m\u001b[0;34m]\u001b[0m\u001b[0;34m+=\u001b[0m\u001b[0mx\u001b[0m\u001b[0;34m[\u001b[0m\u001b[0my\u001b[0m\u001b[0;34m]\u001b[0m\u001b[0;34m\u001b[0m\u001b[0;34m\u001b[0m\u001b[0m\n",
      "\u001b[0;32m/usr/local/lib/python3.11/site-packages/pandas/core/generic.py\u001b[0m in \u001b[0;36m?\u001b[0;34m(self, name)\u001b[0m\n\u001b[1;32m   6200\u001b[0m             \u001b[0;32mand\u001b[0m \u001b[0mname\u001b[0m \u001b[0;32mnot\u001b[0m \u001b[0;32min\u001b[0m \u001b[0mself\u001b[0m\u001b[0;34m.\u001b[0m\u001b[0m_accessors\u001b[0m\u001b[0;34m\u001b[0m\u001b[0;34m\u001b[0m\u001b[0m\n\u001b[1;32m   6201\u001b[0m             \u001b[0;32mand\u001b[0m \u001b[0mself\u001b[0m\u001b[0;34m.\u001b[0m\u001b[0m_info_axis\u001b[0m\u001b[0;34m.\u001b[0m\u001b[0m_can_hold_identifiers_and_holds_name\u001b[0m\u001b[0;34m(\u001b[0m\u001b[0mname\u001b[0m\u001b[0;34m)\u001b[0m\u001b[0;34m\u001b[0m\u001b[0;34m\u001b[0m\u001b[0m\n\u001b[1;32m   6202\u001b[0m         ):\n\u001b[1;32m   6203\u001b[0m             \u001b[0;32mreturn\u001b[0m \u001b[0mself\u001b[0m\u001b[0;34m[\u001b[0m\u001b[0mname\u001b[0m\u001b[0;34m]\u001b[0m\u001b[0;34m\u001b[0m\u001b[0;34m\u001b[0m\u001b[0m\n\u001b[0;32m-> 6204\u001b[0;31m         \u001b[0;32mreturn\u001b[0m \u001b[0mobject\u001b[0m\u001b[0;34m.\u001b[0m\u001b[0m__getattribute__\u001b[0m\u001b[0;34m(\u001b[0m\u001b[0mself\u001b[0m\u001b[0;34m,\u001b[0m \u001b[0mname\u001b[0m\u001b[0;34m)\u001b[0m\u001b[0;34m\u001b[0m\u001b[0;34m\u001b[0m\u001b[0m\n\u001b[0m",
      "\u001b[0;31mAttributeError\u001b[0m: 'GeoDataFrame' object has no attribute 'hashtags_list'"
     ]
    }
   ],
   "source": [
    "sys.stderr.write(\"Quantifying All Hashtags...\")\n",
    "TAG_COUNTS = {}\n",
    "for x in df.hashtags_list:\n",
    "    for y in x:\n",
    "        if y in TAG_COUNTS:\n",
    "            TAG_COUNTS[y]+=x[y]\n",
    "        else:\n",
    "            TAG_COUNTS[y]=x[y]\n",
    "tag_counts_df = pd.DataFrame.from_dict(TAG_COUNTS,orient='index', \n",
    "  columns=['count']).sort_values(by='count', ascending=False).reset_index().rename(columns={'index':'hashtag'})\n",
    "sys.stderr.write(\"Done.\\n\")\n",
    "display(tag_counts_df.head())"
   ]
  },
  {
   "cell_type": "markdown",
   "id": "noticed-showcase",
   "metadata": {},
   "source": [
    "# Export Files for Graphs: `monthly_activity_*.json`"
   ]
  },
  {
   "cell_type": "code",
   "execution_count": null,
   "id": "joined-finish",
   "metadata": {
    "ExecuteTime": {
     "end_time": "2023-12-21T02:26:20.567406Z",
     "start_time": "2023-12-21T02:26:20.567391Z"
    }
   },
   "outputs": [],
   "source": [
    "df['month'] = df.day.apply(lambda d: date(d.year, d.month,15))"
   ]
  },
  {
   "cell_type": "code",
   "execution_count": null,
   "id": "creative-eating",
   "metadata": {
    "ExecuteTime": {
     "end_time": "2023-12-21T02:26:20.571178Z",
     "start_time": "2023-12-21T02:26:20.571165Z"
    }
   },
   "outputs": [],
   "source": [
    "_aggregations = {'new_buildings':'sum','new_highways':'sum','new_amenities':'sum', \n",
    "     'edited_buildings':'sum', 'edited_highways':'sum', 'edited_amenities':'sum',\n",
    "     'uid':'nunique','chapter':'nunique'}\n",
    "\n",
    "today      = datetime.now();\n",
    "this_month = date(today.year, today.month, 1)\n",
    "\n",
    "# All time:\n",
    "monthly_activity_all_time = df[df.month < this_month].groupby('month').aggregate(_aggregations).rename(\n",
    "columns={'uid':'users','chapter':'chapters'})\n",
    "\n",
    "monthly_activity_all_time.reset_index(inplace=True)\n",
    "\n",
    "# Write out all activity over time\n",
    "monthly_activity_all_time.to_json('monthly_activity_all_time.json',orient='records')\n",
    "\n",
    "# Write out just last 1200 days activity\n",
    "monthly_activity_all_time[monthly_activity_all_time.month > (this_month - \n",
    "                                 pd.Timedelta(days=1200))].to_json('monthly_activity_last_1200_days.json',orient='records')\n",
    "# Write out just last year's activity\n",
    "monthly_activity_all_time[monthly_activity_all_time.month > (this_month - \n",
    "                                 pd.Timedelta(days=365))].to_json('monthly_activity_last_year.json',orient='records')\n"
   ]
  },
  {
   "cell_type": "code",
   "execution_count": null,
   "id": "c420f6fd",
   "metadata": {
    "ExecuteTime": {
     "end_time": "2023-12-21T02:26:20.575013Z",
     "start_time": "2023-12-21T02:26:20.574998Z"
    }
   },
   "outputs": [],
   "source": [
    "# Import country boundaries\n",
    "countries = gpd.read_file('ne_10m_admin_0_countries/ne_10m_admin_0_countries.shp')[\n",
    "    ['NAME','ADM0_A3','CONTINENT','SUBREGION','geometry']\n",
    "].rename(columns={'NAME':\"edit_country\",\"ADM0_A3\":'edit_A3',\"CONTINENT\":'edit_continent','SUBREGION':'edit_subregion'})\n",
    "\n",
    "countries.plot()"
   ]
  },
  {
   "cell_type": "code",
   "execution_count": null,
   "id": "6897b07b",
   "metadata": {
    "ExecuteTime": {
     "end_time": "2023-12-21T02:26:20.578966Z",
     "start_time": "2023-12-21T02:26:20.578951Z"
    }
   },
   "outputs": [],
   "source": [
    "df_ = df.set_crs('EPSG:4326').sjoin(countries)\n",
    "df_.head()"
   ]
  },
  {
   "cell_type": "markdown",
   "id": "egyptian-maximum",
   "metadata": {},
   "source": [
    "# Export Top Edited Countries: `top_edited_countries.json`"
   ]
  },
  {
   "cell_type": "code",
   "execution_count": null,
   "id": "lovely-feeding",
   "metadata": {
    "ExecuteTime": {
     "end_time": "2023-12-21T02:26:20.583268Z",
     "start_time": "2023-12-21T02:26:20.583255Z"
    }
   },
   "outputs": [],
   "source": [
    "top_edited_countries = []\n",
    "\n",
    "for month, rows in df_[df_.month > this_month - pd.Timedelta(days=90)].groupby('month'):\n",
    "    t15 = rows.groupby('edit_country').aggregate({'all_feats':'sum'}).sort_values(by='all_feats',ascending=False).head(15)\n",
    "    \n",
    "    top_edited_countries.append({'month': month.isoformat(), 'top_countries': list(zip(list(t15.index), list(t15.all_feats)))})\n",
    "    \n",
    "json.dump(top_edited_countries, open('top_edited_countries.json','w'))\n",
    "          "
   ]
  },
  {
   "cell_type": "code",
   "execution_count": null,
   "id": "09601d37",
   "metadata": {
    "ExecuteTime": {
     "end_time": "2023-12-21T02:26:20.587234Z",
     "start_time": "2023-12-21T02:26:20.587221Z"
    }
   },
   "outputs": [],
   "source": [
    "# Which chapters are active in the most edited countries?\n",
    "top_country = top_edited_countries[-1].get('top_countries')[0][0]\n",
    "df_[df_.edit_country==top_country].groupby('chapter').aggregate(\n",
    "    {'uid':'nunique','all_feats':'sum'}\n",
    "        ).sort_values(by='all_feats', ascending=False).head()"
   ]
  },
  {
   "cell_type": "code",
   "execution_count": null,
   "id": "66bea818",
   "metadata": {
    "ExecuteTime": {
     "end_time": "2023-12-21T02:24:42.459518Z",
     "start_time": "2023-12-21T02:24:42.459506Z"
    }
   },
   "outputs": [],
   "source": [
    "# top_chapters = df_[df_.day > date(2022,1,1)].groupby('edit_continent').aggregate(\n",
    "#     {'all_feats':'sum'}).sort_values(by='all_feats', ascending=False).head(5).index.values\n",
    "# top_chapters"
   ]
  },
  {
   "cell_type": "markdown",
   "id": "f65186c7",
   "metadata": {},
   "source": [
    "### Local Editing?"
   ]
  },
  {
   "cell_type": "code",
   "execution_count": null,
   "id": "4bb773ee",
   "metadata": {
    "ExecuteTime": {
     "end_time": "2023-12-21T02:24:42.463784Z",
     "start_time": "2023-12-21T02:24:42.463770Z"
    }
   },
   "outputs": [],
   "source": [
    "import seaborn as sns\n",
    "sns.set_style(\"darkgrid\")\n",
    "ax = df_.groupby(['month','edit_continent']).aggregate(\n",
    "    {'km_to_university':'median'}\n",
    ").unstack().km_to_university[\n",
    "    ['Africa','Asia','Europe']].plot(figsize=(12,5))\n",
    "ax.legend(loc='best',ncol=2)\n",
    "ax.set_ylabel(\"Median distance (km) from home\\nUniversity that YouthMappers are editing.\", fontsize=16)\n",
    "ax.set_ylabel(None);"
   ]
  },
  {
   "cell_type": "markdown",
   "id": "fluid-compilation",
   "metadata": {},
   "source": [
    "<br>\n",
    "<br>\n",
    "<hr>\n",
    "\n",
    "# MEL Reporting Requirements"
   ]
  },
  {
   "cell_type": "code",
   "execution_count": null,
   "id": "printable-confirmation",
   "metadata": {
    "ExecuteTime": {
     "end_time": "2023-10-18T00:32:07.202944Z",
     "start_time": "2023-10-18T00:32:06.196510Z"
    }
   },
   "outputs": [],
   "source": [
    "df_['month'] = df_.day.apply(lambda d: date(d.year, d.month, 15))\n",
    "df.head(2)"
   ]
  },
  {
   "cell_type": "code",
   "execution_count": null,
   "id": "liberal-chance",
   "metadata": {
    "ExecuteTime": {
     "end_time": "2023-10-18T00:32:16.520608Z",
     "start_time": "2023-10-18T00:32:16.422660Z"
    }
   },
   "outputs": [],
   "source": [
    "df_.gender = df_.gender.fillna('').apply(lambda s: s.lower())"
   ]
  },
  {
   "cell_type": "code",
   "execution_count": null,
   "id": "defined-arrow",
   "metadata": {
    "ExecuteTime": {
     "end_time": "2023-10-18T00:32:26.116704Z",
     "start_time": "2023-10-18T00:32:25.151437Z"
    }
   },
   "outputs": [],
   "source": [
    "gb_month_gender = df_[df_.gender != ''].groupby(['month','gender']).aggregate({\n",
    "    'uid':'nunique', \n",
    "    'chapter_id':'nunique',\n",
    "    'highways':sum, \n",
    "    'buildings':sum,\n",
    "    'amenities':sum, \n",
    "    'all_feats':sum \n",
    "})\n",
    "\n",
    "gb_month_gender.unstack().uid.plot.area(stacked=True, lw=0, figsize=(15,8))\n",
    "                                           "
   ]
  },
  {
   "cell_type": "code",
   "execution_count": null,
   "id": "internal-crazy",
   "metadata": {
    "ExecuteTime": {
     "end_time": "2023-10-18T00:32:34.775604Z",
     "start_time": "2023-10-18T00:32:34.766810Z"
    }
   },
   "outputs": [],
   "source": [
    "gb_month_gender.rename(columns={'uid':'mappers','chapter_id':'chapters'}).to_csv('mappers_per_month_with_gender.csv')"
   ]
  },
  {
   "cell_type": "markdown",
   "id": "operating-summary",
   "metadata": {},
   "source": [
    "<br><br>\n",
    "<hr>\n",
    "<br><br>\n",
    "\n",
    "# Summary Stats and Visualizations"
   ]
  },
  {
   "cell_type": "code",
   "execution_count": null,
   "id": "instrumental-sleep",
   "metadata": {
    "ExecuteTime": {
     "end_time": "2023-03-14T23:58:47.003053Z",
     "start_time": "2023-03-14T23:58:46.994443Z"
    }
   },
   "outputs": [],
   "source": [
    "import matplotlib.pyplot as plt\n",
    "import seaborn as sns\n",
    "\n",
    "%config InlineBackend.figure_format = 'retina'"
   ]
  },
  {
   "cell_type": "code",
   "execution_count": null,
   "id": "focal-payday",
   "metadata": {
    "ExecuteTime": {
     "end_time": "2022-03-12T19:46:07.715507Z",
     "start_time": "2022-03-12T19:46:07.546925Z"
    }
   },
   "outputs": [],
   "source": [
    "df.hashtags_list = df.hashtags_list.apply(set)"
   ]
  },
  {
   "cell_type": "code",
   "execution_count": null,
   "id": "homeless-hierarchy",
   "metadata": {
    "ExecuteTime": {
     "end_time": "2023-03-14T23:59:13.238530Z",
     "start_time": "2023-03-14T23:59:13.176039Z"
    }
   },
   "outputs": [],
   "source": [
    "print(\"Overall, our dataset contains {:,} known YouthMapper usernames from {:,} chapters that have made at least 1 edit in OSM\".format(\n",
    "    df.uid.nunique(), df.chapter.nunique())\n",
    ")"
   ]
  },
  {
   "cell_type": "markdown",
   "id": "consolidated-helping",
   "metadata": {},
   "source": [
    "## Time Bounded"
   ]
  },
  {
   "cell_type": "code",
   "execution_count": null,
   "id": "explicit-leadership",
   "metadata": {
    "ExecuteTime": {
     "end_time": "2023-03-14T23:59:22.360024Z",
     "start_time": "2023-03-14T23:59:22.355049Z"
    }
   },
   "outputs": [],
   "source": [
    "START_DATE  = pd.Timestamp('2022-01-01')\n",
    "END_DATE    = pd.Timestamp('2023-01-01')"
   ]
  },
  {
   "cell_type": "code",
   "execution_count": null,
   "id": "criminal-journey",
   "metadata": {
    "ExecuteTime": {
     "end_time": "2023-03-14T23:59:26.918712Z",
     "start_time": "2023-03-14T23:59:26.857613Z"
    }
   },
   "outputs": [],
   "source": [
    "_slice = df[ (df.day >= START_DATE) & \n",
    "             (df.day  < END_DATE) ]\n",
    "print(\"In this time slice, we saw:\\n\\t{:,} Distinct YouthMappers from \\n\\t{:,} Chapters\".format(\n",
    "    _slice.uid.nunique(),_slice.chapter.nunique()))\n",
    "first_edits = df.groupby('uid').aggregate({'day':min}).reset_index()\n",
    "print(\"\\t{} of these mappers made their first edit.\".format(len(\n",
    "    first_edits[(first_edits.day >= START_DATE) & (first_edits.day < END_DATE)])))"
   ]
  },
  {
   "cell_type": "code",
   "execution_count": null,
   "id": "certified-shoulder",
   "metadata": {
    "ExecuteTime": {
     "end_time": "2023-03-15T00:10:22.168957Z",
     "start_time": "2023-03-15T00:10:22.160790Z"
    }
   },
   "outputs": [],
   "source": [
    "print(\"New Objects:\\n\\tBuildings: {:,}\\n\\tHighways:  {:,}\\n\\tAmenities: {:,}\\n\\tOther:     {:,}\".format(\n",
    "    _slice.new_buildings.sum(), _slice.new_highways.sum(), _slice.new_amenities.sum(),\n",
    "    _slice.new_features.sum() - (_slice.new_buildings.sum()+_slice.new_highways.sum()+_slice.new_amenities.sum())))\n",
    "print(\"===========================\")\n",
    "print(\"Edited Objects:\\n\\tBuildings: {:,}\\n\\tHighways:  {:,}\\n\\tAmenities: {:,}\\n\\tOther:     {:,}\".format(\n",
    "    _slice.edited_buildings.sum(), _slice.edited_highways.sum(), _slice.edited_amenities.sum(),\n",
    "    _slice.edited_features.sum() - (_slice.edited_buildings.sum()+_slice.edited_highways.sum()+_slice.edited_amenities.sum())))\n",
    "# print(\"\\nDeleted Objects:   {:,}\".format(_slice.deleted_features.sum()))"
   ]
  },
  {
   "cell_type": "markdown",
   "id": "vocal-minnesota",
   "metadata": {},
   "source": [
    "## Top Chapters"
   ]
  },
  {
   "cell_type": "code",
   "execution_count": null,
   "id": "major-demonstration",
   "metadata": {
    "ExecuteTime": {
     "end_time": "2023-03-15T00:10:44.819704Z",
     "start_time": "2023-03-15T00:10:44.776973Z"
    }
   },
   "outputs": [],
   "source": [
    "top_chaps = _slice.groupby('chapter').aggregate(\n",
    "    {'uid':'nunique',\n",
    "     'new_features': sum,\n",
    "     'edited_features': sum,\n",
    "     'sum_edits': sum,\n",
    "     'changeset_count': sum,\n",
    "     'all_feats': sum,\n",
    "     'highways': sum,\n",
    "     'buildings': sum,\n",
    "     'amenities': sum}).sort_values(by='all_feats', ascending=False).rename(\n",
    "    columns={'uid':\"Mappers\"})\n",
    "top_chaps.to_csv('mapper_data/2022_statistics.csv')\n",
    "\n",
    "top_chaps.sum()"
   ]
  },
  {
   "cell_type": "markdown",
   "id": "bigger-tongue",
   "metadata": {},
   "source": [
    "## Per Continent Stats?"
   ]
  },
  {
   "cell_type": "code",
   "execution_count": null,
   "id": "sacred-wheel",
   "metadata": {
    "ExecuteTime": {
     "end_time": "2023-03-21T03:18:39.404700Z",
     "start_time": "2023-03-21T03:18:38.997512Z"
    }
   },
   "outputs": [],
   "source": [
    "ax = df_[(df_.edit_continent=='Africa') & \n",
    "         (df_._day>datetime(2018,1,1,0,0,0))\n",
    "        ].groupby('_day').aggregate({'uid':'nunique'}).sort_index().rolling(7).mean().plot(figsize=(10,4))\n",
    "ax.set_title(\"Active YouthMappers editing in African Countries since 2018\", fontsize=16)\n",
    "ax.set_ylabel(\"Daily Mappers\\n(7-day rolling average)\", fontsize=14); ax.set_xlabel(None);"
   ]
  },
  {
   "cell_type": "code",
   "execution_count": null,
   "id": "southern-green",
   "metadata": {
    "ExecuteTime": {
     "end_time": "2023-03-21T03:21:47.299664Z",
     "start_time": "2023-03-21T03:21:46.932753Z"
    }
   },
   "outputs": [],
   "source": [
    "ax = df_[(df_.edit_continent=='Africa') & \n",
    "         (df_._day>datetime(2018,1,1,0,0,0))\n",
    "        ].groupby('_day').aggregate({'all_feats':sum}).sort_index().cumsum().plot(figsize=(10,4))\n",
    "ax.set_title(\"Features edited within African countries by YouthMappers since 2018\", fontsize=16)\n",
    "ax.set_ylabel(\"OSM Features edited\", fontsize=14); ax.set_xlabel(None);\n",
    "ax.yaxis.set_major_formatter(lambda x, pos: \"{} Million\".format(int(x/1000000)))\n",
    "ax.set_ylim(1,10000000);"
   ]
  },
  {
   "cell_type": "code",
   "execution_count": null,
   "id": "therapeutic-rouge",
   "metadata": {
    "ExecuteTime": {
     "end_time": "2023-03-15T00:00:43.865273Z",
     "start_time": "2023-03-15T00:00:43.796652Z"
    }
   },
   "outputs": [],
   "source": [
    "print(\"Top 15 Countries by New Features Count\")\n",
    "aggregators = {'new_features':sum,'new_buildings':sum, 'new_highways':sum, 'new_amenities':sum, \n",
    "        'edited_features':sum, 'chapter':'nunique', 'uid':'nunique'}\n",
    "_slice.groupby('country').aggregate(aggregators\n",
    "    ).sort_values(by='new_features',ascending=False).head(15).rename(columns={'chapter':\"# Chapters\",'uid':\"# Mappers\"})\n"
   ]
  },
  {
   "cell_type": "code",
   "execution_count": null,
   "id": "private-ideal",
   "metadata": {
    "ExecuteTime": {
     "end_time": "2022-03-12T01:08:20.254801Z",
     "start_time": "2022-03-12T01:08:18.310536Z"
    }
   },
   "outputs": [],
   "source": [
    "ax = _slice.plot(column='new_features',cmap='viridis', figsize=(15,8), s=np.log1p(_slice.all_feats))\n",
    "ax.set_title(\"Edit Concentration this quarter\")"
   ]
  },
  {
   "cell_type": "code",
   "execution_count": null,
   "id": "removable-rental",
   "metadata": {
    "ExecuteTime": {
     "end_time": "2022-03-12T01:08:22.059301Z",
     "start_time": "2022-03-12T01:08:21.114769Z"
    }
   },
   "outputs": [],
   "source": [
    "df['month'] = df.day.apply(lambda d: date(d.year, d.month, 15))\n",
    "gb_month = df.groupby('month').aggregate(aggregators)"
   ]
  },
  {
   "cell_type": "code",
   "execution_count": null,
   "id": "fatty-mason",
   "metadata": {
    "ExecuteTime": {
     "end_time": "2022-03-12T01:08:23.263568Z",
     "start_time": "2022-03-12T01:08:22.910336Z"
    }
   },
   "outputs": [],
   "source": [
    "sns.set_style('darkgrid')\n",
    "ax = gb_month['new_features'].plot(figsize=(15,8))\n",
    "ax.set_title(\"New Features Added Each Month (Globally)\", fontsize=20)\n",
    "ax.set_xlabel(None)\n",
    "ax.yaxis.set_major_formatter(lambda x, pos: \"{:,}\".format(int(x)))"
   ]
  },
  {
   "cell_type": "code",
   "execution_count": null,
   "id": "immediate-scout",
   "metadata": {
    "ExecuteTime": {
     "end_time": "2022-03-12T01:08:24.409872Z",
     "start_time": "2022-03-12T01:08:24.102291Z"
    }
   },
   "outputs": [],
   "source": [
    "sns.set_style('darkgrid')\n",
    "ax = gb_month['edited_features'].plot(figsize=(15,8))\n",
    "ax.set_title(\"Features Edited Each Month (Globally)\", fontsize=20)\n",
    "ax.set_xlabel(None)\n",
    "ax.yaxis.set_major_formatter(lambda x, pos: \"{:,}\".format(int(x)))"
   ]
  },
  {
   "cell_type": "code",
   "execution_count": null,
   "id": "laughing-malawi",
   "metadata": {
    "ExecuteTime": {
     "end_time": "2022-03-12T01:08:25.282012Z",
     "start_time": "2022-03-12T01:08:25.278055Z"
    }
   },
   "outputs": [],
   "source": [
    "_slice.edited_buildings.sum(), _slice.new_buildings.sum()"
   ]
  },
  {
   "cell_type": "code",
   "execution_count": null,
   "id": "hawaiian-method",
   "metadata": {
    "ExecuteTime": {
     "end_time": "2022-03-12T01:08:26.164735Z",
     "start_time": "2022-03-12T01:08:26.158193Z"
    }
   },
   "outputs": [],
   "source": [
    "_slice.chapter.unique()"
   ]
  },
  {
   "cell_type": "code",
   "execution_count": null,
   "id": "whole-division",
   "metadata": {
    "ExecuteTime": {
     "end_time": "2022-03-12T01:08:27.063281Z",
     "start_time": "2022-03-12T01:08:27.012494Z"
    }
   },
   "outputs": [],
   "source": [
    "days_per_mapper = df.groupby('uid').aggregate({'day':'nunique'}).reset_index()\n",
    "active_contributors = days_per_mapper[days_per_mapper.day>=42].uid\n",
    "\n",
    "print(\"There are {} _active contributors_ in YouthMappers (mapped for at least 42 days)\".format(len(active_contributors)))\n",
    "print(\"{} of these mappers were active in this time slice\".format(_slice[_slice.uid.isin(active_contributors)].uid.nunique()))"
   ]
  },
  {
   "cell_type": "code",
   "execution_count": null,
   "id": "comprehensive-folks",
   "metadata": {
    "ExecuteTime": {
     "end_time": "2022-03-12T01:08:30.301881Z",
     "start_time": "2022-03-12T01:08:30.276156Z"
    },
    "scrolled": false
   },
   "outputs": [],
   "source": [
    "by_subregion = _slice.groupby('subregion').aggregate(\n",
    "    {'uid':'nunique','chapter':'nunique','all_feats':sum}\n",
    ").sort_values(by='all_feats',ascending=False).rename(\n",
    "    columns={'uid':\"YouthMappers\",'chapter':\"Chapters\",'all_feats':'Features'})\n",
    "by_subregion.head(15)"
   ]
  },
  {
   "cell_type": "code",
   "execution_count": null,
   "id": "loaded-vitamin",
   "metadata": {
    "ExecuteTime": {
     "end_time": "2022-03-12T01:08:34.329830Z",
     "start_time": "2022-03-12T01:08:33.100711Z"
    }
   },
   "outputs": [],
   "source": [
    "df['year'] = df.day.apply(lambda d: d.year)\n",
    "df.head(2)"
   ]
  },
  {
   "cell_type": "code",
   "execution_count": null,
   "id": "advanced-baghdad",
   "metadata": {
    "ExecuteTime": {
     "end_time": "2021-10-04T04:43:56.668527Z",
     "start_time": "2021-10-04T04:43:55.554952Z"
    }
   },
   "outputs": [],
   "source": [
    "df['month'] = df.day.apply(lambda d: date(d.year, d.month, 1))"
   ]
  },
  {
   "cell_type": "code",
   "execution_count": null,
   "id": "atlantic-platform",
   "metadata": {
    "ExecuteTime": {
     "end_time": "2021-10-04T04:44:27.847644Z",
     "start_time": "2021-10-04T04:44:27.430238Z"
    }
   },
   "outputs": [],
   "source": [
    "sns.set_style('darkgrid')\n",
    "ax = df.groupby('month').aggregate({'chapter':'nunique'}).rolling(7).mean().plot(figsize=(15,8), legend=None)\n",
    "ax.set_xlabel(None);\n",
    "ax.set_title(\"Number of Distinct Chapters Active Each Month\", fontsize=24)"
   ]
  },
  {
   "cell_type": "code",
   "execution_count": null,
   "id": "critical-honey",
   "metadata": {
    "ExecuteTime": {
     "end_time": "2021-10-04T12:34:58.324042Z",
     "start_time": "2021-10-04T12:34:57.911999Z"
    }
   },
   "outputs": [],
   "source": [
    "sns.set_style('darkgrid')\n",
    "ax = df.groupby('month').aggregate({'uid':'nunique'}).rolling(7).mean().plot(figsize=(15,8), legend=None)\n",
    "ax.set_xlabel(None);\n",
    "ax.set_title(\"Number of Distinct Mappers Active Each Month\", fontsize=24)"
   ]
  },
  {
   "cell_type": "code",
   "execution_count": null,
   "id": "aggressive-signal",
   "metadata": {
    "ExecuteTime": {
     "end_time": "2021-10-04T04:30:23.953060Z",
     "start_time": "2021-10-04T04:30:17.479451Z"
    }
   },
   "outputs": [],
   "source": [
    "with open('changesets_by_year.geojson','w') as outFile:\n",
    "    outFile.write(df[['year','centroid','all_feats','username']].to_json())"
   ]
  },
  {
   "cell_type": "code",
   "execution_count": null,
   "id": "controlling-station",
   "metadata": {},
   "outputs": [],
   "source": [
    "# Top Edited Countries by User count: \n",
    "hashtags_used = _slice.groupby('chapter').aggregate({'uid':'nunique',\n",
    "                                     'country':'nunique',\n",
    "                                     'all_feats':sum,\n",
    "                                     'hashtags_list':lambda a: set.union(*a)}\n",
    "    ).sort_values(by='all_feats',ascending=False).rename(columns={\n",
    "         'uid':'Mappers','country':'Countries Edited','all_feats':'Total features'})\n",
    "hashtags_used['Distinct Hashtags Used'] = hashtags_used.hashtags_list.apply(len)\n",
    "hashtags_used.head(10)"
   ]
  },
  {
   "cell_type": "code",
   "execution_count": null,
   "id": "passive-vertical",
   "metadata": {
    "ExecuteTime": {
     "end_time": "2021-10-04T13:31:40.575866Z",
     "start_time": "2021-10-04T13:31:38.438788Z"
    }
   },
   "outputs": [],
   "source": [
    "country_geoms = gpd.read_file('/Users/jenningsanderson/various-osm/data/countries.geojson').set_index('ADMIN')"
   ]
  },
  {
   "cell_type": "code",
   "execution_count": null,
   "id": "solid-advancement",
   "metadata": {
    "scrolled": false
   },
   "outputs": [],
   "source": [
    "# Top Edited Countries by feature\n",
    "countries = _slice.groupby('country').aggregate(\n",
    "        {'all_feats':'sum','chapter':set}\n",
    ").sort_values(by='all_feats',ascending=False)\n",
    "display(countries.head(10))\n",
    "list(countries.head(2).chapter)"
   ]
  },
  {
   "cell_type": "code",
   "execution_count": null,
   "id": "alike-nutrition",
   "metadata": {
    "ExecuteTime": {
     "end_time": "2021-10-04T13:32:18.887225Z",
     "start_time": "2021-10-04T13:32:18.875472Z"
    }
   },
   "outputs": [],
   "source": [
    "countries"
   ]
  },
  {
   "cell_type": "code",
   "execution_count": null,
   "id": "mediterranean-rotation",
   "metadata": {
    "ExecuteTime": {
     "end_time": "2021-10-04T15:33:46.798949Z",
     "start_time": "2021-10-04T15:33:46.796801Z"
    }
   },
   "outputs": [],
   "source": [
    "from matplotlib import colors"
   ]
  },
  {
   "cell_type": "code",
   "execution_count": null,
   "id": "resistant-father",
   "metadata": {
    "ExecuteTime": {
     "end_time": "2021-10-04T14:08:24.297737Z",
     "start_time": "2021-10-04T14:08:22.475727Z"
    }
   },
   "outputs": [],
   "source": [
    "country_geoms.join(countries).plot(column='all_feats', cmap='Greens', figsize=(15,10))"
   ]
  },
  {
   "cell_type": "code",
   "execution_count": null,
   "id": "julian-living",
   "metadata": {
    "ExecuteTime": {
     "end_time": "2021-10-04T15:34:25.081079Z",
     "start_time": "2021-10-04T15:34:23.781414Z"
    }
   },
   "outputs": [],
   "source": [
    "country_geoms.join(countries).plot(column='all_feats', cmap='Greens', figsize=(15,10), \n",
    "                                   norm=colors.LogNorm(vmin=countries.all_feats.min(), vmax=countries.all_feats.max(), ))"
   ]
  },
  {
   "cell_type": "code",
   "execution_count": null,
   "id": "clinical-surname",
   "metadata": {},
   "outputs": [],
   "source": [
    "_slice[_slice.country=='Afghanistan'].groupby('chapter').aggregate({'all_feats':sum}).sort_values(by='all_feats',ascending=False)"
   ]
  },
  {
   "cell_type": "code",
   "execution_count": null,
   "id": "lyric-average",
   "metadata": {},
   "outputs": [],
   "source": [
    "hashtags = _slice[_slice.country=='Afghanistan'].groupby('chapter').aggregate(\n",
    "    {'all_feats':sum, 'hashtags_list':lambda a: set.union(*a)\n",
    "}).sort_values(by='all_feats',ascending=False)\n",
    "hashtags.head()"
   ]
  },
  {
   "cell_type": "code",
   "execution_count": null,
   "id": "adult-survey",
   "metadata": {},
   "outputs": [],
   "source": [
    "list(hashtags.hashtags_list)"
   ]
  },
  {
   "cell_type": "code",
   "execution_count": null,
   "id": "operating-thickness",
   "metadata": {},
   "outputs": [],
   "source": [
    "with open('2021_q2.geojson','w') as output:\n",
    "    output.write(_slice[['highways','buildings','amenities','all_feats','sum_edits','uid','chapter','centroid','timestamp']].to_json())"
   ]
  }
 ],
 "metadata": {
  "hide_input": false,
  "kernelspec": {
   "display_name": "Python 3 (ipykernel)",
   "language": "python",
   "name": "python3"
  },
  "language_info": {
   "codemirror_mode": {
    "name": "ipython",
    "version": 3
   },
   "file_extension": ".py",
   "mimetype": "text/x-python",
   "name": "python",
   "nbconvert_exporter": "python",
   "pygments_lexer": "ipython3",
   "version": "3.11.3"
  },
  "varInspector": {
   "cols": {
    "lenName": 16,
    "lenType": 16,
    "lenVar": 40
   },
   "kernels_config": {
    "python": {
     "delete_cmd_postfix": "",
     "delete_cmd_prefix": "del ",
     "library": "var_list.py",
     "varRefreshCmd": "print(var_dic_list())"
    },
    "r": {
     "delete_cmd_postfix": ") ",
     "delete_cmd_prefix": "rm(",
     "library": "var_list.r",
     "varRefreshCmd": "cat(var_dic_list()) "
    }
   },
   "types_to_exclude": [
    "module",
    "function",
    "builtin_function_or_method",
    "instance",
    "_Feature"
   ],
   "window_display": false
  }
 },
 "nbformat": 4,
 "nbformat_minor": 5
}
