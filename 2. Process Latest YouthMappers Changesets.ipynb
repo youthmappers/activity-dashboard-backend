{
 "cells": [
  {
   "cell_type": "code",
   "execution_count": 1,
   "id": "present-victim",
   "metadata": {
    "ExecuteTime": {
     "end_time": "2023-11-22T23:54:00.921309Z",
     "start_time": "2023-11-22T23:54:00.171661Z"
    }
   },
   "outputs": [],
   "source": [
    "import os, sys, json, shapely\n",
    "os.environ['USE_PYGEOS'] = '0'\n",
    "from datetime import date, datetime\n",
    "import pandas as pd; import numpy as np; import geopandas as gpd"
   ]
  },
  {
   "cell_type": "code",
   "execution_count": 2,
   "id": "massive-appliance",
   "metadata": {
    "ExecuteTime": {
     "end_time": "2023-11-22T23:54:01.682350Z",
     "start_time": "2023-11-22T23:54:01.679879Z"
    }
   },
   "outputs": [],
   "source": [
    "FILE = 'youthmapper_changesets_latest.csv'"
   ]
  },
  {
   "cell_type": "code",
   "execution_count": 3,
   "id": "hollywood-textbook",
   "metadata": {
    "ExecuteTime": {
     "end_time": "2023-11-22T23:54:12.153082Z",
     "start_time": "2023-11-22T23:54:03.448096Z"
    }
   },
   "outputs": [
    {
     "name": "stderr",
     "output_type": "stream",
     "text": [
      "Loading File: youthmapper_changesets_latest.csv\n",
      "Row Count: 532,254\n",
      "Latest Edit: 2023-11-05 00:00:00\n",
      "Null Geometries: 157\n"
     ]
    },
    {
     "data": {
      "text/html": [
       "<div>\n",
       "<style scoped>\n",
       "    .dataframe tbody tr th:only-of-type {\n",
       "        vertical-align: middle;\n",
       "    }\n",
       "\n",
       "    .dataframe tbody tr th {\n",
       "        vertical-align: top;\n",
       "    }\n",
       "\n",
       "    .dataframe thead th {\n",
       "        text-align: right;\n",
       "    }\n",
       "</style>\n",
       "<table border=\"1\" class=\"dataframe\">\n",
       "  <thead>\n",
       "    <tr style=\"text-align: right;\">\n",
       "      <th></th>\n",
       "      <th>_day</th>\n",
       "      <th>quadkey</th>\n",
       "      <th>centroid</th>\n",
       "      <th>convex_hull</th>\n",
       "      <th>new_highways</th>\n",
       "      <th>new_buildings</th>\n",
       "      <th>new_amenities</th>\n",
       "      <th>edited_highways</th>\n",
       "      <th>edited_buildings</th>\n",
       "      <th>edited_amenities</th>\n",
       "      <th>new_features</th>\n",
       "      <th>edited_features</th>\n",
       "      <th>edited_vertices</th>\n",
       "      <th>edited_elements</th>\n",
       "      <th>deleted_elements</th>\n",
       "      <th>deleted_nodes</th>\n",
       "      <th>sum_edits</th>\n",
       "      <th>arbitrary_changeset</th>\n",
       "      <th>sample_changeset_ids</th>\n",
       "      <th>changeset_count</th>\n",
       "      <th>min_lon</th>\n",
       "      <th>max_lon</th>\n",
       "      <th>min_lat</th>\n",
       "      <th>max_lat</th>\n",
       "      <th>total_area</th>\n",
       "      <th>tools</th>\n",
       "      <th>hashtags</th>\n",
       "      <th>uid</th>\n",
       "      <th>username</th>\n",
       "      <th>gender</th>\n",
       "      <th>chapter_id</th>\n",
       "      <th>alumni</th>\n",
       "      <th>steerco</th>\n",
       "      <th>regionalambassador</th>\n",
       "      <th>mentor</th>\n",
       "      <th>chapter</th>\n",
       "      <th>university</th>\n",
       "      <th>city</th>\n",
       "      <th>country</th>\n",
       "      <th>chapter_lon</th>\n",
       "      <th>chapter_lat</th>\n",
       "      <th>km_to_university</th>\n",
       "      <th>highways</th>\n",
       "      <th>buildings</th>\n",
       "      <th>amenities</th>\n",
       "      <th>all_feats</th>\n",
       "      <th>day</th>\n",
       "    </tr>\n",
       "  </thead>\n",
       "  <tbody>\n",
       "    <tr>\n",
       "      <th>0</th>\n",
       "      <td>2023-11-05</td>\n",
       "      <td>123330223110332</td>\n",
       "      <td>POINT (80.0569472 6.2335733)</td>\n",
       "      <td>POINT (80.0569472 6.2335733)</td>\n",
       "      <td>0</td>\n",
       "      <td>2</td>\n",
       "      <td>0</td>\n",
       "      <td>0</td>\n",
       "      <td>1</td>\n",
       "      <td>0</td>\n",
       "      <td>2</td>\n",
       "      <td>1</td>\n",
       "      <td>0</td>\n",
       "      <td>1</td>\n",
       "      <td>0</td>\n",
       "      <td>0</td>\n",
       "      <td>11</td>\n",
       "      <td>143661854</td>\n",
       "      <td>[143661854]</td>\n",
       "      <td>1</td>\n",
       "      <td>80.054759</td>\n",
       "      <td>80.059135</td>\n",
       "      <td>6.233293</td>\n",
       "      <td>6.233853</td>\n",
       "      <td>30120.436843</td>\n",
       "      <td>{'JOSM/1.5': 1}</td>\n",
       "      <td>[]</td>\n",
       "      <td>19821191</td>\n",
       "      <td>Jyayangana Gamage</td>\n",
       "      <td>female</td>\n",
       "      <td>1288</td>\n",
       "      <td>NaN</td>\n",
       "      <td>NaN</td>\n",
       "      <td>NaN</td>\n",
       "      <td>NaN</td>\n",
       "      <td>YouthMappers at USJ-Geo</td>\n",
       "      <td>University of Sri Jayewardenepura</td>\n",
       "      <td>Sri Jayewardenepura, Kotte</td>\n",
       "      <td>Sri Lanka</td>\n",
       "      <td>79.90599</td>\n",
       "      <td>6.85362</td>\n",
       "      <td>70.934272</td>\n",
       "      <td>0</td>\n",
       "      <td>3</td>\n",
       "      <td>0</td>\n",
       "      <td>3</td>\n",
       "      <td>2023-11-05</td>\n",
       "    </tr>\n",
       "  </tbody>\n",
       "</table>\n",
       "</div>"
      ],
      "text/plain": [
       "        _day          quadkey                      centroid  \\\n",
       "0 2023-11-05  123330223110332  POINT (80.0569472 6.2335733)   \n",
       "\n",
       "                    convex_hull  new_highways  new_buildings  new_amenities  \\\n",
       "0  POINT (80.0569472 6.2335733)             0              2              0   \n",
       "\n",
       "   edited_highways  edited_buildings  edited_amenities  new_features  \\\n",
       "0                0                 1                 0             2   \n",
       "\n",
       "   edited_features  edited_vertices  edited_elements  deleted_elements  \\\n",
       "0                1                0                1                 0   \n",
       "\n",
       "   deleted_nodes  sum_edits  arbitrary_changeset sample_changeset_ids  \\\n",
       "0              0         11            143661854          [143661854]   \n",
       "\n",
       "   changeset_count    min_lon    max_lon   min_lat   max_lat    total_area  \\\n",
       "0                1  80.054759  80.059135  6.233293  6.233853  30120.436843   \n",
       "\n",
       "             tools hashtags       uid           username  gender  chapter_id  \\\n",
       "0  {'JOSM/1.5': 1}       []  19821191  Jyayangana Gamage  female        1288   \n",
       "\n",
       "  alumni steerco regionalambassador mentor                  chapter  \\\n",
       "0    NaN     NaN                NaN    NaN  YouthMappers at USJ-Geo   \n",
       "\n",
       "                          university                        city    country  \\\n",
       "0  University of Sri Jayewardenepura  Sri Jayewardenepura, Kotte  Sri Lanka   \n",
       "\n",
       "   chapter_lon  chapter_lat  km_to_university  highways  buildings  amenities  \\\n",
       "0     79.90599      6.85362         70.934272         0          3          0   \n",
       "\n",
       "   all_feats        day  \n",
       "0          3 2023-11-05  "
      ]
     },
     "execution_count": 3,
     "metadata": {},
     "output_type": "execute_result"
    }
   ],
   "source": [
    "# Read and parse\n",
    "sys.stderr.write(\"Loading File: \"+ FILE)\n",
    "df = pd.read_csv(FILE, parse_dates=['_day'], low_memory=False, dtype={'quadkey':str},\n",
    "                 converters={'hashtags':lambda s: json.loads(s) if s!='' else '',\n",
    "                             'tools':lambda s: json.loads(s) if s!='' else ''})\n",
    "df['highways']      = df['new_highways']  + df['edited_highways']\n",
    "df['buildings']     = df['new_buildings'] + df['edited_buildings']\n",
    "df['amenities']     = df['new_amenities'] + df['edited_amenities']\n",
    "df['all_feats']     = df['new_features']  + df['edited_features']\n",
    "df['day'] = df._day\n",
    "\n",
    "sys.stderr.write(\"\\nRow Count: {:,}\\n\".format(len(df)))\n",
    "sys.stderr.write(\"Latest Edit: {}\\n\".format(df._day.max()))\n",
    "sys.stderr.write(\"Null Geometries: {}\\n\".format(len(df[pd.isnull(df.centroid)])))\n",
    "pd.set_option('display.max_columns', 50)\n",
    "df.head(1)"
   ]
  },
  {
   "cell_type": "code",
   "execution_count": 4,
   "id": "0d5bac66",
   "metadata": {
    "ExecuteTime": {
     "end_time": "2023-11-22T23:54:44.740319Z",
     "start_time": "2023-11-22T23:54:37.544094Z"
    }
   },
   "outputs": [],
   "source": [
    "df = df[pd.notnull(df.centroid)]\n",
    "df.centroid = df.centroid.apply(shapely.wkt.loads)\n",
    "df.convex_hull = df.convex_hull.apply(shapely.wkt.loads)"
   ]
  },
  {
   "cell_type": "code",
   "execution_count": 5,
   "id": "b6821620",
   "metadata": {
    "ExecuteTime": {
     "end_time": "2023-11-22T23:54:47.370923Z",
     "start_time": "2023-11-22T23:54:47.367771Z"
    }
   },
   "outputs": [],
   "source": [
    "def array_to_hist(arr):\n",
    "    m = dict()\n",
    "    for x in arr:\n",
    "        if x in m:\n",
    "            m[x] += 1\n",
    "        else:\n",
    "            m[x] = 1\n",
    "    return m"
   ]
  },
  {
   "cell_type": "code",
   "execution_count": 6,
   "id": "exceptional-campaign",
   "metadata": {
    "ExecuteTime": {
     "end_time": "2023-11-22T23:54:51.699706Z",
     "start_time": "2023-11-22T23:54:48.941073Z"
    }
   },
   "outputs": [
    {
     "name": "stderr",
     "output_type": "stream",
     "text": [
      "Processing Lists of Hashtags, Timestamps, and Building GeoDataFrame...Done\n"
     ]
    },
    {
     "data": {
      "text/html": [
       "<div>\n",
       "<style scoped>\n",
       "    .dataframe tbody tr th:only-of-type {\n",
       "        vertical-align: middle;\n",
       "    }\n",
       "\n",
       "    .dataframe tbody tr th {\n",
       "        vertical-align: top;\n",
       "    }\n",
       "\n",
       "    .dataframe thead th {\n",
       "        text-align: right;\n",
       "    }\n",
       "</style>\n",
       "<table border=\"1\" class=\"dataframe\">\n",
       "  <thead>\n",
       "    <tr style=\"text-align: right;\">\n",
       "      <th></th>\n",
       "      <th>username</th>\n",
       "      <th>uid</th>\n",
       "      <th>day</th>\n",
       "      <th>timestamp</th>\n",
       "      <th>hashtags_list</th>\n",
       "      <th>centroid</th>\n",
       "      <th>quadkey</th>\n",
       "    </tr>\n",
       "  </thead>\n",
       "  <tbody>\n",
       "    <tr>\n",
       "      <th>2</th>\n",
       "      <td>Chiawu Michael</td>\n",
       "      <td>19209630</td>\n",
       "      <td>2023-11-05</td>\n",
       "      <td>1699167600</td>\n",
       "      <td>{'#hotosm-project-15295': 4, '#NigeriaFloods20...</td>\n",
       "      <td>POINT (8.89789 9.90662)</td>\n",
       "      <td>122221102321203</td>\n",
       "    </tr>\n",
       "    <tr>\n",
       "      <th>3</th>\n",
       "      <td>Chiawu Michael</td>\n",
       "      <td>19209630</td>\n",
       "      <td>2023-11-05</td>\n",
       "      <td>1699167600</td>\n",
       "      <td>{'#hotosm-project-15295': 2, '#NigeriaFloods20...</td>\n",
       "      <td>POINT (8.94384 9.91585)</td>\n",
       "      <td>122221102321310</td>\n",
       "    </tr>\n",
       "    <tr>\n",
       "      <th>4</th>\n",
       "      <td>Chiawu Michael</td>\n",
       "      <td>19209630</td>\n",
       "      <td>2023-11-05</td>\n",
       "      <td>1699167600</td>\n",
       "      <td>{'#hotosm-project-15295': 3, '#NigeriaFloods20...</td>\n",
       "      <td>POINT (8.92741 9.90851)</td>\n",
       "      <td>122221102321302</td>\n",
       "    </tr>\n",
       "    <tr>\n",
       "      <th>5</th>\n",
       "      <td>Chiawu Michael</td>\n",
       "      <td>19209630</td>\n",
       "      <td>2023-11-05</td>\n",
       "      <td>1699167600</td>\n",
       "      <td>{'#hotosm-project-15295': 7, '#NigeriaFloods20...</td>\n",
       "      <td>POINT (8.93838 9.91307)</td>\n",
       "      <td>122221102321303</td>\n",
       "    </tr>\n",
       "    <tr>\n",
       "      <th>6</th>\n",
       "      <td>Chiawu Michael</td>\n",
       "      <td>19209630</td>\n",
       "      <td>2023-11-05</td>\n",
       "      <td>1699167600</td>\n",
       "      <td>{'#hotosm-project-15295': 9, '#NigeriaFloods20...</td>\n",
       "      <td>POINT (8.90215 9.90610)</td>\n",
       "      <td>122221102321212</td>\n",
       "    </tr>\n",
       "  </tbody>\n",
       "</table>\n",
       "</div>"
      ],
      "text/plain": [
       "         username       uid        day   timestamp  \\\n",
       "2  Chiawu Michael  19209630 2023-11-05  1699167600   \n",
       "3  Chiawu Michael  19209630 2023-11-05  1699167600   \n",
       "4  Chiawu Michael  19209630 2023-11-05  1699167600   \n",
       "5  Chiawu Michael  19209630 2023-11-05  1699167600   \n",
       "6  Chiawu Michael  19209630 2023-11-05  1699167600   \n",
       "\n",
       "                                       hashtags_list                 centroid  \\\n",
       "2  {'#hotosm-project-15295': 4, '#NigeriaFloods20...  POINT (8.89789 9.90662)   \n",
       "3  {'#hotosm-project-15295': 2, '#NigeriaFloods20...  POINT (8.94384 9.91585)   \n",
       "4  {'#hotosm-project-15295': 3, '#NigeriaFloods20...  POINT (8.92741 9.90851)   \n",
       "5  {'#hotosm-project-15295': 7, '#NigeriaFloods20...  POINT (8.93838 9.91307)   \n",
       "6  {'#hotosm-project-15295': 9, '#NigeriaFloods20...  POINT (8.90215 9.90610)   \n",
       "\n",
       "           quadkey  \n",
       "2  122221102321203  \n",
       "3  122221102321310  \n",
       "4  122221102321302  \n",
       "5  122221102321303  \n",
       "6  122221102321212  "
      ]
     },
     "execution_count": 6,
     "metadata": {},
     "output_type": "execute_result"
    }
   ],
   "source": [
    "#Create hashtag sets and make it a GeoDataFrame:\n",
    "sys.stderr.write(\"Processing Lists of Hashtags, Timestamps, and Building GeoDataFrame...\")\n",
    "df['hashtags_list'] = df.hashtags.apply(array_to_hist)\n",
    "\n",
    "df = gpd.GeoDataFrame(df, geometry='centroid')\n",
    "df['timestamp'] = df.day.apply(lambda d: int(d.to_pydatetime().timestamp()))\n",
    "\n",
    "sys.stderr.write(\"Done\\n\")\n",
    "df[df.hashtags_list.apply(len)>0][['username','uid','day','timestamp','hashtags_list','centroid','quadkey']].head()\n"
   ]
  },
  {
   "cell_type": "code",
   "execution_count": 8,
   "id": "respected-african",
   "metadata": {
    "ExecuteTime": {
     "end_time": "2023-11-22T20:31:36.243877Z",
     "start_time": "2023-11-22T20:31:36.205634Z"
    }
   },
   "outputs": [
    {
     "name": "stdout",
     "output_type": "stream",
     "text": [
      "Mappers Count: 2790, Chapter count: 230\n"
     ]
    }
   ],
   "source": [
    "print(f\"Mappers Count: {df.uid.nunique()}, Chapter count: {df.chapter.nunique()}\")"
   ]
  },
  {
   "cell_type": "markdown",
   "id": "strategic-disaster",
   "metadata": {},
   "source": [
    "### Write Daily Editing CSV for Timeline: `data/daily_editing.csv`"
   ]
  },
  {
   "cell_type": "code",
   "execution_count": 7,
   "id": "subsequent-preliminary",
   "metadata": {
    "ExecuteTime": {
     "end_time": "2023-11-22T23:55:13.037455Z",
     "start_time": "2023-11-22T23:55:12.724637Z"
    }
   },
   "outputs": [],
   "source": [
    "# Create file for timeline\n",
    "df.groupby('day').aggregate(\n",
    "    {'all_feats':sum,\n",
    "     'buildings':sum,\n",
    "     'highways':sum,\n",
    "     'amenities':sum,\n",
    "     'new_features':sum,\n",
    "     'uid':'nunique',\n",
    "     'chapter':'nunique'}).rolling(7).mean().to_csv(\n",
    "     '../activity-dashboard/data/daily_editing.csv'\n",
    ")"
   ]
  },
  {
   "cell_type": "markdown",
   "id": "collected-victim",
   "metadata": {},
   "source": [
    "### Write JSONP Files for Chapter Index: `data/chapters_and_uids.jsonp`"
   ]
  },
  {
   "cell_type": "code",
   "execution_count": 8,
   "id": "fundamental-popularity",
   "metadata": {
    "ExecuteTime": {
     "end_time": "2023-11-22T23:55:16.753376Z",
     "start_time": "2023-11-22T23:55:16.738455Z"
    }
   },
   "outputs": [
    {
     "data": {
      "text/html": [
       "<div>\n",
       "<style scoped>\n",
       "    .dataframe tbody tr th:only-of-type {\n",
       "        vertical-align: middle;\n",
       "    }\n",
       "\n",
       "    .dataframe tbody tr th {\n",
       "        vertical-align: top;\n",
       "    }\n",
       "\n",
       "    .dataframe thead th {\n",
       "        text-align: right;\n",
       "    }\n",
       "</style>\n",
       "<table border=\"1\" class=\"dataframe\">\n",
       "  <thead>\n",
       "    <tr style=\"text-align: right;\">\n",
       "      <th></th>\n",
       "      <th>chapter</th>\n",
       "      <th>chapter_id</th>\n",
       "      <th>city</th>\n",
       "      <th>country</th>\n",
       "      <th>university</th>\n",
       "      <th>Chapter Name</th>\n",
       "    </tr>\n",
       "  </thead>\n",
       "  <tbody>\n",
       "    <tr>\n",
       "      <th>0</th>\n",
       "      <td>YouthMappers at USJ-Geo</td>\n",
       "      <td>1288</td>\n",
       "      <td>Sri Jayewardenepura, Kotte</td>\n",
       "      <td>Sri Lanka</td>\n",
       "      <td>University of Sri Jayewardenepura</td>\n",
       "      <td>YouthMappers at USJ-Geo</td>\n",
       "    </tr>\n",
       "  </tbody>\n",
       "</table>\n",
       "</div>"
      ],
      "text/plain": [
       "                   chapter  chapter_id                        city    country  \\\n",
       "0  YouthMappers at USJ-Geo        1288  Sri Jayewardenepura, Kotte  Sri Lanka   \n",
       "\n",
       "                          university             Chapter Name  \n",
       "0  University of Sri Jayewardenepura  YouthMappers at USJ-Geo  "
      ]
     },
     "execution_count": 8,
     "metadata": {},
     "output_type": "execute_result"
    }
   ],
   "source": [
    "chapters = df.drop_duplicates(subset=['chapter_id'])[['chapter','chapter_id','city','country','university']]\n",
    "chapters['Chapter Name'] = chapters.chapter\n",
    "chapters.head(1)"
   ]
  },
  {
   "cell_type": "code",
   "execution_count": 9,
   "id": "623f48b1",
   "metadata": {
    "ExecuteTime": {
     "end_time": "2023-11-22T23:55:34.749161Z",
     "start_time": "2023-11-22T23:55:34.741509Z"
    }
   },
   "outputs": [],
   "source": [
    "with open('../activity-dashboard/data/chapters_and_uids.jsonp','w') as outFile:\n",
    "    outFile.write( 'var chapters = ' + json.dumps(\n",
    "        chapters.to_dict(orient='records'))+\"\\n\")"
   ]
  },
  {
   "cell_type": "code",
   "execution_count": 10,
   "id": "competent-press",
   "metadata": {
    "ExecuteTime": {
     "end_time": "2023-11-22T23:55:38.827485Z",
     "start_time": "2023-11-22T23:55:38.503727Z"
    }
   },
   "outputs": [
    {
     "name": "stderr",
     "output_type": "stream",
     "text": [
      "Quantifying All Hashtags...Done.\n"
     ]
    },
    {
     "data": {
      "text/html": [
       "<div>\n",
       "<style scoped>\n",
       "    .dataframe tbody tr th:only-of-type {\n",
       "        vertical-align: middle;\n",
       "    }\n",
       "\n",
       "    .dataframe tbody tr th {\n",
       "        vertical-align: top;\n",
       "    }\n",
       "\n",
       "    .dataframe thead th {\n",
       "        text-align: right;\n",
       "    }\n",
       "</style>\n",
       "<table border=\"1\" class=\"dataframe\">\n",
       "  <thead>\n",
       "    <tr style=\"text-align: right;\">\n",
       "      <th></th>\n",
       "      <th>hashtag</th>\n",
       "      <th>count</th>\n",
       "    </tr>\n",
       "  </thead>\n",
       "  <tbody>\n",
       "    <tr>\n",
       "      <th>0</th>\n",
       "      <td>#YouthMappers</td>\n",
       "      <td>63689</td>\n",
       "    </tr>\n",
       "    <tr>\n",
       "      <th>1</th>\n",
       "      <td>#youthmappers</td>\n",
       "      <td>55248</td>\n",
       "    </tr>\n",
       "    <tr>\n",
       "      <th>2</th>\n",
       "      <td>#missingmaps</td>\n",
       "      <td>51651</td>\n",
       "    </tr>\n",
       "    <tr>\n",
       "      <th>3</th>\n",
       "      <td>#MissingMaps</td>\n",
       "      <td>38162</td>\n",
       "    </tr>\n",
       "    <tr>\n",
       "      <th>4</th>\n",
       "      <td>#Imagery4socialgood</td>\n",
       "      <td>23744</td>\n",
       "    </tr>\n",
       "  </tbody>\n",
       "</table>\n",
       "</div>"
      ],
      "text/plain": [
       "               hashtag  count\n",
       "0        #YouthMappers  63689\n",
       "1        #youthmappers  55248\n",
       "2         #missingmaps  51651\n",
       "3         #MissingMaps  38162\n",
       "4  #Imagery4socialgood  23744"
      ]
     },
     "metadata": {},
     "output_type": "display_data"
    }
   ],
   "source": [
    "sys.stderr.write(\"Quantifying All Hashtags...\")\n",
    "TAG_COUNTS = {}\n",
    "for x in df.hashtags_list:\n",
    "    for y in x:\n",
    "        if y in TAG_COUNTS:\n",
    "            TAG_COUNTS[y]+=x[y]\n",
    "        else:\n",
    "            TAG_COUNTS[y]=x[y]\n",
    "tag_counts_df = pd.DataFrame.from_dict(TAG_COUNTS,orient='index', \n",
    "  columns=['count']).sort_values(by='count', ascending=False).reset_index().rename(columns={'index':'hashtag'})\n",
    "sys.stderr.write(\"Done.\\n\")\n",
    "display(tag_counts_df.head())"
   ]
  },
  {
   "cell_type": "markdown",
   "id": "noticed-showcase",
   "metadata": {},
   "source": [
    "# Export Files for Graphs: `monthly_activity_*.json`"
   ]
  },
  {
   "cell_type": "code",
   "execution_count": 11,
   "id": "joined-finish",
   "metadata": {
    "ExecuteTime": {
     "end_time": "2023-11-22T23:55:43.839422Z",
     "start_time": "2023-11-22T23:55:43.156052Z"
    }
   },
   "outputs": [],
   "source": [
    "df['month'] = df.day.apply(lambda d: date(d.year, d.month,15))"
   ]
  },
  {
   "cell_type": "code",
   "execution_count": 12,
   "id": "creative-eating",
   "metadata": {
    "ExecuteTime": {
     "end_time": "2023-11-22T23:55:48.539320Z",
     "start_time": "2023-11-22T23:55:48.005843Z"
    }
   },
   "outputs": [],
   "source": [
    "_aggregations = {'new_buildings':sum,'new_highways':sum,'new_amenities':sum, \n",
    "     'edited_buildings':sum, 'edited_highways':sum, 'edited_amenities':sum,\n",
    "     'uid':'nunique','chapter':'nunique'}\n",
    "\n",
    "today      = datetime.now();\n",
    "this_month = date(today.year, today.month, 1)\n",
    "\n",
    "# All time:\n",
    "monthly_activity_all_time = df[df.month < this_month].groupby('month').aggregate(_aggregations).rename(\n",
    "columns={'uid':'users','chapter':'chapters'})\n",
    "\n",
    "monthly_activity_all_time.reset_index(inplace=True)\n",
    "\n",
    "# Write out all activity over time\n",
    "monthly_activity_all_time.to_json('../activity-dashboard/data/monthly_activity_all_time.json',orient='records')\n",
    "\n",
    "# Write out just last 1200 days activity\n",
    "monthly_activity_all_time[monthly_activity_all_time.month > (this_month - \n",
    "                                 pd.Timedelta(days=1200))].to_json('../activity-dashboard/data/monthly_activity_last_1200_days.json',orient='records')\n",
    "# Write out just last year's activity\n",
    "monthly_activity_all_time[monthly_activity_all_time.month > (this_month - \n",
    "                                 pd.Timedelta(days=365))].to_json('../activity-dashboard/data/monthly_activity_last_year.json',orient='records')\n"
   ]
  },
  {
   "cell_type": "code",
   "execution_count": 13,
   "id": "c420f6fd",
   "metadata": {
    "ExecuteTime": {
     "end_time": "2023-11-22T23:55:56.493762Z",
     "start_time": "2023-11-22T23:55:52.711588Z"
    }
   },
   "outputs": [
    {
     "data": {
      "text/plain": [
       "<Axes: >"
      ]
     },
     "execution_count": 13,
     "metadata": {},
     "output_type": "execute_result"
    },
    {
     "data": {
      "image/png": "[encoded data removed]",
      "text/plain": [
       "<Figure size 640x480 with 1 Axes>"
      ]
     },
     "metadata": {
      "image/png": {
       "height": 283,
       "width": 555
      }
     },
     "output_type": "display_data"
    }
   ],
   "source": [
    "# Import country boundaries\n",
    "countries = gpd.read_file('ne_10m_admin_0_countries/ne_10m_admin_0_countries.shp')[\n",
    "    ['NAME','ADM0_A3','CONTINENT','SUBREGION','geometry']\n",
    "].rename(columns={'NAME':\"edit_country\",\"ADM0_A3\":'edit_A3',\"CONTINENT\":'edit_continent','SUBREGION':'edit_subregion'})\n",
    "\n",
    "countries.plot()"
   ]
  },
  {
   "cell_type": "code",
   "execution_count": 14,
   "id": "6897b07b",
   "metadata": {
    "ExecuteTime": {
     "end_time": "2023-11-22T23:56:31.089246Z",
     "start_time": "2023-11-22T23:56:00.670207Z"
    }
   },
   "outputs": [
    {
     "data": {
      "text/html": [
       "<div>\n",
       "<style scoped>\n",
       "    .dataframe tbody tr th:only-of-type {\n",
       "        vertical-align: middle;\n",
       "    }\n",
       "\n",
       "    .dataframe tbody tr th {\n",
       "        vertical-align: top;\n",
       "    }\n",
       "\n",
       "    .dataframe thead th {\n",
       "        text-align: right;\n",
       "    }\n",
       "</style>\n",
       "<table border=\"1\" class=\"dataframe\">\n",
       "  <thead>\n",
       "    <tr style=\"text-align: right;\">\n",
       "      <th></th>\n",
       "      <th>_day</th>\n",
       "      <th>quadkey</th>\n",
       "      <th>centroid</th>\n",
       "      <th>convex_hull</th>\n",
       "      <th>new_highways</th>\n",
       "      <th>new_buildings</th>\n",
       "      <th>new_amenities</th>\n",
       "      <th>edited_highways</th>\n",
       "      <th>edited_buildings</th>\n",
       "      <th>edited_amenities</th>\n",
       "      <th>new_features</th>\n",
       "      <th>edited_features</th>\n",
       "      <th>edited_vertices</th>\n",
       "      <th>edited_elements</th>\n",
       "      <th>deleted_elements</th>\n",
       "      <th>deleted_nodes</th>\n",
       "      <th>sum_edits</th>\n",
       "      <th>arbitrary_changeset</th>\n",
       "      <th>sample_changeset_ids</th>\n",
       "      <th>changeset_count</th>\n",
       "      <th>min_lon</th>\n",
       "      <th>max_lon</th>\n",
       "      <th>min_lat</th>\n",
       "      <th>max_lat</th>\n",
       "      <th>total_area</th>\n",
       "      <th>...</th>\n",
       "      <th>chapter_id</th>\n",
       "      <th>alumni</th>\n",
       "      <th>steerco</th>\n",
       "      <th>regionalambassador</th>\n",
       "      <th>mentor</th>\n",
       "      <th>chapter</th>\n",
       "      <th>university</th>\n",
       "      <th>city</th>\n",
       "      <th>country</th>\n",
       "      <th>chapter_lon</th>\n",
       "      <th>chapter_lat</th>\n",
       "      <th>km_to_university</th>\n",
       "      <th>highways</th>\n",
       "      <th>buildings</th>\n",
       "      <th>amenities</th>\n",
       "      <th>all_feats</th>\n",
       "      <th>day</th>\n",
       "      <th>hashtags_list</th>\n",
       "      <th>timestamp</th>\n",
       "      <th>month</th>\n",
       "      <th>index_right</th>\n",
       "      <th>edit_country</th>\n",
       "      <th>edit_A3</th>\n",
       "      <th>edit_continent</th>\n",
       "      <th>edit_subregion</th>\n",
       "    </tr>\n",
       "  </thead>\n",
       "  <tbody>\n",
       "    <tr>\n",
       "      <th>0</th>\n",
       "      <td>2023-11-05</td>\n",
       "      <td>123330223110332</td>\n",
       "      <td>POINT (80.05695 6.23357)</td>\n",
       "      <td>POINT (80.0569472 6.2335733)</td>\n",
       "      <td>0</td>\n",
       "      <td>2</td>\n",
       "      <td>0</td>\n",
       "      <td>0</td>\n",
       "      <td>1</td>\n",
       "      <td>0</td>\n",
       "      <td>2</td>\n",
       "      <td>1</td>\n",
       "      <td>0</td>\n",
       "      <td>1</td>\n",
       "      <td>0</td>\n",
       "      <td>0</td>\n",
       "      <td>11</td>\n",
       "      <td>143661854</td>\n",
       "      <td>[143661854]</td>\n",
       "      <td>1</td>\n",
       "      <td>80.054759</td>\n",
       "      <td>80.059135</td>\n",
       "      <td>6.233293</td>\n",
       "      <td>6.233853</td>\n",
       "      <td>3.012044e+04</td>\n",
       "      <td>...</td>\n",
       "      <td>1288</td>\n",
       "      <td>NaN</td>\n",
       "      <td>NaN</td>\n",
       "      <td>NaN</td>\n",
       "      <td>NaN</td>\n",
       "      <td>YouthMappers at USJ-Geo</td>\n",
       "      <td>University of Sri Jayewardenepura</td>\n",
       "      <td>Sri Jayewardenepura, Kotte</td>\n",
       "      <td>Sri Lanka</td>\n",
       "      <td>79.905990</td>\n",
       "      <td>6.853620</td>\n",
       "      <td>70.934272</td>\n",
       "      <td>0</td>\n",
       "      <td>3</td>\n",
       "      <td>0</td>\n",
       "      <td>3</td>\n",
       "      <td>2023-11-05</td>\n",
       "      <td>{}</td>\n",
       "      <td>1699167600</td>\n",
       "      <td>2023-11-15</td>\n",
       "      <td>183</td>\n",
       "      <td>Sri Lanka</td>\n",
       "      <td>LKA</td>\n",
       "      <td>Asia</td>\n",
       "      <td>Southern Asia</td>\n",
       "    </tr>\n",
       "    <tr>\n",
       "      <th>1</th>\n",
       "      <td>2023-11-05</td>\n",
       "      <td>123330212201103</td>\n",
       "      <td>POINT (80.30510 7.34278)</td>\n",
       "      <td>POINT (80.3051031 7.3427836)</td>\n",
       "      <td>0</td>\n",
       "      <td>0</td>\n",
       "      <td>0</td>\n",
       "      <td>0</td>\n",
       "      <td>1</td>\n",
       "      <td>0</td>\n",
       "      <td>1</td>\n",
       "      <td>1</td>\n",
       "      <td>2</td>\n",
       "      <td>4</td>\n",
       "      <td>1</td>\n",
       "      <td>1</td>\n",
       "      <td>10</td>\n",
       "      <td>143638026</td>\n",
       "      <td>[143638026]</td>\n",
       "      <td>1</td>\n",
       "      <td>80.304936</td>\n",
       "      <td>80.305271</td>\n",
       "      <td>7.342566</td>\n",
       "      <td>7.343001</td>\n",
       "      <td>1.784843e+03</td>\n",
       "      <td>...</td>\n",
       "      <td>1288</td>\n",
       "      <td>NaN</td>\n",
       "      <td>NaN</td>\n",
       "      <td>NaN</td>\n",
       "      <td>NaN</td>\n",
       "      <td>YouthMappers at USJ-Geo</td>\n",
       "      <td>University of Sri Jayewardenepura</td>\n",
       "      <td>Sri Jayewardenepura, Kotte</td>\n",
       "      <td>Sri Lanka</td>\n",
       "      <td>79.905990</td>\n",
       "      <td>6.853620</td>\n",
       "      <td>69.985698</td>\n",
       "      <td>0</td>\n",
       "      <td>1</td>\n",
       "      <td>0</td>\n",
       "      <td>2</td>\n",
       "      <td>2023-11-05</td>\n",
       "      <td>{}</td>\n",
       "      <td>1699167600</td>\n",
       "      <td>2023-11-15</td>\n",
       "      <td>183</td>\n",
       "      <td>Sri Lanka</td>\n",
       "      <td>LKA</td>\n",
       "      <td>Asia</td>\n",
       "      <td>Southern Asia</td>\n",
       "    </tr>\n",
       "    <tr>\n",
       "      <th>41</th>\n",
       "      <td>2023-11-05</td>\n",
       "      <td>123330302211012</td>\n",
       "      <td>POINT (81.85293 7.34726)</td>\n",
       "      <td>POLYGON ((81.8568094 7.342949, 81.8552897 7.34...</td>\n",
       "      <td>0</td>\n",
       "      <td>253</td>\n",
       "      <td>0</td>\n",
       "      <td>1</td>\n",
       "      <td>0</td>\n",
       "      <td>0</td>\n",
       "      <td>253</td>\n",
       "      <td>1</td>\n",
       "      <td>3</td>\n",
       "      <td>4</td>\n",
       "      <td>0</td>\n",
       "      <td>0</td>\n",
       "      <td>1272</td>\n",
       "      <td>143661894</td>\n",
       "      <td>[143661894, 143661933, 143662569, 143662552, 1...</td>\n",
       "      <td>5</td>\n",
       "      <td>81.848467</td>\n",
       "      <td>81.859375</td>\n",
       "      <td>7.342791</td>\n",
       "      <td>7.349723</td>\n",
       "      <td>8.263720e+05</td>\n",
       "      <td>...</td>\n",
       "      <td>67</td>\n",
       "      <td>NaN</td>\n",
       "      <td>NaN</td>\n",
       "      <td>NaN</td>\n",
       "      <td>NaN</td>\n",
       "      <td>YouthMappers at Eastern University, Sri Lanka</td>\n",
       "      <td>Eastern University</td>\n",
       "      <td>Vantharumoolai, Chenkaladi</td>\n",
       "      <td>Sri Lanka</td>\n",
       "      <td>81.582284</td>\n",
       "      <td>7.797753</td>\n",
       "      <td>58.303084</td>\n",
       "      <td>1</td>\n",
       "      <td>253</td>\n",
       "      <td>0</td>\n",
       "      <td>254</td>\n",
       "      <td>2023-11-05</td>\n",
       "      <td>{}</td>\n",
       "      <td>1699167600</td>\n",
       "      <td>2023-11-15</td>\n",
       "      <td>183</td>\n",
       "      <td>Sri Lanka</td>\n",
       "      <td>LKA</td>\n",
       "      <td>Asia</td>\n",
       "      <td>Southern Asia</td>\n",
       "    </tr>\n",
       "    <tr>\n",
       "      <th>249</th>\n",
       "      <td>2023-11-04</td>\n",
       "      <td>123330211200132</td>\n",
       "      <td>POINT (80.93018 8.02135)</td>\n",
       "      <td>POINT (80.9301787 8.0213519)</td>\n",
       "      <td>0</td>\n",
       "      <td>1</td>\n",
       "      <td>0</td>\n",
       "      <td>0</td>\n",
       "      <td>0</td>\n",
       "      <td>0</td>\n",
       "      <td>1</td>\n",
       "      <td>0</td>\n",
       "      <td>0</td>\n",
       "      <td>0</td>\n",
       "      <td>0</td>\n",
       "      <td>0</td>\n",
       "      <td>5</td>\n",
       "      <td>143623893</td>\n",
       "      <td>[143623893]</td>\n",
       "      <td>1</td>\n",
       "      <td>80.930009</td>\n",
       "      <td>80.930348</td>\n",
       "      <td>8.021184</td>\n",
       "      <td>8.021520</td>\n",
       "      <td>1.392088e+03</td>\n",
       "      <td>...</td>\n",
       "      <td>1288</td>\n",
       "      <td>NaN</td>\n",
       "      <td>NaN</td>\n",
       "      <td>NaN</td>\n",
       "      <td>NaN</td>\n",
       "      <td>YouthMappers at USJ-Geo</td>\n",
       "      <td>University of Sri Jayewardenepura</td>\n",
       "      <td>Sri Jayewardenepura, Kotte</td>\n",
       "      <td>Sri Lanka</td>\n",
       "      <td>79.905990</td>\n",
       "      <td>6.853620</td>\n",
       "      <td>172.081215</td>\n",
       "      <td>0</td>\n",
       "      <td>1</td>\n",
       "      <td>0</td>\n",
       "      <td>1</td>\n",
       "      <td>2023-11-04</td>\n",
       "      <td>{}</td>\n",
       "      <td>1699081200</td>\n",
       "      <td>2023-11-15</td>\n",
       "      <td>183</td>\n",
       "      <td>Sri Lanka</td>\n",
       "      <td>LKA</td>\n",
       "      <td>Asia</td>\n",
       "      <td>Southern Asia</td>\n",
       "    </tr>\n",
       "    <tr>\n",
       "      <th>250</th>\n",
       "      <td>2023-11-04</td>\n",
       "      <td>123330211202030</td>\n",
       "      <td>POINT (80.88549 7.94911)</td>\n",
       "      <td>POINT (80.8854931 7.9491091)</td>\n",
       "      <td>1</td>\n",
       "      <td>3</td>\n",
       "      <td>1</td>\n",
       "      <td>1</td>\n",
       "      <td>0</td>\n",
       "      <td>0</td>\n",
       "      <td>5</td>\n",
       "      <td>1</td>\n",
       "      <td>2</td>\n",
       "      <td>3</td>\n",
       "      <td>0</td>\n",
       "      <td>0</td>\n",
       "      <td>26</td>\n",
       "      <td>143616173</td>\n",
       "      <td>[143616173]</td>\n",
       "      <td>1</td>\n",
       "      <td>80.846506</td>\n",
       "      <td>80.924480</td>\n",
       "      <td>7.900041</td>\n",
       "      <td>7.998177</td>\n",
       "      <td>9.370404e+07</td>\n",
       "      <td>...</td>\n",
       "      <td>1288</td>\n",
       "      <td>NaN</td>\n",
       "      <td>NaN</td>\n",
       "      <td>NaN</td>\n",
       "      <td>NaN</td>\n",
       "      <td>YouthMappers at USJ-Geo</td>\n",
       "      <td>University of Sri Jayewardenepura</td>\n",
       "      <td>Sri Jayewardenepura, Kotte</td>\n",
       "      <td>Sri Lanka</td>\n",
       "      <td>79.905990</td>\n",
       "      <td>6.853620</td>\n",
       "      <td>162.800049</td>\n",
       "      <td>2</td>\n",
       "      <td>3</td>\n",
       "      <td>1</td>\n",
       "      <td>6</td>\n",
       "      <td>2023-11-04</td>\n",
       "      <td>{}</td>\n",
       "      <td>1699081200</td>\n",
       "      <td>2023-11-15</td>\n",
       "      <td>183</td>\n",
       "      <td>Sri Lanka</td>\n",
       "      <td>LKA</td>\n",
       "      <td>Asia</td>\n",
       "      <td>Southern Asia</td>\n",
       "    </tr>\n",
       "  </tbody>\n",
       "</table>\n",
       "<p>5 rows × 55 columns</p>\n",
       "</div>"
      ],
      "text/plain": [
       "          _day          quadkey                  centroid  \\\n",
       "0   2023-11-05  123330223110332  POINT (80.05695 6.23357)   \n",
       "1   2023-11-05  123330212201103  POINT (80.30510 7.34278)   \n",
       "41  2023-11-05  123330302211012  POINT (81.85293 7.34726)   \n",
       "249 2023-11-04  123330211200132  POINT (80.93018 8.02135)   \n",
       "250 2023-11-04  123330211202030  POINT (80.88549 7.94911)   \n",
       "\n",
       "                                           convex_hull  new_highways  \\\n",
       "0                         POINT (80.0569472 6.2335733)             0   \n",
       "1                         POINT (80.3051031 7.3427836)             0   \n",
       "41   POLYGON ((81.8568094 7.342949, 81.8552897 7.34...             0   \n",
       "249                       POINT (80.9301787 8.0213519)             0   \n",
       "250                       POINT (80.8854931 7.9491091)             1   \n",
       "\n",
       "     new_buildings  new_amenities  edited_highways  edited_buildings  \\\n",
       "0                2              0                0                 1   \n",
       "1                0              0                0                 1   \n",
       "41             253              0                1                 0   \n",
       "249              1              0                0                 0   \n",
       "250              3              1                1                 0   \n",
       "\n",
       "     edited_amenities  new_features  edited_features  edited_vertices  \\\n",
       "0                   0             2                1                0   \n",
       "1                   0             1                1                2   \n",
       "41                  0           253                1                3   \n",
       "249                 0             1                0                0   \n",
       "250                 0             5                1                2   \n",
       "\n",
       "     edited_elements  deleted_elements  deleted_nodes  sum_edits  \\\n",
       "0                  1                 0              0         11   \n",
       "1                  4                 1              1         10   \n",
       "41                 4                 0              0       1272   \n",
       "249                0                 0              0          5   \n",
       "250                3                 0              0         26   \n",
       "\n",
       "     arbitrary_changeset                               sample_changeset_ids  \\\n",
       "0              143661854                                        [143661854]   \n",
       "1              143638026                                        [143638026]   \n",
       "41             143661894  [143661894, 143661933, 143662569, 143662552, 1...   \n",
       "249            143623893                                        [143623893]   \n",
       "250            143616173                                        [143616173]   \n",
       "\n",
       "     changeset_count    min_lon    max_lon   min_lat   max_lat    total_area  \\\n",
       "0                  1  80.054759  80.059135  6.233293  6.233853  3.012044e+04   \n",
       "1                  1  80.304936  80.305271  7.342566  7.343001  1.784843e+03   \n",
       "41                 5  81.848467  81.859375  7.342791  7.349723  8.263720e+05   \n",
       "249                1  80.930009  80.930348  8.021184  8.021520  1.392088e+03   \n",
       "250                1  80.846506  80.924480  7.900041  7.998177  9.370404e+07   \n",
       "\n",
       "     ... chapter_id alumni  steerco regionalambassador mentor  \\\n",
       "0    ...       1288    NaN      NaN                NaN    NaN   \n",
       "1    ...       1288    NaN      NaN                NaN    NaN   \n",
       "41   ...         67    NaN      NaN                NaN    NaN   \n",
       "249  ...       1288    NaN      NaN                NaN    NaN   \n",
       "250  ...       1288    NaN      NaN                NaN    NaN   \n",
       "\n",
       "                                           chapter  \\\n",
       "0                          YouthMappers at USJ-Geo   \n",
       "1                          YouthMappers at USJ-Geo   \n",
       "41   YouthMappers at Eastern University, Sri Lanka   \n",
       "249                        YouthMappers at USJ-Geo   \n",
       "250                        YouthMappers at USJ-Geo   \n",
       "\n",
       "                            university                         city  \\\n",
       "0    University of Sri Jayewardenepura   Sri Jayewardenepura, Kotte   \n",
       "1    University of Sri Jayewardenepura   Sri Jayewardenepura, Kotte   \n",
       "41                  Eastern University  Vantharumoolai, Chenkaladi    \n",
       "249  University of Sri Jayewardenepura   Sri Jayewardenepura, Kotte   \n",
       "250  University of Sri Jayewardenepura   Sri Jayewardenepura, Kotte   \n",
       "\n",
       "       country chapter_lon chapter_lat km_to_university highways buildings  \\\n",
       "0    Sri Lanka   79.905990    6.853620        70.934272        0         3   \n",
       "1    Sri Lanka   79.905990    6.853620        69.985698        0         1   \n",
       "41   Sri Lanka   81.582284    7.797753        58.303084        1       253   \n",
       "249  Sri Lanka   79.905990    6.853620       172.081215        0         1   \n",
       "250  Sri Lanka   79.905990    6.853620       162.800049        2         3   \n",
       "\n",
       "     amenities  all_feats        day  hashtags_list   timestamp       month  \\\n",
       "0            0          3 2023-11-05             {}  1699167600  2023-11-15   \n",
       "1            0          2 2023-11-05             {}  1699167600  2023-11-15   \n",
       "41           0        254 2023-11-05             {}  1699167600  2023-11-15   \n",
       "249          0          1 2023-11-04             {}  1699081200  2023-11-15   \n",
       "250          1          6 2023-11-04             {}  1699081200  2023-11-15   \n",
       "\n",
       "     index_right edit_country edit_A3  edit_continent edit_subregion  \n",
       "0            183    Sri Lanka     LKA            Asia  Southern Asia  \n",
       "1            183    Sri Lanka     LKA            Asia  Southern Asia  \n",
       "41           183    Sri Lanka     LKA            Asia  Southern Asia  \n",
       "249          183    Sri Lanka     LKA            Asia  Southern Asia  \n",
       "250          183    Sri Lanka     LKA            Asia  Southern Asia  \n",
       "\n",
       "[5 rows x 55 columns]"
      ]
     },
     "execution_count": 14,
     "metadata": {},
     "output_type": "execute_result"
    }
   ],
   "source": [
    "df_ = df.set_crs('EPSG:4326').sjoin(countries)\n",
    "df_.head()"
   ]
  },
  {
   "cell_type": "markdown",
   "id": "egyptian-maximum",
   "metadata": {},
   "source": [
    "# Export Top Edited Countries: `top_edited_countries.json`"
   ]
  },
  {
   "cell_type": "code",
   "execution_count": 15,
   "id": "lovely-feeding",
   "metadata": {
    "ExecuteTime": {
     "end_time": "2023-11-22T23:56:42.241676Z",
     "start_time": "2023-11-22T23:56:42.158899Z"
    }
   },
   "outputs": [],
   "source": [
    "top_edited_countries = []\n",
    "\n",
    "for month, rows in df_[df_.month > this_month - pd.Timedelta(days=90)].groupby('month'):\n",
    "    t15 = rows.groupby('edit_country').aggregate({'all_feats':sum}).sort_values(by='all_feats',ascending=False).head(15)\n",
    "    \n",
    "    top_edited_countries.append({'month': month.isoformat(), 'top_countries': list(zip(list(t15.index), list(t15.all_feats)))})\n",
    "    \n",
    "json.dump(top_edited_countries, open('../activity-dashboard/data/top_edited_countries.json','w'))\n",
    "          "
   ]
  },
  {
   "cell_type": "code",
   "execution_count": 16,
   "id": "09601d37",
   "metadata": {
    "ExecuteTime": {
     "end_time": "2023-11-22T23:56:53.990657Z",
     "start_time": "2023-11-22T23:56:53.943250Z"
    }
   },
   "outputs": [
    {
     "data": {
      "text/html": [
       "<div>\n",
       "<style scoped>\n",
       "    .dataframe tbody tr th:only-of-type {\n",
       "        vertical-align: middle;\n",
       "    }\n",
       "\n",
       "    .dataframe tbody tr th {\n",
       "        vertical-align: top;\n",
       "    }\n",
       "\n",
       "    .dataframe thead th {\n",
       "        text-align: right;\n",
       "    }\n",
       "</style>\n",
       "<table border=\"1\" class=\"dataframe\">\n",
       "  <thead>\n",
       "    <tr style=\"text-align: right;\">\n",
       "      <th></th>\n",
       "      <th>uid</th>\n",
       "      <th>all_feats</th>\n",
       "    </tr>\n",
       "    <tr>\n",
       "      <th>chapter</th>\n",
       "      <th></th>\n",
       "      <th></th>\n",
       "    </tr>\n",
       "  </thead>\n",
       "  <tbody>\n",
       "    <tr>\n",
       "      <th>YouthMappers Dhaka College</th>\n",
       "      <td>5</td>\n",
       "      <td>6150</td>\n",
       "    </tr>\n",
       "    <tr>\n",
       "      <th>Yeka Street MGA</th>\n",
       "      <td>5</td>\n",
       "      <td>5548</td>\n",
       "    </tr>\n",
       "    <tr>\n",
       "      <th>YouthMappers Steering Committee</th>\n",
       "      <td>7</td>\n",
       "      <td>3331</td>\n",
       "    </tr>\n",
       "    <tr>\n",
       "      <th>UAMAPS</th>\n",
       "      <td>9</td>\n",
       "      <td>3128</td>\n",
       "    </tr>\n",
       "    <tr>\n",
       "      <th>GeoMap ESPE YouthMappers</th>\n",
       "      <td>1</td>\n",
       "      <td>2783</td>\n",
       "    </tr>\n",
       "  </tbody>\n",
       "</table>\n",
       "</div>"
      ],
      "text/plain": [
       "                                 uid  all_feats\n",
       "chapter                                        \n",
       "YouthMappers Dhaka College         5       6150\n",
       "Yeka Street MGA                    5       5548\n",
       "YouthMappers Steering Committee    7       3331\n",
       "UAMAPS                             9       3128\n",
       "GeoMap ESPE YouthMappers           1       2783"
      ]
     },
     "execution_count": 16,
     "metadata": {},
     "output_type": "execute_result"
    }
   ],
   "source": [
    "# Which chapters are active in the most edited countries?\n",
    "top_country = top_edited_countries[-1].get('top_countries')[0][0]\n",
    "df_[df_.edit_country==top_country].groupby('chapter').aggregate(\n",
    "    {'uid':'nunique','all_feats':'sum'}\n",
    "        ).sort_values(by='all_feats', ascending=False).head()"
   ]
  },
  {
   "cell_type": "markdown",
   "id": "f65186c7",
   "metadata": {},
   "source": [
    "### Local Editing?"
   ]
  },
  {
   "cell_type": "code",
   "execution_count": 17,
   "id": "66bea818",
   "metadata": {
    "ExecuteTime": {
     "end_time": "2023-11-22T23:57:05.346810Z",
     "start_time": "2023-11-22T23:57:05.227370Z"
    }
   },
   "outputs": [],
   "source": [
    "top_chapters = df_[df_.day > pd.Timestamp('20220101')].groupby('edit_continent').aggregate(\n",
    "    {'all_feats':sum}).sort_values(by='all_feats', ascending=False).head(5).index.values"
   ]
  },
  {
   "cell_type": "code",
   "execution_count": 18,
   "id": "4bb773ee",
   "metadata": {
    "ExecuteTime": {
     "end_time": "2023-11-22T23:57:18.135017Z",
     "start_time": "2023-11-22T23:57:16.526289Z"
    }
   },
   "outputs": [
    {
     "data": {
      "image/png": "[encoded data removed]",
      "text/plain": [
       "<Figure size 1200x500 with 1 Axes>"
      ]
     },
     "metadata": {
      "image/png": {
       "height": 446,
       "width": 998
      }
     },
     "output_type": "display_data"
    }
   ],
   "source": [
    "import seaborn as sns\n",
    "sns.set_style(\"darkgrid\")\n",
    "ax = df_.groupby(['month','edit_continent']).aggregate(\n",
    "    {'km_to_university':'median'}\n",
    ").unstack().km_to_university[\n",
    "    ['Africa','Asia','Europe']].plot(figsize=(12,5))\n",
    "ax.legend(loc='best',ncol=2)\n",
    "ax.set_ylabel(\"Median distance (km) from home\\nUniversity that YouthMappers are editing.\", fontsize=16)\n",
    "ax.set_ylabel(None);"
   ]
  },
  {
   "cell_type": "code",
   "execution_count": 19,
   "id": "9e665396",
   "metadata": {
    "ExecuteTime": {
     "end_time": "2023-11-22T23:57:29.849093Z",
     "start_time": "2023-11-22T23:57:29.846250Z"
    }
   },
   "outputs": [],
   "source": [
    "# Switch to weeks at low zooms"
   ]
  },
  {
   "cell_type": "code",
   "execution_count": 23,
   "id": "4013168a",
   "metadata": {
    "ExecuteTime": {
     "end_time": "2023-11-22T23:59:55.637729Z",
     "start_time": "2023-11-22T23:59:55.545830Z"
    }
   },
   "outputs": [
    {
     "data": {
      "text/html": [
       "<div>\n",
       "<style scoped>\n",
       "    .dataframe tbody tr th:only-of-type {\n",
       "        vertical-align: middle;\n",
       "    }\n",
       "\n",
       "    .dataframe tbody tr th {\n",
       "        vertical-align: top;\n",
       "    }\n",
       "\n",
       "    .dataframe thead th {\n",
       "        text-align: right;\n",
       "    }\n",
       "</style>\n",
       "<table border=\"1\" class=\"dataframe\">\n",
       "  <thead>\n",
       "    <tr style=\"text-align: right;\">\n",
       "      <th></th>\n",
       "      <th>_day</th>\n",
       "      <th>quadkey</th>\n",
       "      <th>centroid</th>\n",
       "      <th>convex_hull</th>\n",
       "      <th>new_highways</th>\n",
       "      <th>new_buildings</th>\n",
       "      <th>new_amenities</th>\n",
       "      <th>edited_highways</th>\n",
       "      <th>edited_buildings</th>\n",
       "      <th>edited_amenities</th>\n",
       "      <th>new_features</th>\n",
       "      <th>edited_features</th>\n",
       "      <th>edited_vertices</th>\n",
       "      <th>edited_elements</th>\n",
       "      <th>deleted_elements</th>\n",
       "      <th>deleted_nodes</th>\n",
       "      <th>sum_edits</th>\n",
       "      <th>arbitrary_changeset</th>\n",
       "      <th>sample_changeset_ids</th>\n",
       "      <th>changeset_count</th>\n",
       "      <th>min_lon</th>\n",
       "      <th>max_lon</th>\n",
       "      <th>min_lat</th>\n",
       "      <th>max_lat</th>\n",
       "      <th>total_area</th>\n",
       "      <th>...</th>\n",
       "      <th>alumni</th>\n",
       "      <th>steerco</th>\n",
       "      <th>regionalambassador</th>\n",
       "      <th>mentor</th>\n",
       "      <th>chapter</th>\n",
       "      <th>university</th>\n",
       "      <th>city</th>\n",
       "      <th>country</th>\n",
       "      <th>chapter_lon</th>\n",
       "      <th>chapter_lat</th>\n",
       "      <th>km_to_university</th>\n",
       "      <th>highways</th>\n",
       "      <th>buildings</th>\n",
       "      <th>amenities</th>\n",
       "      <th>all_feats</th>\n",
       "      <th>day</th>\n",
       "      <th>hashtags_list</th>\n",
       "      <th>timestamp</th>\n",
       "      <th>month</th>\n",
       "      <th>index_right</th>\n",
       "      <th>edit_country</th>\n",
       "      <th>edit_A3</th>\n",
       "      <th>edit_continent</th>\n",
       "      <th>edit_subregion</th>\n",
       "      <th>week</th>\n",
       "    </tr>\n",
       "  </thead>\n",
       "  <tbody>\n",
       "    <tr>\n",
       "      <th>0</th>\n",
       "      <td>2023-11-05</td>\n",
       "      <td>123330223110332</td>\n",
       "      <td>POINT (80.05695 6.23357)</td>\n",
       "      <td>POINT (80.0569472 6.2335733)</td>\n",
       "      <td>0</td>\n",
       "      <td>2</td>\n",
       "      <td>0</td>\n",
       "      <td>0</td>\n",
       "      <td>1</td>\n",
       "      <td>0</td>\n",
       "      <td>2</td>\n",
       "      <td>1</td>\n",
       "      <td>0</td>\n",
       "      <td>1</td>\n",
       "      <td>0</td>\n",
       "      <td>0</td>\n",
       "      <td>11</td>\n",
       "      <td>143661854</td>\n",
       "      <td>[143661854]</td>\n",
       "      <td>1</td>\n",
       "      <td>80.054759</td>\n",
       "      <td>80.059135</td>\n",
       "      <td>6.233293</td>\n",
       "      <td>6.233853</td>\n",
       "      <td>3.012044e+04</td>\n",
       "      <td>...</td>\n",
       "      <td>NaN</td>\n",
       "      <td>NaN</td>\n",
       "      <td>NaN</td>\n",
       "      <td>NaN</td>\n",
       "      <td>YouthMappers at USJ-Geo</td>\n",
       "      <td>University of Sri Jayewardenepura</td>\n",
       "      <td>Sri Jayewardenepura, Kotte</td>\n",
       "      <td>Sri Lanka</td>\n",
       "      <td>79.905990</td>\n",
       "      <td>6.853620</td>\n",
       "      <td>70.934272</td>\n",
       "      <td>0</td>\n",
       "      <td>3</td>\n",
       "      <td>0</td>\n",
       "      <td>3</td>\n",
       "      <td>2023-11-05</td>\n",
       "      <td>{}</td>\n",
       "      <td>1699167600</td>\n",
       "      <td>2023-11-15</td>\n",
       "      <td>183</td>\n",
       "      <td>Sri Lanka</td>\n",
       "      <td>LKA</td>\n",
       "      <td>Asia</td>\n",
       "      <td>Southern Asia</td>\n",
       "      <td>2023-10-30</td>\n",
       "    </tr>\n",
       "    <tr>\n",
       "      <th>1</th>\n",
       "      <td>2023-11-05</td>\n",
       "      <td>123330212201103</td>\n",
       "      <td>POINT (80.30510 7.34278)</td>\n",
       "      <td>POINT (80.3051031 7.3427836)</td>\n",
       "      <td>0</td>\n",
       "      <td>0</td>\n",
       "      <td>0</td>\n",
       "      <td>0</td>\n",
       "      <td>1</td>\n",
       "      <td>0</td>\n",
       "      <td>1</td>\n",
       "      <td>1</td>\n",
       "      <td>2</td>\n",
       "      <td>4</td>\n",
       "      <td>1</td>\n",
       "      <td>1</td>\n",
       "      <td>10</td>\n",
       "      <td>143638026</td>\n",
       "      <td>[143638026]</td>\n",
       "      <td>1</td>\n",
       "      <td>80.304936</td>\n",
       "      <td>80.305271</td>\n",
       "      <td>7.342566</td>\n",
       "      <td>7.343001</td>\n",
       "      <td>1.784843e+03</td>\n",
       "      <td>...</td>\n",
       "      <td>NaN</td>\n",
       "      <td>NaN</td>\n",
       "      <td>NaN</td>\n",
       "      <td>NaN</td>\n",
       "      <td>YouthMappers at USJ-Geo</td>\n",
       "      <td>University of Sri Jayewardenepura</td>\n",
       "      <td>Sri Jayewardenepura, Kotte</td>\n",
       "      <td>Sri Lanka</td>\n",
       "      <td>79.905990</td>\n",
       "      <td>6.853620</td>\n",
       "      <td>69.985698</td>\n",
       "      <td>0</td>\n",
       "      <td>1</td>\n",
       "      <td>0</td>\n",
       "      <td>2</td>\n",
       "      <td>2023-11-05</td>\n",
       "      <td>{}</td>\n",
       "      <td>1699167600</td>\n",
       "      <td>2023-11-15</td>\n",
       "      <td>183</td>\n",
       "      <td>Sri Lanka</td>\n",
       "      <td>LKA</td>\n",
       "      <td>Asia</td>\n",
       "      <td>Southern Asia</td>\n",
       "      <td>2023-10-30</td>\n",
       "    </tr>\n",
       "    <tr>\n",
       "      <th>41</th>\n",
       "      <td>2023-11-05</td>\n",
       "      <td>123330302211012</td>\n",
       "      <td>POINT (81.85293 7.34726)</td>\n",
       "      <td>POLYGON ((81.8568094 7.342949, 81.8552897 7.34...</td>\n",
       "      <td>0</td>\n",
       "      <td>253</td>\n",
       "      <td>0</td>\n",
       "      <td>1</td>\n",
       "      <td>0</td>\n",
       "      <td>0</td>\n",
       "      <td>253</td>\n",
       "      <td>1</td>\n",
       "      <td>3</td>\n",
       "      <td>4</td>\n",
       "      <td>0</td>\n",
       "      <td>0</td>\n",
       "      <td>1272</td>\n",
       "      <td>143661894</td>\n",
       "      <td>[143661894, 143661933, 143662569, 143662552, 1...</td>\n",
       "      <td>5</td>\n",
       "      <td>81.848467</td>\n",
       "      <td>81.859375</td>\n",
       "      <td>7.342791</td>\n",
       "      <td>7.349723</td>\n",
       "      <td>8.263720e+05</td>\n",
       "      <td>...</td>\n",
       "      <td>NaN</td>\n",
       "      <td>NaN</td>\n",
       "      <td>NaN</td>\n",
       "      <td>NaN</td>\n",
       "      <td>YouthMappers at Eastern University, Sri Lanka</td>\n",
       "      <td>Eastern University</td>\n",
       "      <td>Vantharumoolai, Chenkaladi</td>\n",
       "      <td>Sri Lanka</td>\n",
       "      <td>81.582284</td>\n",
       "      <td>7.797753</td>\n",
       "      <td>58.303084</td>\n",
       "      <td>1</td>\n",
       "      <td>253</td>\n",
       "      <td>0</td>\n",
       "      <td>254</td>\n",
       "      <td>2023-11-05</td>\n",
       "      <td>{}</td>\n",
       "      <td>1699167600</td>\n",
       "      <td>2023-11-15</td>\n",
       "      <td>183</td>\n",
       "      <td>Sri Lanka</td>\n",
       "      <td>LKA</td>\n",
       "      <td>Asia</td>\n",
       "      <td>Southern Asia</td>\n",
       "      <td>2023-10-30</td>\n",
       "    </tr>\n",
       "    <tr>\n",
       "      <th>249</th>\n",
       "      <td>2023-11-04</td>\n",
       "      <td>123330211200132</td>\n",
       "      <td>POINT (80.93018 8.02135)</td>\n",
       "      <td>POINT (80.9301787 8.0213519)</td>\n",
       "      <td>0</td>\n",
       "      <td>1</td>\n",
       "      <td>0</td>\n",
       "      <td>0</td>\n",
       "      <td>0</td>\n",
       "      <td>0</td>\n",
       "      <td>1</td>\n",
       "      <td>0</td>\n",
       "      <td>0</td>\n",
       "      <td>0</td>\n",
       "      <td>0</td>\n",
       "      <td>0</td>\n",
       "      <td>5</td>\n",
       "      <td>143623893</td>\n",
       "      <td>[143623893]</td>\n",
       "      <td>1</td>\n",
       "      <td>80.930009</td>\n",
       "      <td>80.930348</td>\n",
       "      <td>8.021184</td>\n",
       "      <td>8.021520</td>\n",
       "      <td>1.392088e+03</td>\n",
       "      <td>...</td>\n",
       "      <td>NaN</td>\n",
       "      <td>NaN</td>\n",
       "      <td>NaN</td>\n",
       "      <td>NaN</td>\n",
       "      <td>YouthMappers at USJ-Geo</td>\n",
       "      <td>University of Sri Jayewardenepura</td>\n",
       "      <td>Sri Jayewardenepura, Kotte</td>\n",
       "      <td>Sri Lanka</td>\n",
       "      <td>79.905990</td>\n",
       "      <td>6.853620</td>\n",
       "      <td>172.081215</td>\n",
       "      <td>0</td>\n",
       "      <td>1</td>\n",
       "      <td>0</td>\n",
       "      <td>1</td>\n",
       "      <td>2023-11-04</td>\n",
       "      <td>{}</td>\n",
       "      <td>1699081200</td>\n",
       "      <td>2023-11-15</td>\n",
       "      <td>183</td>\n",
       "      <td>Sri Lanka</td>\n",
       "      <td>LKA</td>\n",
       "      <td>Asia</td>\n",
       "      <td>Southern Asia</td>\n",
       "      <td>2023-10-30</td>\n",
       "    </tr>\n",
       "    <tr>\n",
       "      <th>250</th>\n",
       "      <td>2023-11-04</td>\n",
       "      <td>123330211202030</td>\n",
       "      <td>POINT (80.88549 7.94911)</td>\n",
       "      <td>POINT (80.8854931 7.9491091)</td>\n",
       "      <td>1</td>\n",
       "      <td>3</td>\n",
       "      <td>1</td>\n",
       "      <td>1</td>\n",
       "      <td>0</td>\n",
       "      <td>0</td>\n",
       "      <td>5</td>\n",
       "      <td>1</td>\n",
       "      <td>2</td>\n",
       "      <td>3</td>\n",
       "      <td>0</td>\n",
       "      <td>0</td>\n",
       "      <td>26</td>\n",
       "      <td>143616173</td>\n",
       "      <td>[143616173]</td>\n",
       "      <td>1</td>\n",
       "      <td>80.846506</td>\n",
       "      <td>80.924480</td>\n",
       "      <td>7.900041</td>\n",
       "      <td>7.998177</td>\n",
       "      <td>9.370404e+07</td>\n",
       "      <td>...</td>\n",
       "      <td>NaN</td>\n",
       "      <td>NaN</td>\n",
       "      <td>NaN</td>\n",
       "      <td>NaN</td>\n",
       "      <td>YouthMappers at USJ-Geo</td>\n",
       "      <td>University of Sri Jayewardenepura</td>\n",
       "      <td>Sri Jayewardenepura, Kotte</td>\n",
       "      <td>Sri Lanka</td>\n",
       "      <td>79.905990</td>\n",
       "      <td>6.853620</td>\n",
       "      <td>162.800049</td>\n",
       "      <td>2</td>\n",
       "      <td>3</td>\n",
       "      <td>1</td>\n",
       "      <td>6</td>\n",
       "      <td>2023-11-04</td>\n",
       "      <td>{}</td>\n",
       "      <td>1699081200</td>\n",
       "      <td>2023-11-15</td>\n",
       "      <td>183</td>\n",
       "      <td>Sri Lanka</td>\n",
       "      <td>LKA</td>\n",
       "      <td>Asia</td>\n",
       "      <td>Southern Asia</td>\n",
       "      <td>2023-10-30</td>\n",
       "    </tr>\n",
       "  </tbody>\n",
       "</table>\n",
       "<p>5 rows × 56 columns</p>\n",
       "</div>"
      ],
      "text/plain": [
       "          _day          quadkey                  centroid  \\\n",
       "0   2023-11-05  123330223110332  POINT (80.05695 6.23357)   \n",
       "1   2023-11-05  123330212201103  POINT (80.30510 7.34278)   \n",
       "41  2023-11-05  123330302211012  POINT (81.85293 7.34726)   \n",
       "249 2023-11-04  123330211200132  POINT (80.93018 8.02135)   \n",
       "250 2023-11-04  123330211202030  POINT (80.88549 7.94911)   \n",
       "\n",
       "                                           convex_hull  new_highways  \\\n",
       "0                         POINT (80.0569472 6.2335733)             0   \n",
       "1                         POINT (80.3051031 7.3427836)             0   \n",
       "41   POLYGON ((81.8568094 7.342949, 81.8552897 7.34...             0   \n",
       "249                       POINT (80.9301787 8.0213519)             0   \n",
       "250                       POINT (80.8854931 7.9491091)             1   \n",
       "\n",
       "     new_buildings  new_amenities  edited_highways  edited_buildings  \\\n",
       "0                2              0                0                 1   \n",
       "1                0              0                0                 1   \n",
       "41             253              0                1                 0   \n",
       "249              1              0                0                 0   \n",
       "250              3              1                1                 0   \n",
       "\n",
       "     edited_amenities  new_features  edited_features  edited_vertices  \\\n",
       "0                   0             2                1                0   \n",
       "1                   0             1                1                2   \n",
       "41                  0           253                1                3   \n",
       "249                 0             1                0                0   \n",
       "250                 0             5                1                2   \n",
       "\n",
       "     edited_elements  deleted_elements  deleted_nodes  sum_edits  \\\n",
       "0                  1                 0              0         11   \n",
       "1                  4                 1              1         10   \n",
       "41                 4                 0              0       1272   \n",
       "249                0                 0              0          5   \n",
       "250                3                 0              0         26   \n",
       "\n",
       "     arbitrary_changeset                               sample_changeset_ids  \\\n",
       "0              143661854                                        [143661854]   \n",
       "1              143638026                                        [143638026]   \n",
       "41             143661894  [143661894, 143661933, 143662569, 143662552, 1...   \n",
       "249            143623893                                        [143623893]   \n",
       "250            143616173                                        [143616173]   \n",
       "\n",
       "     changeset_count    min_lon    max_lon   min_lat   max_lat    total_area  \\\n",
       "0                  1  80.054759  80.059135  6.233293  6.233853  3.012044e+04   \n",
       "1                  1  80.304936  80.305271  7.342566  7.343001  1.784843e+03   \n",
       "41                 5  81.848467  81.859375  7.342791  7.349723  8.263720e+05   \n",
       "249                1  80.930009  80.930348  8.021184  8.021520  1.392088e+03   \n",
       "250                1  80.846506  80.924480  7.900041  7.998177  9.370404e+07   \n",
       "\n",
       "     ... alumni steerco  regionalambassador mentor  \\\n",
       "0    ...    NaN     NaN                 NaN    NaN   \n",
       "1    ...    NaN     NaN                 NaN    NaN   \n",
       "41   ...    NaN     NaN                 NaN    NaN   \n",
       "249  ...    NaN     NaN                 NaN    NaN   \n",
       "250  ...    NaN     NaN                 NaN    NaN   \n",
       "\n",
       "                                           chapter  \\\n",
       "0                          YouthMappers at USJ-Geo   \n",
       "1                          YouthMappers at USJ-Geo   \n",
       "41   YouthMappers at Eastern University, Sri Lanka   \n",
       "249                        YouthMappers at USJ-Geo   \n",
       "250                        YouthMappers at USJ-Geo   \n",
       "\n",
       "                            university                         city  \\\n",
       "0    University of Sri Jayewardenepura   Sri Jayewardenepura, Kotte   \n",
       "1    University of Sri Jayewardenepura   Sri Jayewardenepura, Kotte   \n",
       "41                  Eastern University  Vantharumoolai, Chenkaladi    \n",
       "249  University of Sri Jayewardenepura   Sri Jayewardenepura, Kotte   \n",
       "250  University of Sri Jayewardenepura   Sri Jayewardenepura, Kotte   \n",
       "\n",
       "       country chapter_lon chapter_lat km_to_university highways buildings  \\\n",
       "0    Sri Lanka   79.905990    6.853620        70.934272        0         3   \n",
       "1    Sri Lanka   79.905990    6.853620        69.985698        0         1   \n",
       "41   Sri Lanka   81.582284    7.797753        58.303084        1       253   \n",
       "249  Sri Lanka   79.905990    6.853620       172.081215        0         1   \n",
       "250  Sri Lanka   79.905990    6.853620       162.800049        2         3   \n",
       "\n",
       "    amenities  all_feats        day  hashtags_list   timestamp       month  \\\n",
       "0           0          3 2023-11-05             {}  1699167600  2023-11-15   \n",
       "1           0          2 2023-11-05             {}  1699167600  2023-11-15   \n",
       "41          0        254 2023-11-05             {}  1699167600  2023-11-15   \n",
       "249         0          1 2023-11-04             {}  1699081200  2023-11-15   \n",
       "250         1          6 2023-11-04             {}  1699081200  2023-11-15   \n",
       "\n",
       "     index_right  edit_country edit_A3 edit_continent  edit_subregion  \\\n",
       "0            183     Sri Lanka     LKA           Asia   Southern Asia   \n",
       "1            183     Sri Lanka     LKA           Asia   Southern Asia   \n",
       "41           183     Sri Lanka     LKA           Asia   Southern Asia   \n",
       "249          183     Sri Lanka     LKA           Asia   Southern Asia   \n",
       "250          183     Sri Lanka     LKA           Asia   Southern Asia   \n",
       "\n",
       "          week  \n",
       "0   2023-10-30  \n",
       "1   2023-10-30  \n",
       "41  2023-10-30  \n",
       "249 2023-10-30  \n",
       "250 2023-10-30  \n",
       "\n",
       "[5 rows x 56 columns]"
      ]
     },
     "execution_count": 23,
     "metadata": {},
     "output_type": "execute_result"
    }
   ],
   "source": [
    "df_['week'] = df_._day - pd.to_timedelta(df_['_day'].dt.dayofweek, unit='d')\n",
    "df_.head()"
   ]
  },
  {
   "cell_type": "markdown",
   "id": "classified-creator",
   "metadata": {},
   "source": [
    "## Downscale for lower zoom levels:"
   ]
  },
  {
   "cell_type": "code",
   "execution_count": 24,
   "id": "equal-reduction",
   "metadata": {
    "ExecuteTime": {
     "end_time": "2023-11-23T00:01:03.499854Z",
     "start_time": "2023-11-23T00:01:00.060972Z"
    }
   },
   "outputs": [
    {
     "name": "stderr",
     "output_type": "stream",
     "text": [
      "Downscaling to Z10...Done\n",
      "Z10 row count: 120,643"
     ]
    },
    {
     "data": {
      "text/html": [
       "<div>\n",
       "<style scoped>\n",
       "    .dataframe tbody tr th:only-of-type {\n",
       "        vertical-align: middle;\n",
       "    }\n",
       "\n",
       "    .dataframe tbody tr th {\n",
       "        vertical-align: top;\n",
       "    }\n",
       "\n",
       "    .dataframe thead th {\n",
       "        text-align: right;\n",
       "    }\n",
       "</style>\n",
       "<table border=\"1\" class=\"dataframe\">\n",
       "  <thead>\n",
       "    <tr style=\"text-align: right;\">\n",
       "      <th></th>\n",
       "      <th></th>\n",
       "      <th></th>\n",
       "      <th>chapter_id</th>\n",
       "      <th>timestamp</th>\n",
       "      <th>centroid</th>\n",
       "      <th>all_feats</th>\n",
       "    </tr>\n",
       "    <tr>\n",
       "      <th>z10</th>\n",
       "      <th>week</th>\n",
       "      <th>uid</th>\n",
       "      <th></th>\n",
       "      <th></th>\n",
       "      <th></th>\n",
       "      <th></th>\n",
       "    </tr>\n",
       "  </thead>\n",
       "  <tbody>\n",
       "    <tr>\n",
       "      <th>0023022030</th>\n",
       "      <th>2020-08-10</th>\n",
       "      <th>8309360</th>\n",
       "      <td>1098</td>\n",
       "      <td>1597042800</td>\n",
       "      <td>[POINT (-156.7623209 71.2966706)]</td>\n",
       "      <td>1</td>\n",
       "    </tr>\n",
       "    <tr>\n",
       "      <th>0031011203</th>\n",
       "      <th>2023-07-17</th>\n",
       "      <th>1770239</th>\n",
       "      <td>1</td>\n",
       "      <td>1689750000</td>\n",
       "      <td>[POINT (-103.514109 78.7866658)]</td>\n",
       "      <td>0</td>\n",
       "    </tr>\n",
       "  </tbody>\n",
       "</table>\n",
       "</div>"
      ],
      "text/plain": [
       "                               chapter_id   timestamp  \\\n",
       "z10        week       uid                               \n",
       "0023022030 2020-08-10 8309360        1098  1597042800   \n",
       "0031011203 2023-07-17 1770239           1  1689750000   \n",
       "\n",
       "                                                        centroid  all_feats  \n",
       "z10        week       uid                                                    \n",
       "0023022030 2020-08-10 8309360  [POINT (-156.7623209 71.2966706)]          1  \n",
       "0031011203 2023-07-17 1770239   [POINT (-103.514109 78.7866658)]          0  "
      ]
     },
     "execution_count": 24,
     "metadata": {},
     "output_type": "execute_result"
    }
   ],
   "source": [
    "sys.stderr.write(\"Downscaling to Z10...\")\n",
    "df_['z10'] = df_.quadkey.apply(lambda q: q[:10])\n",
    "gb_z10 = df_.groupby(['z10','week','uid']).aggregate({'chapter_id':max, 'timestamp':min,\n",
    "     'centroid':list, 'all_feats':sum})\n",
    "sys.stderr.write(\"Done\\nZ10 row count: {:,}\".format(len(gb_z10)))\n",
    "gb_z10.head(2)"
   ]
  },
  {
   "cell_type": "code",
   "execution_count": 26,
   "id": "passing-transport",
   "metadata": {
    "ExecuteTime": {
     "end_time": "2023-11-23T00:02:04.470359Z",
     "start_time": "2023-11-23T00:02:00.134598Z"
    }
   },
   "outputs": [
    {
     "name": "stderr",
     "output_type": "stream",
     "text": [
      "Downscaling to Z8...Done\n",
      "Z8 row count: 149,015"
     ]
    },
    {
     "data": {
      "text/html": [
       "<div>\n",
       "<style scoped>\n",
       "    .dataframe tbody tr th:only-of-type {\n",
       "        vertical-align: middle;\n",
       "    }\n",
       "\n",
       "    .dataframe tbody tr th {\n",
       "        vertical-align: top;\n",
       "    }\n",
       "\n",
       "    .dataframe thead th {\n",
       "        text-align: right;\n",
       "    }\n",
       "</style>\n",
       "<table border=\"1\" class=\"dataframe\">\n",
       "  <thead>\n",
       "    <tr style=\"text-align: right;\">\n",
       "      <th></th>\n",
       "      <th></th>\n",
       "      <th></th>\n",
       "      <th>chapter_id</th>\n",
       "      <th>timestamp</th>\n",
       "      <th>centroid</th>\n",
       "      <th>all_feats</th>\n",
       "    </tr>\n",
       "    <tr>\n",
       "      <th>z8</th>\n",
       "      <th>day</th>\n",
       "      <th>uid</th>\n",
       "      <th></th>\n",
       "      <th></th>\n",
       "      <th></th>\n",
       "      <th></th>\n",
       "    </tr>\n",
       "  </thead>\n",
       "  <tbody>\n",
       "    <tr>\n",
       "      <th>00230220</th>\n",
       "      <th>2020-08-10</th>\n",
       "      <th>8309360</th>\n",
       "      <td>1098</td>\n",
       "      <td>1597042800</td>\n",
       "      <td>[POINT (-156.7623209 71.2966706)]</td>\n",
       "      <td>1</td>\n",
       "    </tr>\n",
       "    <tr>\n",
       "      <th>00310112</th>\n",
       "      <th>2023-07-19</th>\n",
       "      <th>1770239</th>\n",
       "      <td>1</td>\n",
       "      <td>1689750000</td>\n",
       "      <td>[POINT (-103.514109 78.7866658)]</td>\n",
       "      <td>0</td>\n",
       "    </tr>\n",
       "  </tbody>\n",
       "</table>\n",
       "</div>"
      ],
      "text/plain": [
       "                             chapter_id   timestamp  \\\n",
       "z8       day        uid                               \n",
       "00230220 2020-08-10 8309360        1098  1597042800   \n",
       "00310112 2023-07-19 1770239           1  1689750000   \n",
       "\n",
       "                                                      centroid  all_feats  \n",
       "z8       day        uid                                                    \n",
       "00230220 2020-08-10 8309360  [POINT (-156.7623209 71.2966706)]          1  \n",
       "00310112 2023-07-19 1770239   [POINT (-103.514109 78.7866658)]          0  "
      ]
     },
     "execution_count": 26,
     "metadata": {},
     "output_type": "execute_result"
    }
   ],
   "source": [
    "sys.stderr.write(\"Downscaling to Z8...\")\n",
    "df_['z8'] = df_.quadkey.apply(lambda q: q[:8])\n",
    "gb_z8 = df_.groupby(['z8','day','uid']).aggregate({'chapter_id':max, 'timestamp':max,\n",
    "     'centroid':list, 'all_feats':sum})\n",
    "sys.stderr.write(\"Done\\nZ8 row count: {:,}\".format(len(gb_z8)))\n",
    "gb_z8.head(2)"
   ]
  },
  {
   "cell_type": "markdown",
   "id": "divided-driver",
   "metadata": {},
   "source": [
    "## Create per-chapter GeoJSON features"
   ]
  },
  {
   "cell_type": "code",
   "execution_count": 27,
   "id": "respected-illness",
   "metadata": {
    "ExecuteTime": {
     "end_time": "2023-11-23T00:02:23.499346Z",
     "start_time": "2023-11-23T00:02:19.519463Z"
    }
   },
   "outputs": [],
   "source": [
    "daily_chapter_activity = df_.groupby(['z8','day','chapter']).aggregate(\n",
    "    {'amenities':sum,'buildings':sum,'highways':sum,'all_feats':sum,'centroid':list,\n",
    "     'uid':'nunique'}\n",
    ")"
   ]
  },
  {
   "cell_type": "code",
   "execution_count": 28,
   "id": "cooked-newfoundland",
   "metadata": {
    "ExecuteTime": {
     "end_time": "2023-11-23T00:02:44.330001Z",
     "start_time": "2023-11-23T00:02:35.886006Z"
    }
   },
   "outputs": [
    {
     "data": {
      "text/html": [
       "<div>\n",
       "<style scoped>\n",
       "    .dataframe tbody tr th:only-of-type {\n",
       "        vertical-align: middle;\n",
       "    }\n",
       "\n",
       "    .dataframe tbody tr th {\n",
       "        vertical-align: top;\n",
       "    }\n",
       "\n",
       "    .dataframe thead th {\n",
       "        text-align: right;\n",
       "    }\n",
       "</style>\n",
       "<table border=\"1\" class=\"dataframe\">\n",
       "  <thead>\n",
       "    <tr style=\"text-align: right;\">\n",
       "      <th></th>\n",
       "      <th></th>\n",
       "      <th></th>\n",
       "      <th>amenities</th>\n",
       "      <th>buildings</th>\n",
       "      <th>highways</th>\n",
       "      <th>all_feats</th>\n",
       "      <th>centroid</th>\n",
       "      <th>uid</th>\n",
       "      <th>geojson</th>\n",
       "      <th>geometry</th>\n",
       "    </tr>\n",
       "    <tr>\n",
       "      <th>z8</th>\n",
       "      <th>day</th>\n",
       "      <th>chapter</th>\n",
       "      <th></th>\n",
       "      <th></th>\n",
       "      <th></th>\n",
       "      <th></th>\n",
       "      <th></th>\n",
       "      <th></th>\n",
       "      <th></th>\n",
       "      <th></th>\n",
       "    </tr>\n",
       "  </thead>\n",
       "  <tbody>\n",
       "    <tr>\n",
       "      <th>00230220</th>\n",
       "      <th>2020-08-10</th>\n",
       "      <th>Geomatics Engineering Students Association of Nepal</th>\n",
       "      <td>0</td>\n",
       "      <td>0</td>\n",
       "      <td>1</td>\n",
       "      <td>1</td>\n",
       "      <td>[POINT (-156.7623209 71.2966706)]</td>\n",
       "      <td>1</td>\n",
       "      <td>{'type': 'Point', 'coordinates': (-156.7623209...</td>\n",
       "      <td>{'type': 'Point', 'coordinates': [-156.762321,...</td>\n",
       "    </tr>\n",
       "    <tr>\n",
       "      <th>00310112</th>\n",
       "      <th>2023-07-19</th>\n",
       "      <th>Good Mappers</th>\n",
       "      <td>0</td>\n",
       "      <td>0</td>\n",
       "      <td>0</td>\n",
       "      <td>0</td>\n",
       "      <td>[POINT (-103.514109 78.7866658)]</td>\n",
       "      <td>1</td>\n",
       "      <td>{'type': 'Point', 'coordinates': (-103.514109,...</td>\n",
       "      <td>{'type': 'Point', 'coordinates': [-103.514109,...</td>\n",
       "    </tr>\n",
       "  </tbody>\n",
       "</table>\n",
       "</div>"
      ],
      "text/plain": [
       "                                                                        amenities  \\\n",
       "z8       day        chapter                                                         \n",
       "00230220 2020-08-10 Geomatics Engineering Students Association of N...          0   \n",
       "00310112 2023-07-19 Good Mappers                                                0   \n",
       "\n",
       "                                                                        buildings  \\\n",
       "z8       day        chapter                                                         \n",
       "00230220 2020-08-10 Geomatics Engineering Students Association of N...          0   \n",
       "00310112 2023-07-19 Good Mappers                                                0   \n",
       "\n",
       "                                                                        highways  \\\n",
       "z8       day        chapter                                                        \n",
       "00230220 2020-08-10 Geomatics Engineering Students Association of N...         1   \n",
       "00310112 2023-07-19 Good Mappers                                               0   \n",
       "\n",
       "                                                                        all_feats  \\\n",
       "z8       day        chapter                                                         \n",
       "00230220 2020-08-10 Geomatics Engineering Students Association of N...          1   \n",
       "00310112 2023-07-19 Good Mappers                                                0   \n",
       "\n",
       "                                                                                                 centroid  \\\n",
       "z8       day        chapter                                                                                 \n",
       "00230220 2020-08-10 Geomatics Engineering Students Association of N...  [POINT (-156.7623209 71.2966706)]   \n",
       "00310112 2023-07-19 Good Mappers                                         [POINT (-103.514109 78.7866658)]   \n",
       "\n",
       "                                                                        uid  \\\n",
       "z8       day        chapter                                                   \n",
       "00230220 2020-08-10 Geomatics Engineering Students Association of N...    1   \n",
       "00310112 2023-07-19 Good Mappers                                          1   \n",
       "\n",
       "                                                                                                                  geojson  \\\n",
       "z8       day        chapter                                                                                                 \n",
       "00230220 2020-08-10 Geomatics Engineering Students Association of N...  {'type': 'Point', 'coordinates': (-156.7623209...   \n",
       "00310112 2023-07-19 Good Mappers                                        {'type': 'Point', 'coordinates': (-103.514109,...   \n",
       "\n",
       "                                                                                                                 geometry  \n",
       "z8       day        chapter                                                                                                \n",
       "00230220 2020-08-10 Geomatics Engineering Students Association of N...  {'type': 'Point', 'coordinates': [-156.762321,...  \n",
       "00310112 2023-07-19 Good Mappers                                        {'type': 'Point', 'coordinates': [-103.514109,...  "
      ]
     },
     "execution_count": 28,
     "metadata": {},
     "output_type": "execute_result"
    }
   ],
   "source": [
    "daily_chapter_activity['geojson'] = daily_chapter_activity.centroid.apply(\n",
    "    lambda l: shapely.geometry.mapping(shapely.geometry.MultiPoint(l).centroid))\n",
    "\n",
    "daily_chapter_activity['geometry'] = daily_chapter_activity.geojson.apply(lambda g: \n",
    "    {\"type\":\"Point\",\n",
    "     \"coordinates\": list(np.round(np.array(g['coordinates']),6))})\n",
    "daily_chapter_activity.head(2)"
   ]
  },
  {
   "cell_type": "markdown",
   "id": "quality-import",
   "metadata": {},
   "source": [
    "# Write out daily chapter activity: `daily_chapter_activity.geojson`"
   ]
  },
  {
   "cell_type": "code",
   "execution_count": 29,
   "id": "incomplete-batch",
   "metadata": {
    "ExecuteTime": {
     "end_time": "2023-11-23T00:03:06.805157Z",
     "start_time": "2023-11-23T00:02:56.192989Z"
    }
   },
   "outputs": [],
   "source": [
    "with open('../activity-dashboard/data/daily_chapter_activity.geojson','w') as outFile:\n",
    "    outFile.write('{\"type\":\"FeatureCollection\",\\n \"features\":[\\n')\n",
    "    rows = 0\n",
    "    total = len(daily_chapter_activity)\n",
    "    for (quadkey, day, chapter), row in daily_chapter_activity.iterrows():\n",
    "        rows+=1\n",
    "        feat = {\"type\":\"Feature\",\n",
    "                \"properties\": {\n",
    "                    'date'     : \"{}-{}-{}\".format(day.year,day.month,day.day),\n",
    "                    'chapter'  : chapter,\n",
    "                    'highways' : row.highways,\n",
    "                    'buildings': row.buildings,\n",
    "                    'amenities': row.amenities,\n",
    "                    'other'    : row.all_feats - row.highways - row.buildings - row.amenities,\n",
    "                    'mappers'  : row.uid\n",
    "                },\n",
    "                \"geometry\":row.geometry}\n",
    "        \n",
    "        if rows < total:\n",
    "            outFile.write(\"  \" + json.dumps(feat)+\",\\n\")\n",
    "        else:\n",
    "            outFile.write(\"  \" + json.dumps(feat)+\"\\n ]\\n}\")"
   ]
  },
  {
   "cell_type": "markdown",
   "id": "alternative-distributor",
   "metadata": {},
   "source": [
    "# Prepare Feature Exports for TippeCanoe"
   ]
  },
  {
   "cell_type": "code",
   "execution_count": 30,
   "id": "chemical-prize",
   "metadata": {
    "ExecuteTime": {
     "end_time": "2023-11-23T00:03:22.728261Z",
     "start_time": "2023-11-23T00:03:22.725118Z"
    }
   },
   "outputs": [],
   "source": [
    "#Output Variables\n",
    "HASHTAG_THRESHOLD = 10\n",
    "OUTPUT_ROWS = ['chapter_id','timestamp','all_feats','amenities','buildings','highways']"
   ]
  },
  {
   "cell_type": "code",
   "execution_count": 31,
   "id": "beneficial-bishop",
   "metadata": {
    "ExecuteTime": {
     "end_time": "2023-11-23T00:03:34.626245Z",
     "start_time": "2023-11-23T00:03:34.622374Z"
    }
   },
   "outputs": [],
   "source": [
    "def build_feature_from_low_zoom_agg(key, row, layer_id, minzoom, maxzoom):\n",
    "    #Calculate the new centroid\n",
    "    centroid   = shapely.geometry.MultiPoint(row.centroid).centroid\n",
    "    centroid_geojson = shapely.geometry.mapping(centroid)\n",
    "    centroid_geojson['coordinates'] = list(np.round(np.array(centroid_geojson['coordinates']),8))\n",
    "    \n",
    "    feature = {'type':'Feature',\n",
    "               'properties': {},\n",
    "               'geometry': centroid_geojson,\n",
    "               'tippecanoe':{\n",
    "                   'layer' : layer_id,\n",
    "                   'minzoom':minzoom,\n",
    "                   'maxzoom':maxzoom\n",
    "               }}\n",
    "    for r in OUTPUT_ROWS:\n",
    "        if r in row:\n",
    "            feature['properties'][r] = row[r]\n",
    "    return feature"
   ]
  },
  {
   "cell_type": "markdown",
   "id": "unlikely-share",
   "metadata": {},
   "source": [
    "# Heavy Lifting Row Iterator to Write GeoJSON Features: `all_youthmappers_changesets_*.geojsonseq`"
   ]
  },
  {
   "cell_type": "markdown",
   "id": "61a76060",
   "metadata": {
    "ExecuteTime": {
     "end_time": "2023-11-23T00:19:30.593793Z",
     "start_time": "2023-11-23T00:19:30.591386Z"
    }
   },
   "source": [
    "### Can we do it in SQL with duckdb?\n",
    "\n",
    "```sql\n",
    "COPY(\n",
    "    SELECT\n",
    "        ST_CENTROID(ST_Union_Agg(ST_GeomFromWKB(centroid))) AS geometry\n",
    "    FROM read_parquet('/Users/jenningsanderson/youthmappers/activity-dashboard-backend/parquet/*/*', hive_partitioning=1)\n",
    "\n",
    "    GROUP BY date_trunc('week',_day), uid, substr(quadkey,1,8)\n",
    ") TO 'z8.geojsonseq'\n",
    "WITH (FORMAT GDAL, DRIVER 'GeoJSONSeq', SRS 'EPSG:4326');\n",
    "\n",
    "```"
   ]
  },
  {
   "cell_type": "code",
   "execution_count": 32,
   "id": "royal-grocery",
   "metadata": {
    "ExecuteTime": {
     "end_time": "2023-11-23T00:12:16.729124Z",
     "start_time": "2023-11-23T00:03:46.452474Z"
    }
   },
   "outputs": [
    {
     "name": "stderr",
     "output_type": "stream",
     "text": [
      "Beginning Z8, First Feature: \n",
      "{\"type\": \"Feature\", \"properties\": {\"chapter_id\": 1098, \"timestamp\": 1597042800, \"all_feats\": 1}, \"geometry\": {\"type\": \"Point\", \"coordinates\": [-156.7623209, 71.2966706]}, \"tippecanoe\": {\"layer\": \"z8agg\", \"minzoom\": 2, \"maxzoom\": 2}}\n",
      "145,000 / 149,015 features written\n",
      "Finished z8 Aggregation, beginning z10:\n",
      "First Feature: \n",
      "{\"type\": \"Feature\", \"properties\": {\"chapter_id\": 1098, \"timestamp\": 1597042800, \"all_feats\": 1}, \"geometry\": {\"type\": \"Point\", \"coordinates\": [-156.7623209, 71.2966706]}, \"tippecanoe\": {\"layer\": \"z10agg\", \"minzoom\": 3, \"maxzoom\": 5}}\n",
      "120,000 / 120,643 features written\n",
      "Finished z10 Aggregation, beginning z15:\n",
      "First Feature: \n",
      "{\"type\": \"Feature\", \"properties\": {\"chapter_id\": 1288, \"timestamp\": 1699167600, \"all_feats\": 3, \"amenities\": 0, \"buildings\": 3, \"highways\": 0}, \"geometry\": {\"type\": \"Point\", \"coordinates\": [80.0569472, 6.2335733]}, \"tippecanoe\": {\"layer\": \"z15agg\", \"minzoom\": 6, \"maxzoom\": 10}}\n",
      "530,000 / 532,097 features written\n",
      "\n",
      "Finished z15 circle Aggregation, beginning z15 Poly:\n",
      "First Feature: \n",
      "{\"type\": \"Feature\", \"properties\": {\"chapter_id\": 1288, \"timestamp\": 1699167600, \"all_feats\": 3, \"amenities\": 0, \"buildings\": 3, \"highways\": 0}, \"geometry\": {\"type\": \"LineString\", \"coordinates\": [[80.0547592, 6.2332933], [80.0547592, 6.2338533], [80.0591352, 6.2338533], [80.0591352, 6.2332933], [80.0547592, 6.2332933]]}, \"tippecanoe\": {\"layer\": \"z15agg_bbox\", \"minzoom\": 10, \"maxzoom\": 10}}\n",
      "530,000 / 532,097 features written\n",
      "Done. Now run: \n",
      "\n",
      "\ttippecanoe -B1 -Z1 -z10 -fP -o ym_changesets.mbtiles all_youthmappers_changesets_*.geojsonseq"
     ]
    },
    {
     "data": {
      "text/plain": [
       "112"
      ]
     },
     "execution_count": 32,
     "metadata": {},
     "output_type": "execute_result"
    }
   ],
   "source": [
    "line_count=0;\n",
    "HEAD = None\n",
    "with open('geojson/all_youthmappers_changesets_z8.geojsonseq','w') as output_geojson:\n",
    "    \n",
    "    # First do the z8 aggregation\n",
    "    for key, row in gb_z8.head(HEAD).iterrows():\n",
    "        feat = build_feature_from_low_zoom_agg(key, row, 'z8agg',2,2)\n",
    "\n",
    "        if line_count==0:\n",
    "            sys.stderr.write(\"Beginning Z8, First Feature: \\n\"+json.dumps(feat)+\"\\n\")\n",
    "        \n",
    "        output_geojson.write( json.dumps(feat) +\"\\n\")\n",
    "        line_count+=1;\n",
    "\n",
    "        if line_count %5000==0:\n",
    "            sys.stderr.write(\"\\r{:,} / {:,} features written\".format(line_count, len(gb_z8)))\n",
    "    \n",
    "    sys.stderr.write(\"\\nFinished z8 Aggregation, beginning z10:\\n\")\n",
    "    line_count=0;\n",
    "    \n",
    "with open('geojson/all_youthmappers_changesets_z10.geojsonseq','w') as output_geojson:\n",
    "    for key, row in gb_z10.head(HEAD).iterrows():\n",
    "        feat = build_feature_from_low_zoom_agg(key, row, 'z10agg',3,5)\n",
    "\n",
    "        if line_count==0:\n",
    "            sys.stderr.write(\"First Feature: \\n\"+json.dumps(feat)+\"\\n\")\n",
    "        \n",
    "        output_geojson.write( json.dumps(feat) +\"\\n\")\n",
    "        line_count+=1;\n",
    "\n",
    "        if line_count %5000==0:\n",
    "            sys.stderr.write(\"\\r{:,} / {:,} features written\".format(line_count, len(gb_z10)))\n",
    " \n",
    "    sys.stderr.write(\"\\nFinished z10 Aggregation, beginning z15:\\n\")\n",
    "    line_count=0;\n",
    "\n",
    "with open('geojson/all_youthmappers_changesets_z15.geojsonseq','w') as output_geojson:\n",
    "    for idx, row in df.head(HEAD).iterrows():\n",
    "        feature = {'type':'Feature',\n",
    "                   'properties': dict(row[OUTPUT_ROWS]),\n",
    "                   'geometry': shapely.geometry.mapping(row.centroid),\n",
    "                   'tippecanoe':{\n",
    "                       'layer' : 'z15agg',\n",
    "                       'minzoom':6,\n",
    "                       'maxzoom':10\n",
    "                   }}\n",
    "                    \n",
    "        if line_count==0:\n",
    "            sys.stderr.write(\"First Feature: \\n\"+json.dumps(feature)+\"\\n\")\n",
    "\n",
    "        output_geojson.write( json.dumps(feature) +\"\\n\")\n",
    "        line_count+=1;\n",
    "        if line_count %5000==0:\n",
    "            sys.stderr.write(\"\\r{:,} / {:,} features written\".format(line_count, len(df)))\n",
    "    sys.stderr.write(\"\\n\\nFinished z15 circle Aggregation, beginning z15 Poly:\\n\")\n",
    "    line_count=0;\n",
    "\n",
    "with open('geojson/all_youthmappers_changesets_z15_bboxes.geojsonseq','w') as output_geojson:\n",
    "    for idx, row in df.head(HEAD).iterrows():\n",
    "        feature = {'type':'Feature',\n",
    "                   'properties': dict(row[OUTPUT_ROWS]),\n",
    "                   'geometry': {'type':'LineString','coordinates':[\n",
    "                       [row.min_lon, row.min_lat],\n",
    "                       [row.min_lon, row.max_lat],\n",
    "                       [row.max_lon, row.max_lat],\n",
    "                       [row.max_lon, row.min_lat],\n",
    "                       [row.min_lon, row.min_lat]]},\n",
    "                   'tippecanoe':{\n",
    "                       'layer' : 'z15agg_bbox',\n",
    "                       'minzoom':10,\n",
    "                       'maxzoom':10\n",
    "                   }}\n",
    "                    \n",
    "        if line_count==0:\n",
    "            sys.stderr.write(\"First Feature: \\n\"+json.dumps(feature)+\"\\n\")\n",
    "\n",
    "        output_geojson.write( json.dumps(feature) +\"\\n\")\n",
    "        line_count+=1;\n",
    "        if line_count %5000==0:\n",
    "            sys.stderr.write(\"\\r{:,} / {:,} features written\".format(line_count, len(df)))\n",
    "sys.stderr.write(\"\\nDone. Now run: \\n\\n\\ttippecanoe -B1 -Z1 -z10 -fP -o ym_changesets.mbtiles all_youthmappers_changesets_*.geojsonseq\")"
   ]
  },
  {
   "cell_type": "markdown",
   "id": "fluid-compilation",
   "metadata": {},
   "source": [
    "<br>\n",
    "<br>\n",
    "<hr>\n",
    "\n",
    "# MEL Reporting Requirements"
   ]
  },
  {
   "cell_type": "code",
   "execution_count": null,
   "id": "printable-confirmation",
   "metadata": {
    "ExecuteTime": {
     "end_time": "2023-10-18T00:32:07.202944Z",
     "start_time": "2023-10-18T00:32:06.196510Z"
    }
   },
   "outputs": [],
   "source": [
    "df_['month'] = df_.day.apply(lambda d: date(d.year, d.month, 15))\n",
    "df.head(2)"
   ]
  },
  {
   "cell_type": "code",
   "execution_count": null,
   "id": "liberal-chance",
   "metadata": {
    "ExecuteTime": {
     "end_time": "2023-10-18T00:32:16.520608Z",
     "start_time": "2023-10-18T00:32:16.422660Z"
    }
   },
   "outputs": [],
   "source": [
    "df_.gender = df_.gender.fillna('').apply(lambda s: s.lower())"
   ]
  },
  {
   "cell_type": "code",
   "execution_count": null,
   "id": "defined-arrow",
   "metadata": {
    "ExecuteTime": {
     "end_time": "2023-10-18T00:32:26.116704Z",
     "start_time": "2023-10-18T00:32:25.151437Z"
    }
   },
   "outputs": [],
   "source": [
    "gb_month_gender = df_[df_.gender != ''].groupby(['month','gender']).aggregate({\n",
    "    'uid':'nunique', \n",
    "    'chapter_id':'nunique',\n",
    "    'highways':sum, \n",
    "    'buildings':sum,\n",
    "    'amenities':sum, \n",
    "    'all_feats':sum \n",
    "})\n",
    "\n",
    "gb_month_gender.unstack().uid.plot.area(stacked=True, lw=0, figsize=(15,8))\n",
    "                                           "
   ]
  },
  {
   "cell_type": "code",
   "execution_count": null,
   "id": "internal-crazy",
   "metadata": {
    "ExecuteTime": {
     "end_time": "2023-10-18T00:32:34.775604Z",
     "start_time": "2023-10-18T00:32:34.766810Z"
    }
   },
   "outputs": [],
   "source": [
    "gb_month_gender.rename(columns={'uid':'mappers','chapter_id':'chapters'}).to_csv('mappers_per_month_with_gender.csv')"
   ]
  },
  {
   "cell_type": "markdown",
   "id": "operating-summary",
   "metadata": {},
   "source": [
    "<br><br>\n",
    "<hr>\n",
    "<br><br>\n",
    "\n",
    "# Summary Stats and Visualizations"
   ]
  },
  {
   "cell_type": "code",
   "execution_count": null,
   "id": "instrumental-sleep",
   "metadata": {
    "ExecuteTime": {
     "end_time": "2023-03-14T23:58:47.003053Z",
     "start_time": "2023-03-14T23:58:46.994443Z"
    }
   },
   "outputs": [],
   "source": [
    "import matplotlib.pyplot as plt\n",
    "import seaborn as sns\n",
    "\n",
    "%config InlineBackend.figure_format = 'retina'"
   ]
  },
  {
   "cell_type": "code",
   "execution_count": null,
   "id": "focal-payday",
   "metadata": {
    "ExecuteTime": {
     "end_time": "2022-03-12T19:46:07.715507Z",
     "start_time": "2022-03-12T19:46:07.546925Z"
    }
   },
   "outputs": [],
   "source": [
    "df.hashtags_list = df.hashtags_list.apply(set)"
   ]
  },
  {
   "cell_type": "code",
   "execution_count": null,
   "id": "homeless-hierarchy",
   "metadata": {
    "ExecuteTime": {
     "end_time": "2023-03-14T23:59:13.238530Z",
     "start_time": "2023-03-14T23:59:13.176039Z"
    }
   },
   "outputs": [],
   "source": [
    "print(\"Overall, our dataset contains {:,} known YouthMapper usernames from {:,} chapters that have made at least 1 edit in OSM\".format(\n",
    "    df.uid.nunique(), df.chapter.nunique())\n",
    ")"
   ]
  },
  {
   "cell_type": "markdown",
   "id": "consolidated-helping",
   "metadata": {},
   "source": [
    "## Time Bounded"
   ]
  },
  {
   "cell_type": "code",
   "execution_count": null,
   "id": "explicit-leadership",
   "metadata": {
    "ExecuteTime": {
     "end_time": "2023-03-14T23:59:22.360024Z",
     "start_time": "2023-03-14T23:59:22.355049Z"
    }
   },
   "outputs": [],
   "source": [
    "START_DATE  = pd.Timestamp('2022-01-01')\n",
    "END_DATE    = pd.Timestamp('2023-01-01')"
   ]
  },
  {
   "cell_type": "code",
   "execution_count": null,
   "id": "criminal-journey",
   "metadata": {
    "ExecuteTime": {
     "end_time": "2023-03-14T23:59:26.918712Z",
     "start_time": "2023-03-14T23:59:26.857613Z"
    }
   },
   "outputs": [],
   "source": [
    "_slice = df[ (df.day >= START_DATE) & \n",
    "             (df.day  < END_DATE) ]\n",
    "print(\"In this time slice, we saw:\\n\\t{:,} Distinct YouthMappers from \\n\\t{:,} Chapters\".format(\n",
    "    _slice.uid.nunique(),_slice.chapter.nunique()))\n",
    "first_edits = df.groupby('uid').aggregate({'day':min}).reset_index()\n",
    "print(\"\\t{} of these mappers made their first edit.\".format(len(\n",
    "    first_edits[(first_edits.day >= START_DATE) & (first_edits.day < END_DATE)])))"
   ]
  },
  {
   "cell_type": "code",
   "execution_count": null,
   "id": "certified-shoulder",
   "metadata": {
    "ExecuteTime": {
     "end_time": "2023-03-15T00:10:22.168957Z",
     "start_time": "2023-03-15T00:10:22.160790Z"
    }
   },
   "outputs": [],
   "source": [
    "print(\"New Objects:\\n\\tBuildings: {:,}\\n\\tHighways:  {:,}\\n\\tAmenities: {:,}\\n\\tOther:     {:,}\".format(\n",
    "    _slice.new_buildings.sum(), _slice.new_highways.sum(), _slice.new_amenities.sum(),\n",
    "    _slice.new_features.sum() - (_slice.new_buildings.sum()+_slice.new_highways.sum()+_slice.new_amenities.sum())))\n",
    "print(\"===========================\")\n",
    "print(\"Edited Objects:\\n\\tBuildings: {:,}\\n\\tHighways:  {:,}\\n\\tAmenities: {:,}\\n\\tOther:     {:,}\".format(\n",
    "    _slice.edited_buildings.sum(), _slice.edited_highways.sum(), _slice.edited_amenities.sum(),\n",
    "    _slice.edited_features.sum() - (_slice.edited_buildings.sum()+_slice.edited_highways.sum()+_slice.edited_amenities.sum())))\n",
    "# print(\"\\nDeleted Objects:   {:,}\".format(_slice.deleted_features.sum()))"
   ]
  },
  {
   "cell_type": "markdown",
   "id": "vocal-minnesota",
   "metadata": {},
   "source": [
    "## Top Chapters"
   ]
  },
  {
   "cell_type": "code",
   "execution_count": null,
   "id": "major-demonstration",
   "metadata": {
    "ExecuteTime": {
     "end_time": "2023-03-15T00:10:44.819704Z",
     "start_time": "2023-03-15T00:10:44.776973Z"
    }
   },
   "outputs": [],
   "source": [
    "top_chaps = _slice.groupby('chapter').aggregate(\n",
    "    {'uid':'nunique',\n",
    "     'new_features': sum,\n",
    "     'edited_features': sum,\n",
    "     'sum_edits': sum,\n",
    "     'changeset_count': sum,\n",
    "     'all_feats': sum,\n",
    "     'highways': sum,\n",
    "     'buildings': sum,\n",
    "     'amenities': sum}).sort_values(by='all_feats', ascending=False).rename(\n",
    "    columns={'uid':\"Mappers\"})\n",
    "top_chaps.to_csv('mapper_data/2022_statistics.csv')\n",
    "\n",
    "top_chaps.sum()"
   ]
  },
  {
   "cell_type": "markdown",
   "id": "bigger-tongue",
   "metadata": {},
   "source": [
    "## Per Continent Stats?"
   ]
  },
  {
   "cell_type": "code",
   "execution_count": null,
   "id": "sacred-wheel",
   "metadata": {
    "ExecuteTime": {
     "end_time": "2023-03-21T03:18:39.404700Z",
     "start_time": "2023-03-21T03:18:38.997512Z"
    }
   },
   "outputs": [],
   "source": [
    "ax = df_[(df_.edit_continent=='Africa') & \n",
    "         (df_._day>datetime(2018,1,1,0,0,0))\n",
    "        ].groupby('_day').aggregate({'uid':'nunique'}).sort_index().rolling(7).mean().plot(figsize=(10,4))\n",
    "ax.set_title(\"Active YouthMappers editing in African Countries since 2018\", fontsize=16)\n",
    "ax.set_ylabel(\"Daily Mappers\\n(7-day rolling average)\", fontsize=14); ax.set_xlabel(None);"
   ]
  },
  {
   "cell_type": "code",
   "execution_count": null,
   "id": "southern-green",
   "metadata": {
    "ExecuteTime": {
     "end_time": "2023-03-21T03:21:47.299664Z",
     "start_time": "2023-03-21T03:21:46.932753Z"
    }
   },
   "outputs": [],
   "source": [
    "ax = df_[(df_.edit_continent=='Africa') & \n",
    "         (df_._day>datetime(2018,1,1,0,0,0))\n",
    "        ].groupby('_day').aggregate({'all_feats':sum}).sort_index().cumsum().plot(figsize=(10,4))\n",
    "ax.set_title(\"Features edited within African countries by YouthMappers since 2018\", fontsize=16)\n",
    "ax.set_ylabel(\"OSM Features edited\", fontsize=14); ax.set_xlabel(None);\n",
    "ax.yaxis.set_major_formatter(lambda x, pos: \"{} Million\".format(int(x/1000000)))\n",
    "ax.set_ylim(1,10000000);"
   ]
  },
  {
   "cell_type": "code",
   "execution_count": null,
   "id": "therapeutic-rouge",
   "metadata": {
    "ExecuteTime": {
     "end_time": "2023-03-15T00:00:43.865273Z",
     "start_time": "2023-03-15T00:00:43.796652Z"
    }
   },
   "outputs": [],
   "source": [
    "print(\"Top 15 Countries by New Features Count\")\n",
    "aggregators = {'new_features':sum,'new_buildings':sum, 'new_highways':sum, 'new_amenities':sum, \n",
    "        'edited_features':sum, 'chapter':'nunique', 'uid':'nunique'}\n",
    "_slice.groupby('country').aggregate(aggregators\n",
    "    ).sort_values(by='new_features',ascending=False).head(15).rename(columns={'chapter':\"# Chapters\",'uid':\"# Mappers\"})\n"
   ]
  },
  {
   "cell_type": "code",
   "execution_count": null,
   "id": "private-ideal",
   "metadata": {
    "ExecuteTime": {
     "end_time": "2022-03-12T01:08:20.254801Z",
     "start_time": "2022-03-12T01:08:18.310536Z"
    }
   },
   "outputs": [],
   "source": [
    "ax = _slice.plot(column='new_features',cmap='viridis', figsize=(15,8), s=np.log1p(_slice.all_feats))\n",
    "ax.set_title(\"Edit Concentration this quarter\")"
   ]
  },
  {
   "cell_type": "code",
   "execution_count": null,
   "id": "removable-rental",
   "metadata": {
    "ExecuteTime": {
     "end_time": "2022-03-12T01:08:22.059301Z",
     "start_time": "2022-03-12T01:08:21.114769Z"
    }
   },
   "outputs": [],
   "source": [
    "df['month'] = df.day.apply(lambda d: date(d.year, d.month, 15))\n",
    "gb_month = df.groupby('month').aggregate(aggregators)"
   ]
  },
  {
   "cell_type": "code",
   "execution_count": null,
   "id": "fatty-mason",
   "metadata": {
    "ExecuteTime": {
     "end_time": "2022-03-12T01:08:23.263568Z",
     "start_time": "2022-03-12T01:08:22.910336Z"
    }
   },
   "outputs": [],
   "source": [
    "sns.set_style('darkgrid')\n",
    "ax = gb_month['new_features'].plot(figsize=(15,8))\n",
    "ax.set_title(\"New Features Added Each Month (Globally)\", fontsize=20)\n",
    "ax.set_xlabel(None)\n",
    "ax.yaxis.set_major_formatter(lambda x, pos: \"{:,}\".format(int(x)))"
   ]
  },
  {
   "cell_type": "code",
   "execution_count": null,
   "id": "immediate-scout",
   "metadata": {
    "ExecuteTime": {
     "end_time": "2022-03-12T01:08:24.409872Z",
     "start_time": "2022-03-12T01:08:24.102291Z"
    }
   },
   "outputs": [],
   "source": [
    "sns.set_style('darkgrid')\n",
    "ax = gb_month['edited_features'].plot(figsize=(15,8))\n",
    "ax.set_title(\"Features Edited Each Month (Globally)\", fontsize=20)\n",
    "ax.set_xlabel(None)\n",
    "ax.yaxis.set_major_formatter(lambda x, pos: \"{:,}\".format(int(x)))"
   ]
  },
  {
   "cell_type": "code",
   "execution_count": null,
   "id": "laughing-malawi",
   "metadata": {
    "ExecuteTime": {
     "end_time": "2022-03-12T01:08:25.282012Z",
     "start_time": "2022-03-12T01:08:25.278055Z"
    }
   },
   "outputs": [],
   "source": [
    "_slice.edited_buildings.sum(), _slice.new_buildings.sum()"
   ]
  },
  {
   "cell_type": "code",
   "execution_count": null,
   "id": "hawaiian-method",
   "metadata": {
    "ExecuteTime": {
     "end_time": "2022-03-12T01:08:26.164735Z",
     "start_time": "2022-03-12T01:08:26.158193Z"
    }
   },
   "outputs": [],
   "source": [
    "_slice.chapter.unique()"
   ]
  },
  {
   "cell_type": "code",
   "execution_count": null,
   "id": "whole-division",
   "metadata": {
    "ExecuteTime": {
     "end_time": "2022-03-12T01:08:27.063281Z",
     "start_time": "2022-03-12T01:08:27.012494Z"
    }
   },
   "outputs": [],
   "source": [
    "days_per_mapper = df.groupby('uid').aggregate({'day':'nunique'}).reset_index()\n",
    "active_contributors = days_per_mapper[days_per_mapper.day>=42].uid\n",
    "\n",
    "print(\"There are {} _active contributors_ in YouthMappers (mapped for at least 42 days)\".format(len(active_contributors)))\n",
    "print(\"{} of these mappers were active in this time slice\".format(_slice[_slice.uid.isin(active_contributors)].uid.nunique()))"
   ]
  },
  {
   "cell_type": "code",
   "execution_count": null,
   "id": "comprehensive-folks",
   "metadata": {
    "ExecuteTime": {
     "end_time": "2022-03-12T01:08:30.301881Z",
     "start_time": "2022-03-12T01:08:30.276156Z"
    },
    "scrolled": false
   },
   "outputs": [],
   "source": [
    "by_subregion = _slice.groupby('subregion').aggregate(\n",
    "    {'uid':'nunique','chapter':'nunique','all_feats':sum}\n",
    ").sort_values(by='all_feats',ascending=False).rename(\n",
    "    columns={'uid':\"YouthMappers\",'chapter':\"Chapters\",'all_feats':'Features'})\n",
    "by_subregion.head(15)"
   ]
  },
  {
   "cell_type": "code",
   "execution_count": null,
   "id": "loaded-vitamin",
   "metadata": {
    "ExecuteTime": {
     "end_time": "2022-03-12T01:08:34.329830Z",
     "start_time": "2022-03-12T01:08:33.100711Z"
    }
   },
   "outputs": [],
   "source": [
    "df['year'] = df.day.apply(lambda d: d.year)\n",
    "df.head(2)"
   ]
  },
  {
   "cell_type": "code",
   "execution_count": null,
   "id": "advanced-baghdad",
   "metadata": {
    "ExecuteTime": {
     "end_time": "2021-10-04T04:43:56.668527Z",
     "start_time": "2021-10-04T04:43:55.554952Z"
    }
   },
   "outputs": [],
   "source": [
    "df['month'] = df.day.apply(lambda d: date(d.year, d.month, 1))"
   ]
  },
  {
   "cell_type": "code",
   "execution_count": null,
   "id": "atlantic-platform",
   "metadata": {
    "ExecuteTime": {
     "end_time": "2021-10-04T04:44:27.847644Z",
     "start_time": "2021-10-04T04:44:27.430238Z"
    }
   },
   "outputs": [],
   "source": [
    "sns.set_style('darkgrid')\n",
    "ax = df.groupby('month').aggregate({'chapter':'nunique'}).rolling(7).mean().plot(figsize=(15,8), legend=None)\n",
    "ax.set_xlabel(None);\n",
    "ax.set_title(\"Number of Distinct Chapters Active Each Month\", fontsize=24)"
   ]
  },
  {
   "cell_type": "code",
   "execution_count": null,
   "id": "critical-honey",
   "metadata": {
    "ExecuteTime": {
     "end_time": "2021-10-04T12:34:58.324042Z",
     "start_time": "2021-10-04T12:34:57.911999Z"
    }
   },
   "outputs": [],
   "source": [
    "sns.set_style('darkgrid')\n",
    "ax = df.groupby('month').aggregate({'uid':'nunique'}).rolling(7).mean().plot(figsize=(15,8), legend=None)\n",
    "ax.set_xlabel(None);\n",
    "ax.set_title(\"Number of Distinct Mappers Active Each Month\", fontsize=24)"
   ]
  },
  {
   "cell_type": "code",
   "execution_count": null,
   "id": "aggressive-signal",
   "metadata": {
    "ExecuteTime": {
     "end_time": "2021-10-04T04:30:23.953060Z",
     "start_time": "2021-10-04T04:30:17.479451Z"
    }
   },
   "outputs": [],
   "source": [
    "with open('changesets_by_year.geojson','w') as outFile:\n",
    "    outFile.write(df[['year','centroid','all_feats','username']].to_json())"
   ]
  },
  {
   "cell_type": "code",
   "execution_count": null,
   "id": "controlling-station",
   "metadata": {},
   "outputs": [],
   "source": [
    "# Top Edited Countries by User count: \n",
    "hashtags_used = _slice.groupby('chapter').aggregate({'uid':'nunique',\n",
    "                                     'country':'nunique',\n",
    "                                     'all_feats':sum,\n",
    "                                     'hashtags_list':lambda a: set.union(*a)}\n",
    "    ).sort_values(by='all_feats',ascending=False).rename(columns={\n",
    "         'uid':'Mappers','country':'Countries Edited','all_feats':'Total features'})\n",
    "hashtags_used['Distinct Hashtags Used'] = hashtags_used.hashtags_list.apply(len)\n",
    "hashtags_used.head(10)"
   ]
  },
  {
   "cell_type": "code",
   "execution_count": null,
   "id": "passive-vertical",
   "metadata": {
    "ExecuteTime": {
     "end_time": "2021-10-04T13:31:40.575866Z",
     "start_time": "2021-10-04T13:31:38.438788Z"
    }
   },
   "outputs": [],
   "source": [
    "country_geoms = gpd.read_file('/Users/jenningsanderson/various-osm/data/countries.geojson').set_index('ADMIN')"
   ]
  },
  {
   "cell_type": "code",
   "execution_count": null,
   "id": "solid-advancement",
   "metadata": {
    "scrolled": false
   },
   "outputs": [],
   "source": [
    "# Top Edited Countries by feature\n",
    "countries = _slice.groupby('country').aggregate(\n",
    "        {'all_feats':'sum','chapter':set}\n",
    ").sort_values(by='all_feats',ascending=False)\n",
    "display(countries.head(10))\n",
    "list(countries.head(2).chapter)"
   ]
  },
  {
   "cell_type": "code",
   "execution_count": null,
   "id": "alike-nutrition",
   "metadata": {
    "ExecuteTime": {
     "end_time": "2021-10-04T13:32:18.887225Z",
     "start_time": "2021-10-04T13:32:18.875472Z"
    }
   },
   "outputs": [],
   "source": [
    "countries"
   ]
  },
  {
   "cell_type": "code",
   "execution_count": null,
   "id": "mediterranean-rotation",
   "metadata": {
    "ExecuteTime": {
     "end_time": "2021-10-04T15:33:46.798949Z",
     "start_time": "2021-10-04T15:33:46.796801Z"
    }
   },
   "outputs": [],
   "source": [
    "from matplotlib import colors"
   ]
  },
  {
   "cell_type": "code",
   "execution_count": null,
   "id": "resistant-father",
   "metadata": {
    "ExecuteTime": {
     "end_time": "2021-10-04T14:08:24.297737Z",
     "start_time": "2021-10-04T14:08:22.475727Z"
    }
   },
   "outputs": [],
   "source": [
    "country_geoms.join(countries).plot(column='all_feats', cmap='Greens', figsize=(15,10))"
   ]
  },
  {
   "cell_type": "code",
   "execution_count": null,
   "id": "julian-living",
   "metadata": {
    "ExecuteTime": {
     "end_time": "2021-10-04T15:34:25.081079Z",
     "start_time": "2021-10-04T15:34:23.781414Z"
    }
   },
   "outputs": [],
   "source": [
    "country_geoms.join(countries).plot(column='all_feats', cmap='Greens', figsize=(15,10), \n",
    "                                   norm=colors.LogNorm(vmin=countries.all_feats.min(), vmax=countries.all_feats.max(), ))"
   ]
  },
  {
   "cell_type": "code",
   "execution_count": null,
   "id": "clinical-surname",
   "metadata": {},
   "outputs": [],
   "source": [
    "_slice[_slice.country=='Afghanistan'].groupby('chapter').aggregate({'all_feats':sum}).sort_values(by='all_feats',ascending=False)"
   ]
  },
  {
   "cell_type": "code",
   "execution_count": null,
   "id": "lyric-average",
   "metadata": {},
   "outputs": [],
   "source": [
    "hashtags = _slice[_slice.country=='Afghanistan'].groupby('chapter').aggregate(\n",
    "    {'all_feats':sum, 'hashtags_list':lambda a: set.union(*a)\n",
    "}).sort_values(by='all_feats',ascending=False)\n",
    "hashtags.head()"
   ]
  },
  {
   "cell_type": "code",
   "execution_count": null,
   "id": "adult-survey",
   "metadata": {},
   "outputs": [],
   "source": [
    "list(hashtags.hashtags_list)"
   ]
  },
  {
   "cell_type": "code",
   "execution_count": null,
   "id": "operating-thickness",
   "metadata": {},
   "outputs": [],
   "source": [
    "with open('2021_q2.geojson','w') as output:\n",
    "    output.write(_slice[['highways','buildings','amenities','all_feats','sum_edits','uid','chapter','centroid','timestamp']].to_json())"
   ]
  }
 ],
 "metadata": {
  "hide_input": false,
  "kernelspec": {
   "display_name": "Python 3 (ipykernel)",
   "language": "python",
   "name": "python3"
  },
  "language_info": {
   "codemirror_mode": {
    "name": "ipython",
    "version": 3
   },
   "file_extension": ".py",
   "mimetype": "text/x-python",
   "name": "python",
   "nbconvert_exporter": "python",
   "pygments_lexer": "ipython3",
   "version": "3.11.3"
  },
  "varInspector": {
   "cols": {
    "lenName": 16,
    "lenType": 16,
    "lenVar": 40
   },
   "kernels_config": {
    "python": {
     "delete_cmd_postfix": "",
     "delete_cmd_prefix": "del ",
     "library": "var_list.py",
     "varRefreshCmd": "print(var_dic_list())"
    },
    "r": {
     "delete_cmd_postfix": ") ",
     "delete_cmd_prefix": "rm(",
     "library": "var_list.r",
     "varRefreshCmd": "cat(var_dic_list()) "
    }
   },
   "types_to_exclude": [
    "module",
    "function",
    "builtin_function_or_method",
    "instance",
    "_Feature"
   ],
   "window_display": false
  }
 },
 "nbformat": 4,
 "nbformat_minor": 5
}
