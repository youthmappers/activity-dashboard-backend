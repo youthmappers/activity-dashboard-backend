{
 "cells": [
  {
   "cell_type": "code",
   "execution_count": 14,
   "id": "incorporate-yellow",
   "metadata": {
    "ExecuteTime": {
     "end_time": "2023-08-16T23:03:20.050192Z",
     "start_time": "2023-08-16T23:03:20.047583Z"
    }
   },
   "outputs": [],
   "source": [
    "import boto3, time, json\n",
    "import pandas as pd"
   ]
  },
  {
   "cell_type": "code",
   "execution_count": 2,
   "id": "foreign-rating",
   "metadata": {
    "ExecuteTime": {
     "end_time": "2023-08-16T22:44:51.606444Z",
     "start_time": "2023-08-16T22:44:51.446475Z"
    }
   },
   "outputs": [],
   "source": [
    "athena = boto3.client('athena', region_name='us-east-1')"
   ]
  },
  {
   "cell_type": "code",
   "execution_count": 3,
   "id": "measured-daily",
   "metadata": {
    "ExecuteTime": {
     "end_time": "2023-08-16T22:44:52.363635Z",
     "start_time": "2023-08-16T22:44:52.358685Z"
    }
   },
   "outputs": [],
   "source": [
    "def get_query_status(queryId):\n",
    "    res = athena.get_query_execution(QueryExecutionId=queryId)\n",
    "    return res.get('QueryExecution').get('Status').get('State')\n",
    "\n",
    "def run_and_wait_for_query(query_string='select count(distinct(uid)) from youthmappers'):\n",
    "    query = athena.start_query_execution(\n",
    "        QueryString=query_string,\n",
    "        QueryExecutionContext={\n",
    "            'Database': 'default'\n",
    "        },\n",
    "        ResultConfiguration={\n",
    "            'OutputLocation': 's3://yetigeolabs/youthmappers/query_results/',\n",
    "        },\n",
    "        WorkGroup='youthmappers'\n",
    "    )\n",
    "    queryId = query.get('QueryExecutionId')\n",
    "    \n",
    "    count=1\n",
    "    while get_query_status(queryId) in [\"QUEUED\",\"RUNNING\"]:\n",
    "        print( get_query_status(queryId), end=f\" .. ({5*count})\\n\" )\n",
    "        time.sleep(5*count)\n",
    "        count+=1\n",
    "    print(\"Status: \" + get_query_status(queryId))\n",
    "    return queryId"
   ]
  },
  {
   "cell_type": "code",
   "execution_count": 4,
   "id": "known-timeline",
   "metadata": {
    "ExecuteTime": {
     "end_time": "2023-08-16T22:45:01.788299Z",
     "start_time": "2023-08-16T22:44:55.877503Z"
    }
   },
   "outputs": [
    {
     "name": "stdout",
     "output_type": "stream",
     "text": [
      "QUEUED .. (5)\n",
      "Status: SUCCEEDED\n",
      "Athena has 2815 YouthMappers UIDs\n"
     ]
    }
   ],
   "source": [
    "count = run_and_wait_for_query()\n",
    "res = athena.get_query_results(\n",
    "    QueryExecutionId=count,\n",
    "    MaxResults=2\n",
    ")\n",
    "youthmapper_count = int([ d.get('Data')[0].get('VarCharValue') for d in res.get('ResultSet').get('Rows')][1])\n",
    "print(f\"Athena has {youthmapper_count} YouthMappers UIDs\")"
   ]
  },
  {
   "cell_type": "code",
   "execution_count": 6,
   "id": "c2452ac6",
   "metadata": {
    "ExecuteTime": {
     "end_time": "2023-07-24T18:53:36.280241Z",
     "start_time": "2023-07-24T18:53:36.277840Z"
    }
   },
   "outputs": [],
   "source": [
    "# Check for the latest list of Mappers?"
   ]
  },
  {
   "cell_type": "markdown",
   "id": "massive-charge",
   "metadata": {
    "ExecuteTime": {
     "end_time": "2023-04-28T15:42:30.621042Z",
     "start_time": "2023-04-28T15:42:30.618998Z"
    }
   },
   "source": [
    "## Upload the latest list of Mappers to S3"
   ]
  },
  {
   "cell_type": "code",
   "execution_count": 5,
   "id": "f8e4529b",
   "metadata": {
    "ExecuteTime": {
     "end_time": "2023-08-16T22:51:07.636749Z",
     "start_time": "2023-08-16T22:51:07.633150Z"
    }
   },
   "outputs": [],
   "source": [
    "# Build the latest list of mappers based on the files"
   ]
  },
  {
   "cell_type": "code",
   "execution_count": 20,
   "id": "fc08c0ea",
   "metadata": {
    "ExecuteTime": {
     "end_time": "2023-08-16T23:04:51.946409Z",
     "start_time": "2023-08-16T23:04:51.896028Z"
    }
   },
   "outputs": [
    {
     "data": {
      "text/html": [
       "<div>\n",
       "<style scoped>\n",
       "    .dataframe tbody tr th:only-of-type {\n",
       "        vertical-align: middle;\n",
       "    }\n",
       "\n",
       "    .dataframe tbody tr th {\n",
       "        vertical-align: top;\n",
       "    }\n",
       "\n",
       "    .dataframe thead th {\n",
       "        text-align: right;\n",
       "    }\n",
       "</style>\n",
       "<table border=\"1\" class=\"dataframe\">\n",
       "  <thead>\n",
       "    <tr style=\"text-align: right;\">\n",
       "      <th></th>\n",
       "      <th>uid</th>\n",
       "      <th>username</th>\n",
       "      <th>Gender</th>\n",
       "      <th>team_id</th>\n",
       "      <th>Alumni</th>\n",
       "      <th>Steering Committee</th>\n",
       "      <th>Regional Ambassador</th>\n",
       "      <th>Mentor</th>\n",
       "      <th>Chapter</th>\n",
       "      <th>University</th>\n",
       "      <th>City</th>\n",
       "      <th>Country</th>\n",
       "      <th>chapter_lon</th>\n",
       "      <th>chapter_lat</th>\n",
       "    </tr>\n",
       "  </thead>\n",
       "  <tbody>\n",
       "    <tr>\n",
       "      <th>0</th>\n",
       "      <td>27099</td>\n",
       "      <td>MAPconcierge</td>\n",
       "      <td>NaN</td>\n",
       "      <td>57</td>\n",
       "      <td>NaN</td>\n",
       "      <td>NaN</td>\n",
       "      <td>NaN</td>\n",
       "      <td>NaN</td>\n",
       "      <td>YouthMappers AGU</td>\n",
       "      <td>Aoyama Gakuin University</td>\n",
       "      <td>Sagamihara</td>\n",
       "      <td>Japan</td>\n",
       "      <td>139.710309</td>\n",
       "      <td>35.660551</td>\n",
       "    </tr>\n",
       "    <tr>\n",
       "      <th>1</th>\n",
       "      <td>8353419</td>\n",
       "      <td>f1kuni</td>\n",
       "      <td>male</td>\n",
       "      <td>57</td>\n",
       "      <td>NaN</td>\n",
       "      <td>NaN</td>\n",
       "      <td>NaN</td>\n",
       "      <td>NaN</td>\n",
       "      <td>YouthMappers AGU</td>\n",
       "      <td>Aoyama Gakuin University</td>\n",
       "      <td>Sagamihara</td>\n",
       "      <td>Japan</td>\n",
       "      <td>139.710309</td>\n",
       "      <td>35.660551</td>\n",
       "    </tr>\n",
       "    <tr>\n",
       "      <th>2</th>\n",
       "      <td>10419753</td>\n",
       "      <td>OkayaT</td>\n",
       "      <td>female</td>\n",
       "      <td>57</td>\n",
       "      <td>NaN</td>\n",
       "      <td>NaN</td>\n",
       "      <td>NaN</td>\n",
       "      <td>NaN</td>\n",
       "      <td>YouthMappers AGU</td>\n",
       "      <td>Aoyama Gakuin University</td>\n",
       "      <td>Sagamihara</td>\n",
       "      <td>Japan</td>\n",
       "      <td>139.710309</td>\n",
       "      <td>35.660551</td>\n",
       "    </tr>\n",
       "    <tr>\n",
       "      <th>3</th>\n",
       "      <td>11830680</td>\n",
       "      <td>caucasus1327</td>\n",
       "      <td>male</td>\n",
       "      <td>57</td>\n",
       "      <td>NaN</td>\n",
       "      <td>NaN</td>\n",
       "      <td>NaN</td>\n",
       "      <td>NaN</td>\n",
       "      <td>YouthMappers AGU</td>\n",
       "      <td>Aoyama Gakuin University</td>\n",
       "      <td>Sagamihara</td>\n",
       "      <td>Japan</td>\n",
       "      <td>139.710309</td>\n",
       "      <td>35.660551</td>\n",
       "    </tr>\n",
       "    <tr>\n",
       "      <th>4</th>\n",
       "      <td>13067323</td>\n",
       "      <td>ibukilego</td>\n",
       "      <td>male</td>\n",
       "      <td>57</td>\n",
       "      <td>NaN</td>\n",
       "      <td>NaN</td>\n",
       "      <td>NaN</td>\n",
       "      <td>NaN</td>\n",
       "      <td>YouthMappers AGU</td>\n",
       "      <td>Aoyama Gakuin University</td>\n",
       "      <td>Sagamihara</td>\n",
       "      <td>Japan</td>\n",
       "      <td>139.710309</td>\n",
       "      <td>35.660551</td>\n",
       "    </tr>\n",
       "  </tbody>\n",
       "</table>\n",
       "</div>"
      ],
      "text/plain": [
       "        uid      username  Gender  team_id Alumni Steering Committee  \\\n",
       "0     27099  MAPconcierge     NaN       57    NaN                NaN   \n",
       "1   8353419        f1kuni    male       57    NaN                NaN   \n",
       "2  10419753        OkayaT  female       57    NaN                NaN   \n",
       "3  11830680  caucasus1327    male       57    NaN                NaN   \n",
       "4  13067323     ibukilego    male       57    NaN                NaN   \n",
       "\n",
       "  Regional Ambassador Mentor           Chapter                University  \\\n",
       "0                 NaN    NaN  YouthMappers AGU  Aoyama Gakuin University   \n",
       "1                 NaN    NaN  YouthMappers AGU  Aoyama Gakuin University   \n",
       "2                 NaN    NaN  YouthMappers AGU  Aoyama Gakuin University   \n",
       "3                 NaN    NaN  YouthMappers AGU  Aoyama Gakuin University   \n",
       "4                 NaN    NaN  YouthMappers AGU  Aoyama Gakuin University   \n",
       "\n",
       "         City Country  chapter_lon  chapter_lat  \n",
       "0  Sagamihara   Japan   139.710309    35.660551  \n",
       "1  Sagamihara   Japan   139.710309    35.660551  \n",
       "2  Sagamihara   Japan   139.710309    35.660551  \n",
       "3  Sagamihara   Japan   139.710309    35.660551  \n",
       "4  Sagamihara   Japan   139.710309    35.660551  "
      ]
     },
     "execution_count": 20,
     "metadata": {},
     "output_type": "execute_result"
    }
   ],
   "source": [
    "mappers = pd.read_csv('../osm-teams-api/youthmappers.csv').set_index('uid')\n",
    "chapters = pd.read_json('../osm-teams-api/chapters.json')\n",
    "chapters['chapter_lon'] = chapters.location.apply(lambda l: json.loads(l).get('coordinates')[0] if pd.notnull(l) else None)\n",
    "chapters['chapter_lat'] = chapters.location.apply(lambda l: json.loads(l).get('coordinates')[1] if pd.notnull(l) else None)\n",
    "# Merge them:\n",
    "t = mappers.merge(chapters[\n",
    "    ['name','University','City','Country','chapter_lon','chapter_lat']\n",
    "                 ].rename(columns={'name':'Chapter'}), left_on='team_id', right_index=True\n",
    ").reset_index().rename(columns={'index':'uid'})\n",
    "t.head()"
   ]
  },
  {
   "cell_type": "code",
   "execution_count": 21,
   "id": "8a0c43d4",
   "metadata": {
    "ExecuteTime": {
     "end_time": "2023-08-16T23:05:26.100724Z",
     "start_time": "2023-08-16T23:05:26.074091Z"
    }
   },
   "outputs": [],
   "source": [
    "t.to_csv('youthmappers_for_athena.tsv', sep=\"\\t\", header=False, index=False)"
   ]
  },
  {
   "cell_type": "code",
   "execution_count": 22,
   "id": "peaceful-pharmaceutical",
   "metadata": {
    "ExecuteTime": {
     "end_time": "2023-08-16T23:06:05.318398Z",
     "start_time": "2023-08-16T23:06:02.335743Z"
    }
   },
   "outputs": [
    {
     "data": {
      "text/plain": [
       "s3.Object(bucket_name='yetigeolabs', key='youthmappers/mappers/youthmappers-for-athena.tsv')"
      ]
     },
     "execution_count": 22,
     "metadata": {},
     "output_type": "execute_result"
    }
   ],
   "source": [
    "s3 = boto3.resource('s3')\n",
    "data = open('youthmappers_for_athena.tsv','rb')\n",
    "s3.Bucket('yetigeolabs').put_object(Key='youthmappers/mappers/youthmappers-for-athena.tsv', Body=data)"
   ]
  },
  {
   "cell_type": "code",
   "execution_count": 23,
   "id": "naughty-dinner",
   "metadata": {
    "ExecuteTime": {
     "end_time": "2023-08-16T23:06:25.388269Z",
     "start_time": "2023-08-16T23:06:19.501531Z"
    }
   },
   "outputs": [
    {
     "name": "stdout",
     "output_type": "stream",
     "text": [
      "QUEUED .. (5)\n",
      "Status: SUCCEEDED\n",
      "Athena now sees 2896 YouthMappers UIDs\n"
     ]
    }
   ],
   "source": [
    "count = run_and_wait_for_query()\n",
    "res = athena.get_query_results(\n",
    "    QueryExecutionId=count,\n",
    "    MaxResults=2\n",
    ")\n",
    "youthmapper_count = int([ d.get('Data')[0].get('VarCharValue') for d in res.get('ResultSet').get('Rows')][1])\n",
    "print(f\"Athena now sees {youthmapper_count} YouthMappers UIDs\")"
   ]
  },
  {
   "cell_type": "markdown",
   "id": "coated-farming",
   "metadata": {},
   "source": [
    "# Obtaining all YouthMappers Changesets"
   ]
  },
  {
   "cell_type": "code",
   "execution_count": 24,
   "id": "stupid-tennessee",
   "metadata": {
    "ExecuteTime": {
     "end_time": "2023-08-16T23:06:33.849838Z",
     "start_time": "2023-08-16T23:06:33.844947Z"
    }
   },
   "outputs": [],
   "source": [
    "# Okay, actually run the changesets query:\n",
    "youthmapper_changesets = \"\"\"\n",
    "WITH ym_changesets AS (\n",
    "\tSELECT changesets.id as changeset_id,\n",
    "\t\tchangesets.uid,\n",
    "\t\tsplit(tags [ 'hashtags' ], ';') as hashtags,\n",
    "\t\tsplit(tags [ 'created_by' ], ' ') [ 1 ] as created_by,\n",
    "\t\tdate(changesets.created_at) as _day,\n",
    "\t\tnum_changes,\n",
    "\t\tST_Point(\n",
    "\t\t\t(min_lon + max_lon) / 2,\n",
    "\t\t\t(min_lat + max_lat) / 2\n",
    "\t\t) as center,\n",
    "\t\tbing_tile_quadkey(\n",
    "\t\t\tbing_tile_at(\n",
    "\t\t\t\t(min_lat + max_lat) / 2,\n",
    "\t\t\t\t(min_lon + max_lon) / 2,\n",
    "\t\t\t\t15\n",
    "\t\t\t)\n",
    "\t\t) as quadkey,\n",
    "\t\tmin_lat,\n",
    "\t\tmin_lon,\n",
    "\t\tmax_lat,\n",
    "\t\tmax_lon,\n",
    "\t\tCASE\n",
    "\t\t\tWHEN min_lat <> max_lat\n",
    "\t\t\tAND min_lon <> max_lon THEN ST_AREA(\n",
    "\t\t\t\tto_spherical_geography(\n",
    "\t\t\t\t\tST_ENVELOPE(\n",
    "\t\t\t\t\t\tST_LINESTRING(\n",
    "\t\t\t\t\t\t\tARRAY [ ST_Point(min_lon, min_lat),\n",
    "\t\t\t\t\t\t\tST_Point(max_lon, max_lat) ]\n",
    "\t\t\t\t\t\t)\n",
    "\t\t\t\t\t)\n",
    "\t\t\t\t)\n",
    "\t\t\t) ELSE 0\n",
    "\t\tEND AS area\n",
    "\tFROM changesets\n",
    "\t\tINNER JOIN youthmappers ON youthmappers.uid = changesets.uid\n",
    "\tWHERE changesets.created_at > date '2015-01-01'\n",
    "),\n",
    "aggregated_features_per_changeset AS (\n",
    "\tSELECT changeset_id,\n",
    "\t\tcount_if(\n",
    "\t\t\t(tags [ 'highway' ] is not null)\n",
    "\t\t\tand (version = 1)\n",
    "\t\t) as new_highways,\n",
    "\t\tcount_if(\n",
    "\t\t\t(tags [ 'building' ] is not null)\n",
    "\t\t\tand (version = 1)\n",
    "\t\t) as new_buildings,\n",
    "\t\tcount_if(\n",
    "\t\t\t(tags [ 'amenity' ] is not null)\n",
    "\t\t\tand (version = 1)\n",
    "\t\t) as new_amenities,\n",
    "\t\tcount_if(\n",
    "\t\t\t(tags [ 'highway' ] is not null)\n",
    "\t\t\tand (version > 1)\n",
    "\t\t) as edited_highways,\n",
    "\t\tcount_if(\n",
    "\t\t\t(tags [ 'building' ] is not null)\n",
    "\t\t\tand (version > 1)\n",
    "\t\t) as edited_buildings,\n",
    "\t\tcount_if(\n",
    "\t\t\t(tags [ 'amenity' ] is not null)\n",
    "\t\t\tand (version > 1)\n",
    "\t\t) as edited_amenities,\n",
    "\t\tcount_if(\n",
    "\t\t\ttype = 'node'\n",
    "\t\t\tand version > 1\n",
    "\t\t\tand cardinality(tags) = 0\n",
    "\t\t\tand visible = true\n",
    "\t\t) as edited_vertices,\n",
    "\t\tcount_if(visible = false) as deleted_elements,\n",
    "\t\tcount_if(\n",
    "\t\t\tvisible = false\n",
    "\t\t\tand type = 'node'\n",
    "\t\t) as deleted_nodes,\n",
    "\t\tcount_if(version > 1) as edited_elements,\n",
    "\t\tcount_if(\n",
    "\t\t\tversion > 1\n",
    "\t\t\tand cardinality(tags) > 0\n",
    "\t\t) as edited_features,\n",
    "\t\tcount_if(version = 1) as new_features\n",
    "\tFROM ym_changesets\n",
    "\t\tJOIN planet_history ON ym_changesets.changeset_id = planet_history.changeset\n",
    "\tWHERE cardinality(planet_history.tags) > 0\n",
    "\t\tOR type IN ('way', 'relation')\n",
    "\t\tOR (\n",
    "\t\t\ttype = 'node'\n",
    "\t\t\tAND version > 1\n",
    "\t\t)\n",
    "\tGROUP BY changeset_id\n",
    "),\n",
    "\n",
    "per_tile_user_day AS (\n",
    "\tSELECT sum(new_highways) as new_highways,\n",
    "\t\tsum(new_buildings) as new_buildings,\n",
    "\t\tsum(new_amenities) as new_amenities,\n",
    "\t\tsum(new_features) as new_features,\n",
    "\t\tsum(edited_highways) as edited_highways,\n",
    "\t\tsum(edited_buildings) as edited_buildings,\n",
    "\t\tsum(edited_amenities) as edited_amenities,\n",
    "\t\tsum(edited_features) as edited_features,\n",
    "\t\tsum(edited_vertices) as edited_vertices,\n",
    "\t\tsum(edited_elements) as edited_elements,\n",
    "\t\tsum(deleted_elements) as deleted_elements,\n",
    "\t\tsum(deleted_nodes) as deleted_nodes,\n",
    "\t\tsum(num_changes) as sum_edits,\n",
    "\t\tcount(DISTINCT(a.changeset_id)) as changeset_count,\n",
    "\t\tarbitrary(a.changeset_id) as arbitrary_changeset,\n",
    "\t\tslice(array_agg(a.changeset_id), 1, 5) as sample_changeset_ids,\n",
    "\t\tflatten(array_agg(hashtags)) as hashtags_lists,\n",
    "\t\thistogram(created_by) as tools,\n",
    "\t\tgeometry_union_agg(center) as point_agg,\n",
    "\t\tmin(min_lat) as min_lat,\n",
    "\t\tmin(min_lon) as min_lon,\n",
    "\t\tmax(max_lat) as max_lat,\n",
    "\t\tmax(max_lon) as max_lon,\n",
    "\t\tsum(area) as total_area,\n",
    "\t\ta.uid,\n",
    "\t\ta.quadkey,\n",
    "\t\ta._day\n",
    "\tFROM ym_changesets a\n",
    "\t\tJOIN aggregated_features_per_changeset b ON a.changeset_id = b.changeset_id\n",
    "\tGROUP BY uid,\n",
    "\t\tquadkey,\n",
    "\t\t_day\n",
    "),\n",
    "per_tile_user_day_with_ym AS (\n",
    "\tSELECT a._day,\n",
    "\t\ta.quadkey,\n",
    "\t\tST_Centroid(point_agg) as centroid,\n",
    "\t\tST_CONVEXHULL(point_agg) as convex_hull,\n",
    "\t\tnew_highways,\n",
    "\t\tnew_buildings,\n",
    "\t\tnew_amenities,\n",
    "\t\tedited_highways,\n",
    "\t\tedited_buildings,\n",
    "\t\tedited_amenities,\n",
    "\t\tnew_features,\n",
    "\t\tedited_features,\n",
    "\t\tedited_vertices,\n",
    "\t\tedited_elements,\n",
    "\t\tdeleted_elements,\n",
    "\t\tdeleted_nodes,\n",
    "\t\tsum_edits,\n",
    "\t\tarbitrary_changeset,\n",
    "\t\tsample_changeset_ids,\n",
    "\t\tchangeset_count,\n",
    "\t\tmin_lon,\n",
    "\t\tmax_lon,\n",
    "\t\tmin_lat,\n",
    "\t\tmax_lat,\n",
    "\t\ttotal_area,\n",
    "\t\tcast(a.tools as json) as tools,\n",
    "\t\tcast(a.hashtags_lists as json) as hashtags,\n",
    "\t\tb.*\n",
    "\tFROM per_tile_user_day a\n",
    "\t\tJOIN youthmappers b ON a.uid = b.uid\n",
    ")\n",
    "SELECT *,\n",
    "\tCASE\n",
    "\t\tWHEN chapter_lon IS NOT NULL\n",
    "\t\tAND chapter_lat IS NOT NULL THEN ST_DISTANCE(\n",
    "\t\t\tto_spherical_geography(ST_Point(chapter_lon, chapter_lat)),\n",
    "\t\t\tto_spherical_geography(centroid)\n",
    "\t\t) / 1000 ELSE NULL\n",
    "\tEND AS km_to_university\n",
    "FROM per_tile_user_day_with_ym\n",
    "ORDER BY _day DESC,\n",
    "\tuid DESC\n",
    "\"\"\""
   ]
  },
  {
   "cell_type": "code",
   "execution_count": 25,
   "id": "biblical-fabric",
   "metadata": {
    "ExecuteTime": {
     "end_time": "2023-08-16T23:09:39.419616Z",
     "start_time": "2023-08-16T23:06:36.614715Z"
    }
   },
   "outputs": [
    {
     "name": "stdout",
     "output_type": "stream",
     "text": [
      "QUEUED .. (5)\n",
      "RUNNING .. (10)\n",
      "RUNNING .. (15)\n",
      "RUNNING .. (20)\n",
      "RUNNING .. (25)\n",
      "RUNNING .. (30)\n",
      "RUNNING .. (35)\n",
      "RUNNING .. (40)\n",
      "Status: SUCCEEDED\n"
     ]
    }
   ],
   "source": [
    "ym_changesets = run_and_wait_for_query(query_string = youthmapper_changesets)"
   ]
  },
  {
   "cell_type": "code",
   "execution_count": 26,
   "id": "finite-distance",
   "metadata": {
    "ExecuteTime": {
     "end_time": "2023-08-16T23:10:33.265842Z",
     "start_time": "2023-08-16T23:10:23.815354Z"
    }
   },
   "outputs": [],
   "source": [
    "s3 = boto3.client('s3')\n",
    "with open('youthmapper_changesets_latest.csv', 'wb') as f:\n",
    "    s3.download_fileobj('yetigeolabs', f'youthmappers/query_results/{ym_changesets}.csv', f)"
   ]
  },
  {
   "cell_type": "code",
   "execution_count": null,
   "id": "above-carpet",
   "metadata": {},
   "outputs": [],
   "source": []
  }
 ],
 "metadata": {
  "hide_input": false,
  "kernelspec": {
   "display_name": "Python 3 (ipykernel)",
   "language": "python",
   "name": "python3"
  },
  "language_info": {
   "codemirror_mode": {
    "name": "ipython",
    "version": 3
   },
   "file_extension": ".py",
   "mimetype": "text/x-python",
   "name": "python",
   "nbconvert_exporter": "python",
   "pygments_lexer": "ipython3",
   "version": "3.11.3"
  },
  "varInspector": {
   "cols": {
    "lenName": 16,
    "lenType": 16,
    "lenVar": 40
   },
   "kernels_config": {
    "python": {
     "delete_cmd_postfix": "",
     "delete_cmd_prefix": "del ",
     "library": "var_list.py",
     "varRefreshCmd": "print(var_dic_list())"
    },
    "r": {
     "delete_cmd_postfix": ") ",
     "delete_cmd_prefix": "rm(",
     "library": "var_list.r",
     "varRefreshCmd": "cat(var_dic_list()) "
    }
   },
   "types_to_exclude": [
    "module",
    "function",
    "builtin_function_or_method",
    "instance",
    "_Feature"
   ],
   "window_display": false
  }
 },
 "nbformat": 4,
 "nbformat_minor": 5
}
