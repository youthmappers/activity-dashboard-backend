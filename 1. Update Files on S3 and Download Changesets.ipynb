{
 "cells": [
  {
   "cell_type": "code",
   "execution_count": 1,
   "id": "incorporate-yellow",
   "metadata": {
    "ExecuteTime": {
     "end_time": "2023-11-22T01:34:48.051983Z",
     "start_time": "2023-11-22T01:34:47.318550Z"
    }
   },
   "outputs": [],
   "source": [
    "import boto3, time, json\n",
    "import pandas as pd"
   ]
  },
  {
   "cell_type": "code",
   "execution_count": 2,
   "id": "foreign-rating",
   "metadata": {
    "ExecuteTime": {
     "end_time": "2023-11-22T01:34:48.768541Z",
     "start_time": "2023-11-22T01:34:48.601340Z"
    }
   },
   "outputs": [],
   "source": [
    "athena = boto3.client('athena', region_name='us-east-1')"
   ]
  },
  {
   "cell_type": "code",
   "execution_count": 3,
   "id": "measured-daily",
   "metadata": {
    "ExecuteTime": {
     "end_time": "2023-11-22T01:34:49.314294Z",
     "start_time": "2023-11-22T01:34:49.309586Z"
    }
   },
   "outputs": [],
   "source": [
    "def get_query_status(queryId):\n",
    "    res = athena.get_query_execution(QueryExecutionId=queryId)\n",
    "    return res.get('QueryExecution').get('Status').get('State')\n",
    "\n",
    "def run_and_wait_for_query(query_string='select count(distinct(uid)) from youthmappers'):\n",
    "    query = athena.start_query_execution(\n",
    "        QueryString=query_string,\n",
    "        QueryExecutionContext={\n",
    "            'Database': 'default'\n",
    "        },\n",
    "        ResultConfiguration={\n",
    "            'OutputLocation': 's3://yetigeolabs/youthmappers/query_results/',\n",
    "        },\n",
    "        WorkGroup='youthmappers'\n",
    "    )\n",
    "    queryId = query.get('QueryExecutionId')\n",
    "    \n",
    "    count=1\n",
    "    while get_query_status(queryId) in [\"QUEUED\",\"RUNNING\"]:\n",
    "        print( get_query_status(queryId), end=f\" .. ({5*count})\\n\" )\n",
    "        time.sleep(5*count)\n",
    "        count+=1\n",
    "    print(\"Status: \" + get_query_status(queryId))\n",
    "    return queryId"
   ]
  },
  {
   "cell_type": "code",
   "execution_count": 4,
   "id": "known-timeline",
   "metadata": {
    "ExecuteTime": {
     "end_time": "2023-11-22T01:34:56.635037Z",
     "start_time": "2023-11-22T01:34:50.660001Z"
    }
   },
   "outputs": [
    {
     "name": "stdout",
     "output_type": "stream",
     "text": [
      "QUEUED .. (5)\n",
      "Status: SUCCEEDED\n",
      "Athena has 3118 YouthMappers UIDs\n"
     ]
    }
   ],
   "source": [
    "count = run_and_wait_for_query()\n",
    "res = athena.get_query_results(\n",
    "    QueryExecutionId=count,\n",
    "    MaxResults=2\n",
    ")\n",
    "youthmapper_count = int([ d.get('Data')[0].get('VarCharValue') for d in res.get('ResultSet').get('Rows')][1])\n",
    "print(f\"Athena has {youthmapper_count} YouthMappers UIDs\")"
   ]
  },
  {
   "cell_type": "markdown",
   "id": "coated-farming",
   "metadata": {},
   "source": [
    "# Obtaining all YouthMappers Changesets"
   ]
  },
  {
   "cell_type": "code",
   "execution_count": 5,
   "id": "stupid-tennessee",
   "metadata": {
    "ExecuteTime": {
     "end_time": "2023-11-22T01:35:09.822715Z",
     "start_time": "2023-11-22T01:35:09.817610Z"
    }
   },
   "outputs": [],
   "source": [
    "# Okay, actually run the changesets query:\n",
    "youthmapper_changesets = \"\"\"\n",
    "WITH ym_changesets AS (\n",
    "\tSELECT changesets.id as changeset_id,\n",
    "\t\tchangesets.uid,\n",
    "\t\tsplit(tags [ 'hashtags' ], ';') as hashtags,\n",
    "\t\tsplit(tags [ 'created_by' ], ' ') [ 1 ] as created_by,\n",
    "\t\tdate(changesets.created_at) as _day,\n",
    "\t\tnum_changes,\n",
    "\t\tST_Point(\n",
    "\t\t\t(min_lon + max_lon) / 2,\n",
    "\t\t\t(min_lat + max_lat) / 2\n",
    "\t\t) as center,\n",
    "\t\tbing_tile_quadkey(\n",
    "\t\t\tbing_tile_at(\n",
    "\t\t\t\t(min_lat + max_lat) / 2,\n",
    "\t\t\t\t(min_lon + max_lon) / 2,\n",
    "\t\t\t\t15\n",
    "\t\t\t)\n",
    "\t\t) as quadkey,\n",
    "\t\tmin_lat,\n",
    "\t\tmin_lon,\n",
    "\t\tmax_lat,\n",
    "\t\tmax_lon,\n",
    "\t\tCASE\n",
    "\t\t\tWHEN min_lat <> max_lat\n",
    "\t\t\tAND min_lon <> max_lon THEN ST_AREA(\n",
    "\t\t\t\tto_spherical_geography(\n",
    "\t\t\t\t\tST_ENVELOPE(\n",
    "\t\t\t\t\t\tST_LINESTRING(\n",
    "\t\t\t\t\t\t\tARRAY [ ST_Point(min_lon, min_lat),\n",
    "\t\t\t\t\t\t\tST_Point(max_lon, max_lat) ]\n",
    "\t\t\t\t\t\t)\n",
    "\t\t\t\t\t)\n",
    "\t\t\t\t)\n",
    "\t\t\t) ELSE 0\n",
    "\t\tEND AS area\n",
    "\tFROM changesets\n",
    "\t\tINNER JOIN youthmappers ON youthmappers.uid = changesets.uid\n",
    "\tWHERE changesets.created_at > date '2015-01-01'\n",
    "),\n",
    "aggregated_features_per_changeset AS (\n",
    "\tSELECT changeset_id,\n",
    "\t\tcount_if(\n",
    "\t\t\t(tags [ 'highway' ] is not null)\n",
    "\t\t\tand (version = 1)\n",
    "\t\t) as new_highways,\n",
    "\t\tcount_if(\n",
    "\t\t\t(tags [ 'building' ] is not null)\n",
    "\t\t\tand (version = 1)\n",
    "\t\t) as new_buildings,\n",
    "\t\tcount_if(\n",
    "\t\t\t(tags [ 'amenity' ] is not null)\n",
    "\t\t\tand (version = 1)\n",
    "\t\t) as new_amenities,\n",
    "\t\tcount_if(\n",
    "\t\t\t(tags [ 'highway' ] is not null)\n",
    "\t\t\tand (version > 1)\n",
    "\t\t) as edited_highways,\n",
    "\t\tcount_if(\n",
    "\t\t\t(tags [ 'building' ] is not null)\n",
    "\t\t\tand (version > 1)\n",
    "\t\t) as edited_buildings,\n",
    "\t\tcount_if(\n",
    "\t\t\t(tags [ 'amenity' ] is not null)\n",
    "\t\t\tand (version > 1)\n",
    "\t\t) as edited_amenities,\n",
    "\t\tcount_if(\n",
    "\t\t\ttype = 'node'\n",
    "\t\t\tand version > 1\n",
    "\t\t\tand cardinality(tags) = 0\n",
    "\t\t\tand visible = true\n",
    "\t\t) as edited_vertices,\n",
    "\t\tcount_if(visible = false) as deleted_elements,\n",
    "\t\tcount_if(\n",
    "\t\t\tvisible = false\n",
    "\t\t\tand type = 'node'\n",
    "\t\t) as deleted_nodes,\n",
    "\t\tcount_if(version > 1) as edited_elements,\n",
    "\t\tcount_if(\n",
    "\t\t\tversion > 1\n",
    "\t\t\tand cardinality(tags) > 0\n",
    "\t\t) as edited_features,\n",
    "\t\tcount_if(version = 1) as new_features\n",
    "\tFROM ym_changesets\n",
    "\t\tJOIN planet_history ON ym_changesets.changeset_id = planet_history.changeset\n",
    "\tWHERE cardinality(planet_history.tags) > 0\n",
    "\t\tOR type IN ('way', 'relation')\n",
    "\t\tOR (\n",
    "\t\t\ttype = 'node'\n",
    "\t\t\tAND version > 1\n",
    "\t\t)\n",
    "\tGROUP BY changeset_id\n",
    "),\n",
    "\n",
    "per_tile_user_day AS (\n",
    "\tSELECT sum(new_highways) as new_highways,\n",
    "\t\tsum(new_buildings) as new_buildings,\n",
    "\t\tsum(new_amenities) as new_amenities,\n",
    "\t\tsum(new_features) as new_features,\n",
    "\t\tsum(edited_highways) as edited_highways,\n",
    "\t\tsum(edited_buildings) as edited_buildings,\n",
    "\t\tsum(edited_amenities) as edited_amenities,\n",
    "\t\tsum(edited_features) as edited_features,\n",
    "\t\tsum(edited_vertices) as edited_vertices,\n",
    "\t\tsum(edited_elements) as edited_elements,\n",
    "\t\tsum(deleted_elements) as deleted_elements,\n",
    "\t\tsum(deleted_nodes) as deleted_nodes,\n",
    "\t\tsum(num_changes) as sum_edits,\n",
    "\t\tcount(DISTINCT(a.changeset_id)) as changeset_count,\n",
    "\t\tarbitrary(a.changeset_id) as arbitrary_changeset,\n",
    "\t\tslice(array_agg(a.changeset_id), 1, 5) as sample_changeset_ids,\n",
    "\t\tflatten(array_agg(hashtags)) as hashtags_lists,\n",
    "\t\thistogram(created_by) as tools,\n",
    "\t\tgeometry_union_agg(center) as point_agg,\n",
    "\t\tmin(min_lat) as min_lat,\n",
    "\t\tmin(min_lon) as min_lon,\n",
    "\t\tmax(max_lat) as max_lat,\n",
    "\t\tmax(max_lon) as max_lon,\n",
    "\t\tsum(area) as total_area,\n",
    "\t\ta.uid,\n",
    "\t\ta.quadkey,\n",
    "\t\ta._day\n",
    "\tFROM ym_changesets a\n",
    "\t\tJOIN aggregated_features_per_changeset b ON a.changeset_id = b.changeset_id\n",
    "\tGROUP BY uid,\n",
    "\t\tquadkey,\n",
    "\t\t_day\n",
    "),\n",
    "per_tile_user_day_with_ym AS (\n",
    "\tSELECT a._day,\n",
    "\t\ta.quadkey,\n",
    "\t\tST_Centroid(point_agg) as centroid,\n",
    "\t\tST_CONVEXHULL(point_agg) as convex_hull,\n",
    "\t\tnew_highways,\n",
    "\t\tnew_buildings,\n",
    "\t\tnew_amenities,\n",
    "\t\tedited_highways,\n",
    "\t\tedited_buildings,\n",
    "\t\tedited_amenities,\n",
    "\t\tnew_features,\n",
    "\t\tedited_features,\n",
    "\t\tedited_vertices,\n",
    "\t\tedited_elements,\n",
    "\t\tdeleted_elements,\n",
    "\t\tdeleted_nodes,\n",
    "\t\tsum_edits,\n",
    "\t\tarbitrary_changeset,\n",
    "\t\tsample_changeset_ids,\n",
    "\t\tchangeset_count,\n",
    "\t\tmin_lon,\n",
    "\t\tmax_lon,\n",
    "\t\tmin_lat,\n",
    "\t\tmax_lat,\n",
    "\t\ttotal_area,\n",
    "\t\tcast(a.tools as json) as tools,\n",
    "\t\tcast(a.hashtags_lists as json) as hashtags,\n",
    "\t\tb.*\n",
    "\tFROM per_tile_user_day a\n",
    "\t\tJOIN youthmappers b ON a.uid = b.uid\n",
    ")\n",
    "SELECT *,\n",
    "\tCASE\n",
    "\t\tWHEN chapter_lon IS NOT NULL\n",
    "\t\tAND chapter_lat IS NOT NULL THEN ST_DISTANCE(\n",
    "\t\t\tto_spherical_geography(ST_Point(chapter_lon, chapter_lat)),\n",
    "\t\t\tto_spherical_geography(centroid)\n",
    "\t\t) / 1000 ELSE NULL\n",
    "\tEND AS km_to_university\n",
    "FROM per_tile_user_day_with_ym\n",
    "ORDER BY _day DESC,\n",
    "\tuid DESC\n",
    "\"\"\""
   ]
  },
  {
   "cell_type": "code",
   "execution_count": null,
   "id": "biblical-fabric",
   "metadata": {
    "ExecuteTime": {
     "start_time": "2023-11-22T01:35:10.491Z"
    }
   },
   "outputs": [
    {
     "name": "stdout",
     "output_type": "stream",
     "text": [
      "QUEUED .. (5)\n",
      "RUNNING .. (10)\n",
      "RUNNING .. (15)\n",
      "RUNNING .. (20)\n",
      "RUNNING .. (25)\n"
     ]
    }
   ],
   "source": [
    "ym_changesets = run_and_wait_for_query(query_string = youthmapper_changesets)"
   ]
  },
  {
   "cell_type": "code",
   "execution_count": 13,
   "id": "finite-distance",
   "metadata": {
    "ExecuteTime": {
     "end_time": "2023-10-17T03:34:56.246686Z",
     "start_time": "2023-10-17T03:32:54.508725Z"
    }
   },
   "outputs": [],
   "source": [
    "s3 = boto3.client('s3')\n",
    "with open('youthmapper_changesets_latest.csv', 'wb') as f:\n",
    "    s3.download_fileobj('yetigeolabs', f'youthmappers/query_results/{ym_changesets}.csv', f)"
   ]
  },
  {
   "cell_type": "code",
   "execution_count": null,
   "id": "above-carpet",
   "metadata": {},
   "outputs": [],
   "source": []
  }
 ],
 "metadata": {
  "hide_input": false,
  "kernelspec": {
   "display_name": "Python 3 (ipykernel)",
   "language": "python",
   "name": "python3"
  },
  "language_info": {
   "codemirror_mode": {
    "name": "ipython",
    "version": 3
   },
   "file_extension": ".py",
   "mimetype": "text/x-python",
   "name": "python",
   "nbconvert_exporter": "python",
   "pygments_lexer": "ipython3",
   "version": "3.11.3"
  },
  "varInspector": {
   "cols": {
    "lenName": 16,
    "lenType": 16,
    "lenVar": 40
   },
   "kernels_config": {
    "python": {
     "delete_cmd_postfix": "",
     "delete_cmd_prefix": "del ",
     "library": "var_list.py",
     "varRefreshCmd": "print(var_dic_list())"
    },
    "r": {
     "delete_cmd_postfix": ") ",
     "delete_cmd_prefix": "rm(",
     "library": "var_list.r",
     "varRefreshCmd": "cat(var_dic_list()) "
    }
   },
   "types_to_exclude": [
    "module",
    "function",
    "builtin_function_or_method",
    "instance",
    "_Feature"
   ],
   "window_display": false
  }
 },
 "nbformat": 4,
 "nbformat_minor": 5
}
